{
 "cells": [
  {
   "cell_type": "markdown",
   "metadata": {},
   "source": [
    "# Homework 1: Github & Jupyter"
   ]
  },
  {
   "cell_type": "markdown",
   "metadata": {},
   "source": [
    "You first homework assignemnt is designed to get you setup and started with GitHub and Jupyter notebooks as discussed in your first recitation. For help with this assignment see the Wiki on the [class Github repository](https://github.com/CoAxLab/DataSciencePsychNeuro_CMU85732/wiki)\n",
    "\n",
    "    \n",
    "**Note:** This repository will be where you post your homeworks and other assignments throughout the semester."
   ]
  },
  {
   "cell_type": "markdown",
   "metadata": {},
   "source": [
    "---\n",
    "1. Setup a GitHub account and create a new repository with the following name:\n",
    "    * <your\\_last\\_name>\\_DSPN\\_S20\n",
    "    * Add the users _coaxlab0_ (that’s a zero at the end) and _wuyunan1213_ as collaborators.\n"
   ]
  },
  {
   "cell_type": "markdown",
   "metadata": {},
   "source": [
    "2. Clone the repository locally on your computer"
   ]
  },
  {
   "cell_type": "markdown",
   "metadata": {},
   "source": [
    "3. Install jupyter notebooks on your computer:\n",
    "    * Integrate with R (update R to version 3.4.3 or latest version)\n",
    "    * See help on the Wiki from the Class Github repository"
   ]
  },
  {
   "cell_type": "markdown",
   "metadata": {},
   "source": [
    "4. Make a new Jupyter notebook titled: Homework1_HelloWorld.ipynb\n",
    "    * Make a single markdown text cell and type \"Hello World!\""
   ]
  },
  {
   "cell_type": "markdown",
   "metadata": {},
   "source": [
    "5. Push your Jupyter notebook to you made to Github"
   ]
  },
  {
   "cell_type": "markdown",
   "metadata": {},
   "source": [
    "6. Email me a link to the notebook via Canvas."
   ]
  },
  {
   "cell_type": "markdown",
   "metadata": {},
   "source": [
    "**Due:** 5pm EST, January 21, 2020"
   ]
  }
 ],
 "metadata": {
  "kernelspec": {
   "display_name": "R",
   "language": "R",
   "name": "ir"
  }
 },
 "nbformat": 4,
 "nbformat_minor": 2
}
