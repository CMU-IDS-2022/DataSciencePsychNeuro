{
  "nbformat": 4,
  "nbformat_minor": 0,
  "metadata": {
    "colab": {
      "name": "Homework11.ipynb",
      "provenance": [],
      "collapsed_sections": []
    },
    "kernelspec": {
      "display_name": "R",
      "language": "R",
      "name": "ir"
    },
    "language_info": {
      "codemirror_mode": "r",
      "file_extension": ".r",
      "mimetype": "text/x-r-source",
      "name": "R",
      "pygments_lexer": "r",
      "version": "3.6.2"
    }
  },
  "cells": [
    {
      "cell_type": "markdown",
      "metadata": {
        "id": "YO9Lm6oNn8Ol"
      },
      "source": [
        "# Homework 11:  Tree-based methods\n",
        "This is the last homework assignment! It is designed to give you practice with tree-based methods - specifically, decision trees and random forests.\n",
        "\n",
        "​\n",
        "You will need to download the **unrestricted_trimmed_1_7_2020_10_50_44.csv** file from the *Homework/hcp_data* folder in the class GitHub repository. \n",
        "\n",
        "​\n",
        "This data is a portion of the [Human Connectome Project database](http://www.humanconnectomeproject.org/). It provides measures of cognitive tasks and brain morphology measurements from 1206 participants. The full description of each variable is provided in the **HCP_S1200_DataDictionary_April_20_2018.csv** file in the *Homework/hcp_data* folder in the class GitHub repository."
      ]
    },
    {
      "cell_type": "markdown",
      "metadata": {
        "id": "h8YQJS8Dn8Or"
      },
      "source": [
        "---\n",
        "## 1. Loading the Data (0 points)\n",
        "\n",
        "Use the `setwd` and `read.csv` functions to load data from the **unrestricted_trimmed_1_7_2020_10_50_44.csv** file. Remove all variables except column 38 (`Flanker_Unadj`), and columns 110 to 124 (the first 15 variables that start with `FS_`). Remove all _na_ values."
      ]
    },
    {
      "cell_type": "code",
      "metadata": {
        "id": "ja0PYvbIn8Os"
      },
      "source": [
        "# WRITE YOUR CODE HERE"
      ],
      "execution_count": 1,
      "outputs": []
    },
    {
      "cell_type": "markdown",
      "metadata": {
        "id": "ZyRo6pa9n8Oy"
      },
      "source": [
        "---\n",
        "## 2. Fitting a single tree (3 points)"
      ]
    },
    {
      "cell_type": "markdown",
      "metadata": {
        "id": "ZOwhhD43n8Oz"
      },
      "source": [
        "We want to fit a decision tree to predict flanker task performance using the neural data you have loaded.\n",
        "\n",
        "(a) Load the `tree` library. Identify a random half of the observations to be set aside as test data. Then fit a tree on the training data that predicts `Flanker_Unadj` using all the other variables. "
      ]
    },
    {
      "cell_type": "code",
      "metadata": {
        "id": "kzaHod15MlC9"
      },
      "source": [
        "# WRITE YOUR CODE HERE"
      ],
      "execution_count": null,
      "outputs": []
    },
    {
      "cell_type": "markdown",
      "metadata": {
        "id": "ipLX_iZ9xmO4"
      },
      "source": [
        "(b) Use `summary()` and `plot()` to get a sense of the fitted tree."
      ]
    },
    {
      "cell_type": "code",
      "metadata": {
        "id": "Eozp-KHuqRqa"
      },
      "source": [
        "# WRITE YOUR CODE HERE"
      ],
      "execution_count": 2,
      "outputs": []
    },
    {
      "cell_type": "markdown",
      "metadata": {
        "id": "rjPHyiBX3fTH"
      },
      "source": [
        "(c) For the training and test sets separately, do the following: (i) use the model to generate predictions, (ii) plot the tree predictions against the actual values of `Flanker_Unadj`, and (iii) calculate the mean-squared error.\n",
        "\n",
        "\n"
      ]
    },
    {
      "cell_type": "code",
      "metadata": {
        "id": "96ispkV1_Ok1"
      },
      "source": [
        "# WRITE YOUR CODE HERE"
      ],
      "execution_count": 3,
      "outputs": []
    },
    {
      "cell_type": "markdown",
      "metadata": {
        "id": "agQS7el3BMKM"
      },
      "source": [
        "(d) What might you try next to improve the tree's testing error, and why might it help? \n",
        "> *Your response here*"
      ]
    },
    {
      "cell_type": "markdown",
      "metadata": {
        "id": "5qj_nJ3tUyKZ"
      },
      "source": [
        "## 3. Random Forests (3 points)"
      ]
    },
    {
      "cell_type": "markdown",
      "metadata": {
        "id": "g-OHBcVPU8HA"
      },
      "source": [
        "(a) Now let's try out the random forests method. Load the `randomForest` library and use `randomForest()` to fit a model that uses 50 trees."
      ]
    },
    {
      "cell_type": "code",
      "metadata": {
        "id": "rYA40fyfV6li"
      },
      "source": [
        "# WRITE YOUR CODE HERE"
      ],
      "execution_count": 4,
      "outputs": []
    },
    {
      "cell_type": "markdown",
      "metadata": {
        "id": "FzRsG-l4pDh9"
      },
      "source": [
        "(b) Like in part (c) of section 2, use the model to generate predictions for both the train and test data. Plot the predicted `Flanker_Unadj` values relative to the original ones for each data set, and calculate the test and train MSEs. "
      ]
    },
    {
      "cell_type": "code",
      "metadata": {
        "id": "nYdJcUHjpXNp"
      },
      "source": [
        "# WRITE YOUR CODE HERE"
      ],
      "execution_count": 5,
      "outputs": []
    },
    {
      "cell_type": "markdown",
      "metadata": {
        "id": "2htQ94xuWXub"
      },
      "source": [
        "How do the train and test error compare with those from the single decision tree? \n",
        "> *Your response here*"
      ]
    },
    {
      "cell_type": "markdown",
      "metadata": {
        "id": "ZPFOhAdty3hg"
      },
      "source": [
        "(c) Look at the importance of each variable. "
      ]
    },
    {
      "cell_type": "code",
      "metadata": {
        "id": "cDLjRa4uy3hg"
      },
      "source": [
        "# WRITE YOUR CODE HERE"
      ],
      "execution_count": 6,
      "outputs": []
    },
    {
      "cell_type": "markdown",
      "metadata": {
        "id": "Z5yjXZQBy3hh"
      },
      "source": [
        "Which variables are the strongest contributors to explaining variance in the Flanker task?"
      ]
    },
    {
      "cell_type": "markdown",
      "metadata": {
        "id": "jpJvrWdTy3hh"
      },
      "source": [
        "> *Your response here*"
      ]
    },
    {
      "cell_type": "markdown",
      "metadata": {
        "id": "NcvFkvACy3hh"
      },
      "source": [
        "## 4. Bias-Variance Tradeoff in Random Forest Models (4 points)\n",
        "\n",
        "(a) Using a `for` loop (or one of the `apply` functions if you prefer), fit random forest models with number of trees ranging from 1 to 50. Save the out-of-bag (OOB) error *and* hold-out test error for each number of trees. Set the number of variables to subsamble on each tree (`mtry`) to 4. *Hint: You can access the OOB mean squared error for `m` trees using `rfmodel$mse[m]`, where `rfmodel` is replaced with your model name.*"
      ]
    },
    {
      "cell_type": "code",
      "metadata": {
        "id": "bwjDuQ-ry3hh"
      },
      "source": [
        "ntrees=50\n",
        "maxm = 4\n",
        "oob.err<-double(ntrees) # initialize empty vector for OOB mse \n",
        "test.err<-double(ntrees) # initialize empty vector for hold-out test mse\n",
        "\n",
        "for (m in 1:ntrees) {\n",
        "    # WRITE YOUR CODE HERE\n",
        "}"
      ],
      "execution_count": null,
      "outputs": []
    },
    {
      "cell_type": "markdown",
      "metadata": {
        "id": "JiOgl27A21d-"
      },
      "source": [
        "(b) Plot the two errors as a function of number of trees."
      ]
    },
    {
      "cell_type": "code",
      "metadata": {
        "id": "PyPT2Uhsy3hh"
      },
      "source": [
        "# WRITE YOUR CODE HERE"
      ],
      "execution_count": 7,
      "outputs": []
    },
    {
      "cell_type": "markdown",
      "metadata": {
        "id": "SESuIcIsy3hi"
      },
      "source": [
        "How does test error change as you increase number of trees?"
      ]
    },
    {
      "cell_type": "markdown",
      "metadata": {
        "id": "5OZsyDGoy3hi"
      },
      "source": [
        "> *Your response here*  "
      ]
    },
    {
      "cell_type": "markdown",
      "metadata": {
        "id": "VixC-QWUy3hi"
      },
      "source": [
        "(c) Repeat the same analysis as in (a), looking at OOB error and test error, but now vary the node size (`nodesize`) which relates to the depth of each tree. Keep number of trees (`ntree`) at 50 and number of variables at each split (`mtry`) at 4."
      ]
    },
    {
      "cell_type": "code",
      "metadata": {
        "id": "eflip8FDy3hi"
      },
      "source": [
        "# WRITE YOUR CODE HERE"
      ],
      "execution_count": null,
      "outputs": []
    },
    {
      "cell_type": "markdown",
      "metadata": {
        "id": "GoZ3RMNk3P1F"
      },
      "source": [
        "(d) Plot the two errors by node size. "
      ]
    },
    {
      "cell_type": "code",
      "metadata": {
        "id": "VyNsSYnLy3hi"
      },
      "source": [
        "# WRITE YOUR CODE HERE"
      ],
      "execution_count": 8,
      "outputs": []
    },
    {
      "cell_type": "markdown",
      "metadata": {
        "id": "8BmXrFGXy3hj"
      },
      "source": [
        "How does test error change as you increase node size?"
      ]
    },
    {
      "cell_type": "markdown",
      "metadata": {
        "id": "zK8NH-xay3hj"
      },
      "source": [
        "> *Your response here*"
      ]
    },
    {
      "cell_type": "markdown",
      "metadata": {
        "id": "TljSp9ZxagIn"
      },
      "source": [
        "## Bonus (1 point) \n",
        "Usually when we look at test error for models of increasing complexity, the curve is U-shaped. Test error goes down for a bit and then starts increasing as the model beginnings overfitting to the training data. Why do we not see this trend as number of trees and node size increase?\n",
        "\n",
        ">*Your response here* "
      ]
    },
    {
      "cell_type": "markdown",
      "metadata": {
        "id": "8PoekVTAn8O4"
      },
      "source": [
        "**DUE:** 5pm EST, Sunday May 2, 2021"
      ]
    },
    {
      "cell_type": "markdown",
      "metadata": {
        "id": "PTVa2-bEn8O4"
      },
      "source": [
        "**IMPORTANT** Did you collaborate with anyone on this assignment? If so, list their names here. \n",
        "> *Someone's Name*"
      ]
    }
  ]
}