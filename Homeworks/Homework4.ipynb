{
 "cells": [
  {
   "cell_type": "markdown",
   "metadata": {},
   "source": [
    "# Homework 4: \n",
    "\n",
    "**DUE:** 5pm EST, Feb 27, 2020"
   ]
  },
  {
   "cell_type": "markdown",
   "metadata": {},
   "source": [
    "### **Conceptual:** Short answer questions. Be concise"
   ]
  },
  {
   "cell_type": "markdown",
   "metadata": {},
   "source": [
    "---\n",
    "\n",
    "1. Using the mean squared error (MSE) as your objective function allows for a closed form solution to finding the maximum likelihood estimate (MLE) of your model parameters in linear regression. Let’s consider the simple, single predictor variable model $Y= \\beta_0 + \\beta_1 X $. \n",
    "\n",
    "a) Use algebra to show how you can expand out the MSE to get from i to ii below. Do your proof using Latex equation formatting.\n"
   ]
  },
  {
   "cell_type": "markdown",
   "metadata": {},
   "source": [
    " _i)_ $MSE(\\beta_0, \\beta_1)=E[ (Y-(\\beta_0 + \\beta_1 X))^2]$ \n",
    " \n",
    " _ii)_ $MSE(\\beta_0, \\beta_1)=E[Y^2] -2 \\beta_0E[Y]-2 \\beta_1 Cov[X,Y]-2 \\beta_1 E[X]E[Y]+ \\beta_0^2 +2 \\beta_0 \\beta_1 E[X]+\\beta_1^2 Var[X]+ \\beta_1^2 (E[X])^2$"
   ]
  },
  {
   "cell_type": "markdown",
   "metadata": {},
   "source": [
    "**Answer:**\n",
    "\n"
   ]
  },
  {
   "cell_type": "markdown",
   "metadata": {},
   "source": []
  },
  {
   "cell_type": "markdown",
   "metadata": {},
   "source": [
    "b) Prove that the MLE of $\\beta_0$ is $E[Y]- \\beta_1 E[X]$ by taking the derivative of _ii_ above, with respect to $\\beta_0$, setting the derivative to zero, and solving for $\\beta_0$."
   ]
  },
  {
   "cell_type": "markdown",
   "metadata": {},
   "source": [
    "**Answer:**\n",
    "\n",
    "      "
   ]
  },
  {
   "cell_type": "markdown",
   "metadata": {},
   "source": [
    "c) Prove that the MLE for $\\beta_1$ is $Cov[X,Y]/Var[X]$ by taking the derivative of _ii_ above, with respect to $\\beta_1$, setting the derivative to zero, and solving for $\\beta_1$. "
   ]
  },
  {
   "cell_type": "markdown",
   "metadata": {},
   "source": [
    "**Answer:**\n"
   ]
  },
  {
   "cell_type": "markdown",
   "metadata": {},
   "source": [
    "---\n",
    "\n",
    "2. Using the MLE solutions shown in 1(b) and 1(c) above, show how, in the case of simple linear regression, the least squares line always passes through the point $(E(X), E(Y))$ or $(x,y)$). What does this imply about the leverage that the response and predictor variable means have on the ordinary least squares solution?"
   ]
  },
  {
   "cell_type": "markdown",
   "metadata": {},
   "source": [
    "**Answer:**\n",
    "\n",
    "\n"
   ]
  },
  {
   "cell_type": "markdown",
   "metadata": {},
   "source": [
    "---\n",
    "3. In the case where X and Y are standard normal variables (i.e. $N(0,1)$), show that the ordinary least squares solution converges to the same solution as the Pearson correlation coefficient $r=Cov[X,Y]/(\\sigma_X * \\sigma_Y)$. What exactly do they both converge to?\n"
   ]
  },
  {
   "cell_type": "markdown",
   "metadata": {},
   "source": [
    "**Answer:**\n"
   ]
  },
  {
   "cell_type": "markdown",
   "metadata": {},
   "source": [
    "---\n",
    "\n",
    "4. Three methods for evaluating a regression model’s performance are $r^2$, $RSE$, and the $F$ Test. Show the functional form of each method and describe conceptually what it is telling you about your model."
   ]
  },
  {
   "cell_type": "markdown",
   "metadata": {},
   "source": [
    "**Answer:**\n"
   ]
  },
  {
   "cell_type": "markdown",
   "metadata": {},
   "source": [
    "---\n",
    "\n",
    "### **Applied:** Show your code & plots\n",
    "\n",
    "We will use the HCP dataset (see Homework 2) for these problems. Include conceptual answers to questions as comments in code cells."
   ]
  },
  {
   "cell_type": "markdown",
   "metadata": {},
   "source": [
    "5. Here we will look at how different measures including gender, gray matter volume, and white matter volume can associate with the unadjusted flanker task score \n",
    "\n",
    "(a) Load the HCP data set and subset the data by selecting only the Subject, Gender, Flanker-Unadj, FS_Tot_WM_Vol and FS_Total_GM_Vol columns."
   ]
  },
  {
   "cell_type": "code",
   "execution_count": 1,
   "metadata": {},
   "outputs": [],
   "source": [
    "# -------------------------------\n",
    "# Question 5(a)\n",
    "# -------------------------------\n"
   ]
  },
  {
   "cell_type": "markdown",
   "metadata": {},
   "source": [
    "(b) Fit a simple linear regression model with unadjusted Flanker task scores as the repsonse variable (i.e., Y) and total grey matter volume as the predictor variable (i.e., X). Show the summary of the model, extract the coefficients and the confidence intervals, and report what inference you would make based on these numbers.\n"
   ]
  },
  {
   "cell_type": "code",
   "execution_count": 2,
   "metadata": {},
   "outputs": [],
   "source": [
    "# -------------------------------\n",
    "# Question 5(b)\n",
    "# -------------------------------\n"
   ]
  },
  {
   "cell_type": "markdown",
   "metadata": {},
   "source": [
    "(c) Generate all the residual plots to check whether the fit model meets our assumptions. Then generate a scatter plot with *ggplot*, using *geom_smooth*, to show the residuals and check our assumptions. Does it look like the data is meeting the assumptions of linear regression. Why or why not?"
   ]
  },
  {
   "cell_type": "code",
   "execution_count": 3,
   "metadata": {},
   "outputs": [],
   "source": [
    "# -------------------------------\n",
    "# Question 5(c)\n",
    "# -------------------------------\n"
   ]
  },
  {
   "cell_type": "markdown",
   "metadata": {},
   "source": [
    "\n",
    "6. Here we will ask about the same associations between the grey matter volume and Flanker task performance, but from a prediction perspective. Let's say you collected more data for 5 more participants and you get their total grey matter volume as follows: 612432, 702562, 596433, 695982, 649230. Predict what their unadjusted Flanker score is going to be based on the model that we just fit. Store all the values and CI bounds in a data frame called *predicted_table* ."
   ]
  },
  {
   "cell_type": "code",
   "execution_count": 4,
   "metadata": {},
   "outputs": [],
   "source": [
    "# -------------------------------\n",
    "# Question 6\n",
    "# -------------------------------\n"
   ]
  },
  {
   "cell_type": "markdown",
   "metadata": {},
   "source": [
    "7. Now we can explore main effects and interactions\n",
    "\n",
    "(a) Fit a multiple regression model with the unadjusted Flanker scores as the response variable and white matter volume, grey matter volume, and gender included as main effect terms (i.e., predictor variables)."
   ]
  },
  {
   "cell_type": "code",
   "execution_count": 5,
   "metadata": {},
   "outputs": [],
   "source": [
    "# -------------------------------\n",
    "# Question 7(a)\n",
    "# -------------------------------\n",
    "#\n"
   ]
  },
  {
   "cell_type": "markdown",
   "metadata": {},
   "source": [
    "(b) Now update the model with gender and white matter volume removed. What has changed?"
   ]
  },
  {
   "cell_type": "code",
   "execution_count": 6,
   "metadata": {},
   "outputs": [],
   "source": [
    "# -------------------------------\n",
    "# Question 7(b)\n",
    "# -------------------------------\n"
   ]
  },
  {
   "cell_type": "markdown",
   "metadata": {},
   "source": [
    "(c) Construct a new model but add in a new interaction term for the interaction between gender and gray matter volume. Extract all of the coefficients for the model. What have we learned?\n"
   ]
  },
  {
   "cell_type": "code",
   "execution_count": 7,
   "metadata": {},
   "outputs": [],
   "source": [
    "# -------------------------------\n",
    "# Question 7(c)\n",
    "# -------------------------------\n"
   ]
  }
 ],
 "metadata": {
  "kernelspec": {
   "display_name": "R",
   "language": "R",
   "name": "ir"
  },
  "language_info": {
   "codemirror_mode": "r",
   "file_extension": ".r",
   "mimetype": "text/x-r-source",
   "name": "R",
   "pygments_lexer": "r",
   "version": "3.5.2"
  }
 },
 "nbformat": 4,
 "nbformat_minor": 2
}
