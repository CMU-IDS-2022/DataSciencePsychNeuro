{
 "cells": [
  {
   "cell_type": "markdown",
   "metadata": {},
   "source": [
    "# Bootstrap & Permutation Tests\n",
    "\n",
    "Sections:\n",
    "\n",
    "1. The Null Hypothesis\n",
    "2. Permutation testing\n",
    "3. The Bootstrap\n",
    "\n",
    "The lecture draws from Chapters 5 of James, G., Witten, D., Hastie, T., & Tibshirani, R. (2013). \"An introduction to statistical learning: with applications in r.\""
   ]
  },
  {
   "cell_type": "markdown",
   "metadata": {},
   "source": [
    "---\n",
    "# 1. The Null Hypothesis\n",
    "\n",
    "In the last lecture we mentioned how the _p-value_ is a probability estimate that you would obtain the data you have given that the null hypothesis is true. Now let's take a closer look at what the null hypothesis is in the context of _parametric tests_. \n",
    "\n",
    "Consider a simple Student's t-test. Remember that the form of a two-sample t-test is.\n",
    "\n",
    "$$ t = \\frac{\\mu_A - \\mu_B}{\\sigma_{A,B}}$$\n",
    "\n",
    "Let's look carefully at this statistic and what it is telling us. The core evaluation is the difference in the means (i.e., $\\mu_A - \\mu_B$) in the numerator. The denominator is the pooled standard deviation of groups A and B (essentially it's the average standard deviation between the two groups, which is why an assumption of the t-test is that the variances are equal). So essentially it is calculating the ratio of the difference in the means relative to their distributions.\n",
    "\n",
    "The way we typically interpret a t-test is to calculate the t-value, take the degrees of freedom (n-1), and getthe corresponding p-value from a look up table.\n",
    "\n",
    "But take a closer look. What is the null hypothesis here? At first glance it would appear that the null is that the difference in the means is 0 (i.e., $\\mu_A - \\mu_B = 0$). However, this is not completely correct. The null hypothesis for a t-test is that the difference between the means is 0, _relative to the deviation of the values in the two groups_. In other words, the t-test makes the assumption that you could get a non-zero difference between two means if they were sampled from the same distribution just by chance.\n",
    "\n",
    "This is what makes the t-test a parametric test. It is assuming a particular shape of the null disribution. In this case it assumes that the null is sampled from a normal distribution with a mean of 0 and a standard deviation of $\\sigma_{A,B}$ (i.e., $H_0 \\sim N(0, \\sigma_{A,B})$). \n",
    "\n",
    "But what happens if your data doesn't meet the assumptions of the t-test? What if the data isn't normally distributed? What if the two groups don't have equal variances? \n",
    "\n",
    "In situations like these the shape of the **real** null distribution doesn't match our assumption of $N(0, \\sigma_{A,B})$.\n",
    "\n",
    "So instead of assuming a particular shape or form of your null distribution, why not just estimate what your chance distribution is in the first place?\n"
   ]
  },
  {
   "cell_type": "markdown",
   "metadata": {},
   "source": [
    "---\n",
    "# Permutation testing: resampling without replacement\n",
    "\n",
    "Permutation tests are ways of using resampling procedures to direclty estimate what chance would look like use the data set that you have. Thus it is a _nonparametric_ class of statistics. You can use permutation tests to generate a null distribution for hypothesis testing for **any** form of $Y=f(X)$. \n",
    "\n",
    "<br>\n",
    "\n",
    "## The Algorithm\n",
    "\n",
    "All permutation tests follow the same four steps.\n",
    "\n",
    "1. Calculate the original comparison of interest (e.g., difference of means, correlation, regression) on the original data set.\n",
    "\n",
    "2. Run m iterations where you permute _across the comparison of interest_ and recalculate the relevant statistic.\n",
    "    * For example, if comparing between means, scramble group assignment, if running a regression, shuffle the ordering of either $X$ or $Y$ (or both).\n",
    "   \n",
    "3. Once all _m_ permuted tests are completed, calculate the probability that you observed a stronger effect in the permutation set than in the original, unpermuted data set.\n",
    "\n",
    "<br>\n",
    "This is called a resampling _without_ replacement procedure, because on each iteration you are randomly sampling from the data to build a new data set but only selecting each observation one. \n",
    "\n",
    "<br>\n",
    "\n",
    "**Example:**\n",
    "\n",
    "Let's consider the housing data set from Boston included in the MASS libary. For this example we'll just look at the median housing value (_medv_) and the dummy variable indicating whether the neighborhood is along the Charles River (_chas_)\n"
   ]
  },
  {
   "cell_type": "code",
   "execution_count": 151,
   "metadata": {},
   "outputs": [
    {
     "name": "stderr",
     "output_type": "stream",
     "text": [
      "The following objects are masked from Boston (pos = 3):\n",
      "\n",
      "    age, black, chas, crim, dis, indus, lstat, medv, nox, ptratio, rad,\n",
      "    rm, tax, zn\n",
      "\n",
      "The following objects are masked from Boston (pos = 4):\n",
      "\n",
      "    age, black, chas, crim, dis, indus, lstat, medv, nox, ptratio, rad,\n",
      "    rm, tax, zn\n",
      "\n",
      "The following objects are masked from Boston (pos = 5):\n",
      "\n",
      "    age, black, chas, crim, dis, indus, lstat, medv, nox, ptratio, rad,\n",
      "    rm, tax, zn\n",
      "\n",
      "The following objects are masked from Boston (pos = 6):\n",
      "\n",
      "    age, black, chas, crim, dis, indus, lstat, medv, nox, ptratio, rad,\n",
      "    rm, tax, zn\n",
      "\n",
      "The following objects are masked from Boston (pos = 7):\n",
      "\n",
      "    age, black, chas, crim, dis, indus, lstat, medv, nox, ptratio, rad,\n",
      "    rm, tax, zn\n",
      "\n",
      "The following objects are masked from Boston (pos = 8):\n",
      "\n",
      "    age, black, chas, crim, dis, indus, lstat, medv, nox, ptratio, rad,\n",
      "    rm, tax, zn\n",
      "\n",
      "The following objects are masked from Boston (pos = 9):\n",
      "\n",
      "    age, black, chas, crim, dis, indus, lstat, medv, nox, ptratio, rad,\n",
      "    rm, tax, zn\n",
      "\n",
      "The following objects are masked from Boston (pos = 10):\n",
      "\n",
      "    age, black, chas, crim, dis, indus, lstat, medv, nox, ptratio, rad,\n",
      "    rm, tax, zn\n",
      "\n",
      "The following objects are masked from Boston (pos = 11):\n",
      "\n",
      "    age, black, chas, crim, dis, indus, lstat, medv, nox, ptratio, rad,\n",
      "    rm, tax, zn\n",
      "\n",
      "The following objects are masked from Boston (pos = 12):\n",
      "\n",
      "    age, black, chas, crim, dis, indus, lstat, medv, nox, ptratio, rad,\n",
      "    rm, tax, zn\n",
      "\n",
      "The following objects are masked from Boston (pos = 13):\n",
      "\n",
      "    age, black, chas, crim, dis, indus, lstat, medv, nox, ptratio, rad,\n",
      "    rm, tax, zn\n",
      "\n",
      "The following objects are masked from Boston (pos = 14):\n",
      "\n",
      "    age, black, chas, crim, dis, indus, lstat, medv, nox, ptratio, rad,\n",
      "    rm, tax, zn\n",
      "\n"
     ]
    },
    {
     "data": {
      "text/html": [
       "<table>\n",
       "<thead><tr><th scope=col>medv</th><th scope=col>chas</th></tr></thead>\n",
       "<tbody>\n",
       "\t<tr><td>24.0</td><td>0   </td></tr>\n",
       "\t<tr><td>21.6</td><td>0   </td></tr>\n",
       "\t<tr><td>34.7</td><td>0   </td></tr>\n",
       "\t<tr><td>33.4</td><td>0   </td></tr>\n",
       "\t<tr><td>36.2</td><td>0   </td></tr>\n",
       "\t<tr><td>28.7</td><td>0   </td></tr>\n",
       "\t<tr><td>22.9</td><td>0   </td></tr>\n",
       "\t<tr><td>27.1</td><td>0   </td></tr>\n",
       "\t<tr><td>16.5</td><td>0   </td></tr>\n",
       "\t<tr><td>18.9</td><td>0   </td></tr>\n",
       "\t<tr><td>15.0</td><td>0   </td></tr>\n",
       "\t<tr><td>18.9</td><td>0   </td></tr>\n",
       "\t<tr><td>21.7</td><td>0   </td></tr>\n",
       "\t<tr><td>20.4</td><td>0   </td></tr>\n",
       "\t<tr><td>18.2</td><td>0   </td></tr>\n",
       "\t<tr><td>19.9</td><td>0   </td></tr>\n",
       "\t<tr><td>23.1</td><td>0   </td></tr>\n",
       "\t<tr><td>17.5</td><td>0   </td></tr>\n",
       "\t<tr><td>20.2</td><td>0   </td></tr>\n",
       "\t<tr><td>18.2</td><td>0   </td></tr>\n",
       "\t<tr><td>13.6</td><td>0   </td></tr>\n",
       "\t<tr><td>19.6</td><td>0   </td></tr>\n",
       "\t<tr><td>15.2</td><td>0   </td></tr>\n",
       "\t<tr><td>14.5</td><td>0   </td></tr>\n",
       "\t<tr><td>15.6</td><td>0   </td></tr>\n",
       "\t<tr><td>13.9</td><td>0   </td></tr>\n",
       "\t<tr><td>16.6</td><td>0   </td></tr>\n",
       "\t<tr><td>14.8</td><td>0   </td></tr>\n",
       "\t<tr><td>18.4</td><td>0   </td></tr>\n",
       "\t<tr><td>21.0</td><td>0   </td></tr>\n",
       "\t<tr><td>⋮</td><td>⋮</td></tr>\n",
       "\t<tr><td>16.7</td><td>0   </td></tr>\n",
       "\t<tr><td>12.0</td><td>0   </td></tr>\n",
       "\t<tr><td>14.6</td><td>0   </td></tr>\n",
       "\t<tr><td>21.4</td><td>0   </td></tr>\n",
       "\t<tr><td>23.0</td><td>0   </td></tr>\n",
       "\t<tr><td>23.7</td><td>0   </td></tr>\n",
       "\t<tr><td>25.0</td><td>0   </td></tr>\n",
       "\t<tr><td>21.8</td><td>0   </td></tr>\n",
       "\t<tr><td>20.6</td><td>0   </td></tr>\n",
       "\t<tr><td>21.2</td><td>0   </td></tr>\n",
       "\t<tr><td>19.1</td><td>0   </td></tr>\n",
       "\t<tr><td>20.6</td><td>0   </td></tr>\n",
       "\t<tr><td>15.2</td><td>0   </td></tr>\n",
       "\t<tr><td> 7.0</td><td>0   </td></tr>\n",
       "\t<tr><td> 8.1</td><td>0   </td></tr>\n",
       "\t<tr><td>13.6</td><td>0   </td></tr>\n",
       "\t<tr><td>20.1</td><td>0   </td></tr>\n",
       "\t<tr><td>21.8</td><td>0   </td></tr>\n",
       "\t<tr><td>24.5</td><td>0   </td></tr>\n",
       "\t<tr><td>23.1</td><td>0   </td></tr>\n",
       "\t<tr><td>19.7</td><td>0   </td></tr>\n",
       "\t<tr><td>18.3</td><td>0   </td></tr>\n",
       "\t<tr><td>21.2</td><td>0   </td></tr>\n",
       "\t<tr><td>17.5</td><td>0   </td></tr>\n",
       "\t<tr><td>16.8</td><td>0   </td></tr>\n",
       "\t<tr><td>22.4</td><td>0   </td></tr>\n",
       "\t<tr><td>20.6</td><td>0   </td></tr>\n",
       "\t<tr><td>23.9</td><td>0   </td></tr>\n",
       "\t<tr><td>22.0</td><td>0   </td></tr>\n",
       "\t<tr><td>11.9</td><td>0   </td></tr>\n",
       "</tbody>\n",
       "</table>\n"
      ],
      "text/latex": [
       "\\begin{tabular}{r|ll}\n",
       " medv & chas\\\\\n",
       "\\hline\n",
       "\t 24.0 & 0   \\\\\n",
       "\t 21.6 & 0   \\\\\n",
       "\t 34.7 & 0   \\\\\n",
       "\t 33.4 & 0   \\\\\n",
       "\t 36.2 & 0   \\\\\n",
       "\t 28.7 & 0   \\\\\n",
       "\t 22.9 & 0   \\\\\n",
       "\t 27.1 & 0   \\\\\n",
       "\t 16.5 & 0   \\\\\n",
       "\t 18.9 & 0   \\\\\n",
       "\t 15.0 & 0   \\\\\n",
       "\t 18.9 & 0   \\\\\n",
       "\t 21.7 & 0   \\\\\n",
       "\t 20.4 & 0   \\\\\n",
       "\t 18.2 & 0   \\\\\n",
       "\t 19.9 & 0   \\\\\n",
       "\t 23.1 & 0   \\\\\n",
       "\t 17.5 & 0   \\\\\n",
       "\t 20.2 & 0   \\\\\n",
       "\t 18.2 & 0   \\\\\n",
       "\t 13.6 & 0   \\\\\n",
       "\t 19.6 & 0   \\\\\n",
       "\t 15.2 & 0   \\\\\n",
       "\t 14.5 & 0   \\\\\n",
       "\t 15.6 & 0   \\\\\n",
       "\t 13.9 & 0   \\\\\n",
       "\t 16.6 & 0   \\\\\n",
       "\t 14.8 & 0   \\\\\n",
       "\t 18.4 & 0   \\\\\n",
       "\t 21.0 & 0   \\\\\n",
       "\t ⋮ & ⋮\\\\\n",
       "\t 16.7 & 0   \\\\\n",
       "\t 12.0 & 0   \\\\\n",
       "\t 14.6 & 0   \\\\\n",
       "\t 21.4 & 0   \\\\\n",
       "\t 23.0 & 0   \\\\\n",
       "\t 23.7 & 0   \\\\\n",
       "\t 25.0 & 0   \\\\\n",
       "\t 21.8 & 0   \\\\\n",
       "\t 20.6 & 0   \\\\\n",
       "\t 21.2 & 0   \\\\\n",
       "\t 19.1 & 0   \\\\\n",
       "\t 20.6 & 0   \\\\\n",
       "\t 15.2 & 0   \\\\\n",
       "\t  7.0 & 0   \\\\\n",
       "\t  8.1 & 0   \\\\\n",
       "\t 13.6 & 0   \\\\\n",
       "\t 20.1 & 0   \\\\\n",
       "\t 21.8 & 0   \\\\\n",
       "\t 24.5 & 0   \\\\\n",
       "\t 23.1 & 0   \\\\\n",
       "\t 19.7 & 0   \\\\\n",
       "\t 18.3 & 0   \\\\\n",
       "\t 21.2 & 0   \\\\\n",
       "\t 17.5 & 0   \\\\\n",
       "\t 16.8 & 0   \\\\\n",
       "\t 22.4 & 0   \\\\\n",
       "\t 20.6 & 0   \\\\\n",
       "\t 23.9 & 0   \\\\\n",
       "\t 22.0 & 0   \\\\\n",
       "\t 11.9 & 0   \\\\\n",
       "\\end{tabular}\n"
      ],
      "text/markdown": [
       "\n",
       "medv | chas | \n",
       "|---|---|---|---|---|---|---|---|---|---|---|---|---|---|---|---|---|---|---|---|---|---|---|---|---|---|---|---|---|---|---|---|---|---|---|---|---|---|---|---|---|---|---|---|---|---|---|---|---|---|---|---|---|---|---|---|---|---|---|---|---|\n",
       "| 24.0 | 0    | \n",
       "| 21.6 | 0    | \n",
       "| 34.7 | 0    | \n",
       "| 33.4 | 0    | \n",
       "| 36.2 | 0    | \n",
       "| 28.7 | 0    | \n",
       "| 22.9 | 0    | \n",
       "| 27.1 | 0    | \n",
       "| 16.5 | 0    | \n",
       "| 18.9 | 0    | \n",
       "| 15.0 | 0    | \n",
       "| 18.9 | 0    | \n",
       "| 21.7 | 0    | \n",
       "| 20.4 | 0    | \n",
       "| 18.2 | 0    | \n",
       "| 19.9 | 0    | \n",
       "| 23.1 | 0    | \n",
       "| 17.5 | 0    | \n",
       "| 20.2 | 0    | \n",
       "| 18.2 | 0    | \n",
       "| 13.6 | 0    | \n",
       "| 19.6 | 0    | \n",
       "| 15.2 | 0    | \n",
       "| 14.5 | 0    | \n",
       "| 15.6 | 0    | \n",
       "| 13.9 | 0    | \n",
       "| 16.6 | 0    | \n",
       "| 14.8 | 0    | \n",
       "| 18.4 | 0    | \n",
       "| 21.0 | 0    | \n",
       "| ⋮ | ⋮ | \n",
       "| 16.7 | 0    | \n",
       "| 12.0 | 0    | \n",
       "| 14.6 | 0    | \n",
       "| 21.4 | 0    | \n",
       "| 23.0 | 0    | \n",
       "| 23.7 | 0    | \n",
       "| 25.0 | 0    | \n",
       "| 21.8 | 0    | \n",
       "| 20.6 | 0    | \n",
       "| 21.2 | 0    | \n",
       "| 19.1 | 0    | \n",
       "| 20.6 | 0    | \n",
       "| 15.2 | 0    | \n",
       "|  7.0 | 0    | \n",
       "|  8.1 | 0    | \n",
       "| 13.6 | 0    | \n",
       "| 20.1 | 0    | \n",
       "| 21.8 | 0    | \n",
       "| 24.5 | 0    | \n",
       "| 23.1 | 0    | \n",
       "| 19.7 | 0    | \n",
       "| 18.3 | 0    | \n",
       "| 21.2 | 0    | \n",
       "| 17.5 | 0    | \n",
       "| 16.8 | 0    | \n",
       "| 22.4 | 0    | \n",
       "| 20.6 | 0    | \n",
       "| 23.9 | 0    | \n",
       "| 22.0 | 0    | \n",
       "| 11.9 | 0    | \n",
       "\n",
       "\n"
      ],
      "text/plain": [
       "    medv chas\n",
       "1   24.0 0   \n",
       "2   21.6 0   \n",
       "3   34.7 0   \n",
       "4   33.4 0   \n",
       "5   36.2 0   \n",
       "6   28.7 0   \n",
       "7   22.9 0   \n",
       "8   27.1 0   \n",
       "9   16.5 0   \n",
       "10  18.9 0   \n",
       "11  15.0 0   \n",
       "12  18.9 0   \n",
       "13  21.7 0   \n",
       "14  20.4 0   \n",
       "15  18.2 0   \n",
       "16  19.9 0   \n",
       "17  23.1 0   \n",
       "18  17.5 0   \n",
       "19  20.2 0   \n",
       "20  18.2 0   \n",
       "21  13.6 0   \n",
       "22  19.6 0   \n",
       "23  15.2 0   \n",
       "24  14.5 0   \n",
       "25  15.6 0   \n",
       "26  13.9 0   \n",
       "27  16.6 0   \n",
       "28  14.8 0   \n",
       "29  18.4 0   \n",
       "30  21.0 0   \n",
       "⋮   ⋮    ⋮   \n",
       "477 16.7 0   \n",
       "478 12.0 0   \n",
       "479 14.6 0   \n",
       "480 21.4 0   \n",
       "481 23.0 0   \n",
       "482 23.7 0   \n",
       "483 25.0 0   \n",
       "484 21.8 0   \n",
       "485 20.6 0   \n",
       "486 21.2 0   \n",
       "487 19.1 0   \n",
       "488 20.6 0   \n",
       "489 15.2 0   \n",
       "490  7.0 0   \n",
       "491  8.1 0   \n",
       "492 13.6 0   \n",
       "493 20.1 0   \n",
       "494 21.8 0   \n",
       "495 24.5 0   \n",
       "496 23.1 0   \n",
       "497 19.7 0   \n",
       "498 18.3 0   \n",
       "499 21.2 0   \n",
       "500 17.5 0   \n",
       "501 16.8 0   \n",
       "502 22.4 0   \n",
       "503 20.6 0   \n",
       "504 23.9 0   \n",
       "505 22.0 0   \n",
       "506 11.9 0   "
      ]
     },
     "metadata": {},
     "output_type": "display_data"
    }
   ],
   "source": [
    "library(MASS)\n",
    "attach(Boston)\n",
    "df = data.frame(medv,chas)\n",
    "df"
   ]
  },
  {
   "cell_type": "markdown",
   "metadata": {},
   "source": [
    "Using this dataset, let's consider two scenarios where we would use a permutation test to build a null hypothesis for evaluating an effect.\n",
    "\n",
    "<br>\n",
    "\n",
    "**Regression:**\n",
    "\n",
    "Step 1: Take the original, unpermuted data $Y=[y_1 ... y_n]$, $X=[x_1... x_n]$ and calculate the regression coefficients for $Y = \\beta_0 + \\beta_1 X_{attention}$ as $\\hat{\\beta}_{real}=inv(X'X)^{-1}X'Y$\n",
    "\n",
    "Step 2: For _i_ = 1 through _m_ iterations:\n",
    "* Permute new vectors $X$ & $Y$: e.g., $Y-i*=[y_2,y_n, ... y_4]$ $X_i*=[x_5,x_1, ... x_3]$\n",
    "* Estimate new regression model: $\\hat{\\beta}_{i}^*=inv(X*'X*)^{-1}X*'Y*$\n",
    "\n",
    "Step 3: Calculate the probability that the magnitude of $\\hat{\\beta}^*$ is great than $\\hat{\\beta}_{real}$.\n",
    "* $p = P(\\hat{\\beta}^* > \\hat{\\beta}_{real}) $\n",
    "\n",
    "<br>\n",
    "\n",
    "Let's see this in practice"
   ]
  },
  {
   "cell_type": "code",
   "execution_count": 42,
   "metadata": {},
   "outputs": [
    {
     "data": {
      "text/html": [
       "<strong>chas:</strong> 6.34615711252661"
      ],
      "text/latex": [
       "\\textbf{chas:} 6.34615711252661"
      ],
      "text/markdown": [
       "**chas:** 6.34615711252661"
      ],
      "text/plain": [
       "    chas \n",
       "6.346157 "
      ]
     },
     "metadata": {},
     "output_type": "display_data"
    },
    {
     "data": {
      "text/html": [
       "0.001"
      ],
      "text/latex": [
       "0.001"
      ],
      "text/markdown": [
       "0.001"
      ],
      "text/plain": [
       "[1] 0.001"
      ]
     },
     "metadata": {},
     "output_type": "display_data"
    }
   ],
   "source": [
    "# Step 1: Calculate the real effect\n",
    "beta_real = lm(medv~chas)$coefficients[2]\n",
    "\n",
    "# Step 2: Run m=1000 permutations using the sample function to shuffle the chas variable\n",
    "beta_perm = matrix(NaN, nrow = 1000)\n",
    "for (i in 1:1000){\n",
    "    beta_perm[i]=lm(medv~sample(chas, replace=FALSE))$coefficients[2]    \n",
    "}\n",
    "\n",
    "# Step 3: Calculate the p value\n",
    "beta_real # see if the effect is positive or negative\n",
    "\n",
    "# Since the real effect is positive we look for permuted results\n",
    "# that are greater than the observed\n",
    "p = sum(beta_perm > beta_real)/1000 \n",
    "p"
   ]
  },
  {
   "cell_type": "code",
   "execution_count": 35,
   "metadata": {
    "scrolled": true
   },
   "outputs": [
    {
     "data": {
      "image/png": "[encoded data removed]",
      "text/plain": [
       "Plot with title “Histogram of beta_perm”"
      ]
     },
     "metadata": {},
     "output_type": "display_data"
    }
   ],
   "source": [
    "# Just for comparisons, let's look at the histogram of the generated null distribution\n",
    "options(repr.plot.width=4)\n",
    "hist(beta_perm)"
   ]
  },
  {
   "cell_type": "markdown",
   "metadata": {},
   "source": [
    "As you can see the logic is simple. Rather than assume a shape of the null distribution we just asked our data set \"hey... what would it look like if there were no relationship between $X$ and $Y$?\".\n",
    "\n",
    "<br>\n",
    "<br>\n",
    "We can use the same logic for even simpler tests. Let's go back to the t-test (i.e., a test of differences). We can use the same logic as above for a test of differneces.\n",
    "\n",
    "<br>\n",
    "<br>\n",
    "\n",
    "**Difference Test:**\n",
    "\n",
    "Step 1: Take the original, unpermuted data $Y=[y_1 ... y_n]$, $X=[x_1... x_n]$ difference in the means of $Y$ for when $X=1$ and $X=0$ (i.e., $\\Delta = \\hat{Y}_{x=1} - \\hat{Y}_{x=0}$)\n",
    "\n",
    "Step 2: For _i_ = 1 through _m_ iterations:\n",
    "* Permute new vectors $X$ & $Y$: e.g., $Y-i*=[y_2,y_n, ... y_4]$ $X_i*=[x_5,x_1, ... x_3]$\n",
    "* Estimate new difference: $\\Delta_{i}^*= \\hat{Y*}_{x*=1} - \\hat{Y*}_{x*=0}\n",
    "\n",
    "Step 3: Calculate the probability that the magnitude of $\\Delta^*$ is great than $\\Delta$.\n",
    "* $p = P(\\Delta^* > \\Delta) $\n"
   ]
  },
  {
   "cell_type": "code",
   "execution_count": 68,
   "metadata": {},
   "outputs": [
    {
     "data": {
      "text/html": [
       "1.47009900990099"
      ],
      "text/latex": [
       "1.47009900990099"
      ],
      "text/markdown": [
       "1.47009900990099"
      ],
      "text/plain": [
       "[1] 1.470099"
      ]
     },
     "metadata": {},
     "output_type": "display_data"
    },
    {
     "data": {
      "text/html": [
       "0.302"
      ],
      "text/latex": [
       "0.302"
      ],
      "text/markdown": [
       "0.302"
      ],
      "text/plain": [
       "[1] 0.302"
      ]
     },
     "metadata": {},
     "output_type": "display_data"
    },
    {
     "data": {
      "image/png": "[encoded data removed]",
      "text/plain": [
       "Plot with title “Histogram of Delta_perm”"
      ]
     },
     "metadata": {},
     "output_type": "display_data"
    }
   ],
   "source": [
    "# Step 1: Calculate the real delta\n",
    "Delta = mean(medv[chas])-mean(medv[-chas])\n",
    "\n",
    "# Step 2: Run m=1000 permutations using the sample function to shuffle the chas variable\n",
    "Delta_perm = matrix(NaN, nrow = 1000)\n",
    "for (i in 1:1000){\n",
    "    perm_medv = sample(medv, replace=FALSE)\n",
    "    Delta_perm[i]=mean(perm_medv[chas])-mean(perm_medv[-chas])\n",
    "}\n",
    "\n",
    "# Step 3: Calculate the p value\n",
    "Delta # see if the effect is positive or negative\n",
    "\n",
    "# Since the real effect is positive we look for permuted results\n",
    "# that are greater than the observed\n",
    "p = sum(Delta_perm > Delta)/1000 \n",
    "p\n",
    "\n",
    "# Again let's just look at our null distribution\n",
    "hist(Delta_perm)"
   ]
  },
  {
   "cell_type": "markdown",
   "metadata": {},
   "source": [
    "## Thinking carefully about nulls\n",
    "\n",
    "Notice that in this example on differences in means, we don't see a significant effect on the difference in means. This has to do with the fact that there are only 35 neighborhoods out of the entire data set that are along the river (whereas the regression model is not as sensitive to this difference in sample sizes between the two groups). \n",
    "\n",
    "But this brings up an important point: **think carefully about what you want your null distribution to be.** \n",
    "\n",
    "This is the single most common way that permutation tests are misused. Permutation tests give you a way to test for chance _along a specific dimension_. Sometimes you can think that you're evaluating one null hypothesis, when you're really testing another. Sometimes there might be a bias in the original test you evaluated that will inflate the variance of your simulated null (as is the case here). \n",
    "\n",
    "So think very carefully about what you want your null to be in order to make sure you're evaluating the right hypothesis."
   ]
  },
  {
   "cell_type": "markdown",
   "metadata": {},
   "source": [
    "---\n",
    "# 3. The bootstrap: resampling _with_ replacement\n",
    "\n",
    "Permutation tests give you a way of using your data to simulate your actual null hypothesis by resampling your data _with_ replacement. But what if you want to estimate the confidence of a test statistic? For example, in the lectures on linear regression, we talked about how you can esimate the standard error on a regression coefficient ($SE(\\beta)$) as way of determining your confidence in the estimated value.\n",
    "\n",
    "Just like the example we used above with the t-test, the calculation of $SE(\\beta)$, assumes a particular shape of the variance around $\\beta$. In this case it assumes it is a normal distribution. But it's possible, and even likely, that the true confidence intervals of your regression coefficient are not normally distributed. \n",
    "\n",
    "Now empirically you could estimate the confidence (i.e., reliability) of your regression coefficient by replicating many version of the same experiment. Remember, the [Law of Large Numbers](https://en.wikipedia.org/wiki/Law_of_large_numbers) states that as you increase your number of observations, the estimated value will converge on the true mean. So over many repetitions of the same experiment, you'll converge to the true value of your effect.\n",
    "\n",
    "But what if you only have a single data set?\n",
    "\n",
    "Well you can simulate many different experiments using a method known as _bootstrapping_. Bootstrapping is a resampling with replacement from the data set that you have, in order to simulate repeated experiments form the data\n",
    "\n",
    "## The Algorithm\n",
    "\n",
    "1. Calculate the original comparison of interest (e.g., regression coefficient) on the original data set.\n",
    "\n",
    "2. Run _m_ iterations where you recreate a new data set by randomly pulling observations (i.e., rows) from the original data table. Unlike permutation tests, you are not moving an observation, simply sampling it. So the same observation could get sampled more than once and other observations not at all. Keep sampling until you've created a new data set of equal size to the original sample.\n",
    "\n",
    "3. Once all _m_ simulated data sets (or _bootstraps_) are completed, calculate the distributional parameters (e.g., mean, standard deviation, confidence interval) of the simulated experiments to estimate the range of possible values your observation could take on.\n",
    "\n",
    "This process is illustrated in the image below.\n",
    "\n",
    "![Bootstrapping](imgs/L15_ResampleWithReplacement.png)\n",
    "\n",
    "\n",
    "<br>\n",
    "If you have a large enough sample, then the bootstrap converges to the true distribution. Taking an example from the chapter, the image below shows histograms of estimates of investment risk ($\\alpha$) obtained from a real distribution (left, orange distribution), a set of 1,000 bootstraps from the real distribution (center, blue distribution), and a comparison of the two distributions as boxplots (right).\n",
    "\n",
    "![Bootstrap vs. Real](imgs/L15_BootstrapVsReal.png)\n",
    "\n",
    "As you can see the difference between the real and the bootstrapped distribution is quite minimal. In fact, you can estimate bias in your orignal data set by looking at the differnece between the original parameter (i.e., \\#1 in the algorithm above) and the mean of the bootstrap. \n",
    "\n",
    "<br>\n",
    "\n",
    "**Example:**\n",
    "\n",
    "Building off of the Boston data set again, let's estimate our confidence intervals on the effect of neighborhood poverty (lstat) on median housing price (medv).\n"
   ]
  },
  {
   "cell_type": "code",
   "execution_count": 146,
   "metadata": {},
   "outputs": [
    {
     "data": {
      "image/png": "[encoded data removed]",
      "text/plain": [
       "Plot with title “Histogram of boot_beta”"
      ]
     },
     "metadata": {},
     "output_type": "display_data"
    }
   ],
   "source": [
    "# Calculate the original effect\n",
    "real_beta = lm(medv~lstat)$coefficients[2]\n",
    "\n",
    "# Determine the sample size (will be important in a minute)\n",
    "n = dim(Boston)[1]\n",
    "\n",
    "# Create a bootstrap of 1000 iterations of the regression model \n",
    "boot_beta = matrix(NaN, nrow=100)\n",
    "for (i in 1:100){\n",
    "    indx = sample(1:n, replace=TRUE)\n",
    "    boot_beta[i] = lm(medv[indx]~lstat[indx])$coefficients[2]\n",
    "}\n",
    "\n",
    "# Let's look at the bootstrap\n",
    "hist(boot_beta)"
   ]
  },
  {
   "cell_type": "code",
   "execution_count": 148,
   "metadata": {},
   "outputs": [
    {
     "data": {
      "text/html": [
       "<strong>lstat:</strong> -0.95004935375799"
      ],
      "text/latex": [
       "\\textbf{lstat:} -0.95004935375799"
      ],
      "text/markdown": [
       "**lstat:** -0.95004935375799"
      ],
      "text/plain": [
       "     lstat \n",
       "-0.9500494 "
      ]
     },
     "metadata": {},
     "output_type": "display_data"
    },
    {
     "data": {
      "text/html": [
       "-0.94814881092931"
      ],
      "text/latex": [
       "-0.94814881092931"
      ],
      "text/markdown": [
       "-0.94814881092931"
      ],
      "text/plain": [
       "[1] -0.9481488"
      ]
     },
     "metadata": {},
     "output_type": "display_data"
    }
   ],
   "source": [
    "# We can also compare the mean of the bootstrap with the original effect\n",
    "real_beta # Original regression model\n",
    "mean(boot_beta) # Mean of the bootstrap"
   ]
  },
  {
   "cell_type": "code",
   "execution_count": 149,
   "metadata": {},
   "outputs": [
    {
     "data": {
      "text/html": [
       "-0.943717990279314"
      ],
      "text/latex": [
       "-0.943717990279314"
      ],
      "text/markdown": [
       "-0.943717990279314"
      ],
      "text/plain": [
       "[1] -0.943718"
      ]
     },
     "metadata": {},
     "output_type": "display_data"
    },
    {
     "data": {
      "text/html": [
       "-0.952579631579307"
      ],
      "text/latex": [
       "-0.952579631579307"
      ],
      "text/markdown": [
       "-0.952579631579307"
      ],
      "text/plain": [
       "[1] -0.9525796"
      ]
     },
     "metadata": {},
     "output_type": "display_data"
    }
   ],
   "source": [
    "# Finally we can calculate the confidence intervals\n",
    "s = sd(boot_beta)\n",
    "m = mean(boot_beta)\n",
    "error = qnorm(1-0.025)*s/sqrt(n)\n",
    "upper_bound = m + error\n",
    "upper_bound\n",
    "\n",
    "lower_bound = m - error\n",
    "lower_bound\n"
   ]
  }
 ],
 "metadata": {
  "kernelspec": {
   "display_name": "R",
   "language": "R",
   "name": "ir"
  },
  "language_info": {
   "codemirror_mode": "r",
   "file_extension": ".r",
   "mimetype": "text/x-r-source",
   "name": "R",
   "pygments_lexer": "r",
   "version": "3.5.2"
  }
 },
 "nbformat": 4,
 "nbformat_minor": 2
}
