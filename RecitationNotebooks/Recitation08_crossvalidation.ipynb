{
 "cells": [
  {
   "cell_type": "markdown",
   "metadata": {},
   "source": [
    "# Cross-validation methods\n",
    "\n",
    "In this lab we will become acquainted with two resampling methods that can be used to construct training and test sets. \n",
    "\n",
    "## Goals of the lab:\n",
    "* Understand the limitations of the simple validation set approach and the benefits of more refined approaches\n",
    "* Learn to use the cv.glm() function to implement\n",
    "    * leave-one-out cross-validation (LOOCV)\n",
    "    * $k$-fold cross-validation ($k$-fold CV)\n",
    "* Understand the bias-variance trade-off in the context of these resampling methods\n",
    "\n",
    "This lab draws from the practice sets at the end of Chapter 5 in James, G., Witten, D., Hastie, T., & Tibshirani, R. (2013). \"An introduction to statistical learning: with applications in r.\" "
   ]
  },
  {
   "cell_type": "markdown",
   "metadata": {},
   "source": [
    "# Why not use the simple validation set approach?\n",
    "\n",
    "While the simple hold-out test set is relatively simple and easy to implement, there are significant drawbacks.\n",
    "\n",
    "* The validation estimate of the test error rate can be highly variable \n",
    "* Only a subset of observations (those in the training set) are used to train the model\n",
    "    * This limits your statistical power, and may lead to *overestimating* test error rate \n",
    "        \n",
    "Cross-validation, a reampling method used to partition your data into test and training sets, addresses both of these issues. \n",
    "\n",
    "Let's see how this is true."
   ]
  },
  {
   "cell_type": "markdown",
   "metadata": {},
   "source": [
    "----\n",
    "# Validation data sets\n",
    "\n",
    "Here we will explore test error rates using cross-validation. We'll be using the Auto data set again from the ISLR library. \n",
    "\n",
    "First, we should acknowledge that you'll need to reset the seed for your random number generator. For this use the [_set.seed()_](https://www.rdocumentation.org/packages/simEd/versions/1.0.3/topics/set.seed) function. We want to use the same seed as the book so that you get the same results."
   ]
  },
  {
   "cell_type": "code",
   "execution_count": 8,
   "metadata": {},
   "outputs": [],
   "source": [
    "library(ISLR)\n",
    "set.seed(1) #set the seed for the random number generator. resetting the seed will give different results.\n",
    "train=sample(x=392,size=196) "
   ]
  },
  {
   "cell_type": "markdown",
   "metadata": {},
   "source": [
    "Above we choose 196 unique random samples out of a list ranging from 1-392. These indices will identify our training set."
   ]
  },
  {
   "cell_type": "code",
   "execution_count": 9,
   "metadata": {},
   "outputs": [
    {
     "data": {
      "text/html": [
       "<ol class=list-inline>\n",
       "\t<li>105</li>\n",
       "\t<li>146</li>\n",
       "\t<li>224</li>\n",
       "\t<li>354</li>\n",
       "\t<li>79</li>\n",
       "\t<li>348</li>\n",
       "\t<li>365</li>\n",
       "\t<li>255</li>\n",
       "\t<li>242</li>\n",
       "\t<li>24</li>\n",
       "\t<li>388</li>\n",
       "\t<li>68</li>\n",
       "\t<li>262</li>\n",
       "\t<li>391</li>\n",
       "\t<li>292</li>\n",
       "\t<li>188</li>\n",
       "\t<li>270</li>\n",
       "\t<li>372</li>\n",
       "\t<li>143</li>\n",
       "\t<li>290</li>\n",
       "\t<li>387</li>\n",
       "\t<li>382</li>\n",
       "\t<li>384</li>\n",
       "\t<li>47</li>\n",
       "\t<li>99</li>\n",
       "\t<li>142</li>\n",
       "\t<li>5</li>\n",
       "\t<li>140</li>\n",
       "\t<li>317</li>\n",
       "\t<li>124</li>\n",
       "\t<li>175</li>\n",
       "\t<li>217</li>\n",
       "\t<li>178</li>\n",
       "\t<li>67</li>\n",
       "\t<li>297</li>\n",
       "\t<li>239</li>\n",
       "\t<li>283</li>\n",
       "\t<li>39</li>\n",
       "\t<li>257</li>\n",
       "\t<li>379</li>\n",
       "\t<li>289</li>\n",
       "\t<li>228</li>\n",
       "\t<li>275</li>\n",
       "\t<li>194</li>\n",
       "\t<li>185</li>\n",
       "\t<li>274</li>\n",
       "\t<li>9</li>\n",
       "\t<li>165</li>\n",
       "\t<li>252</li>\n",
       "\t<li>238</li>\n",
       "\t<li>164</li>\n",
       "\t<li>294</li>\n",
       "\t<li>149</li>\n",
       "\t<li>83</li>\n",
       "\t<li>383</li>\n",
       "\t<li>34</li>\n",
       "\t<li>107</li>\n",
       "\t<li>174</li>\n",
       "\t<li>222</li>\n",
       "\t<li>136</li>\n",
       "\t<li>304</li>\n",
       "\t<li>98</li>\n",
       "\t<li>152</li>\n",
       "\t<li>110</li>\n",
       "\t<li>214</li>\n",
       "\t<li>85</li>\n",
       "\t<li>157</li>\n",
       "\t<li>250</li>\n",
       "\t<li>28</li>\n",
       "\t<li>356</li>\n",
       "\t<li>329</li>\n",
       "\t<li>376</li>\n",
       "\t<li>111</li>\n",
       "\t<li>336</li>\n",
       "\t<li>330</li>\n",
       "\t<li>323</li>\n",
       "\t<li>347</li>\n",
       "\t<li>123</li>\n",
       "\t<li>245</li>\n",
       "\t<li>301</li>\n",
       "\t<li>333</li>\n",
       "\t<li>334</li>\n",
       "\t<li>363</li>\n",
       "\t<li>101</li>\n",
       "\t<li>234</li>\n",
       "\t<li>63</li>\n",
       "\t<li>218</li>\n",
       "\t<li>38</li>\n",
       "\t<li>75</li>\n",
       "\t<li>44</li>\n",
       "\t<li>73</li>\n",
       "\t<li>18</li>\n",
       "\t<li>193</li>\n",
       "\t<li>263</li>\n",
       "\t<li>233</li>\n",
       "\t<li>237</li>\n",
       "\t<li>135</li>\n",
       "\t<li>121</li>\n",
       "\t<li>357</li>\n",
       "\t<li>360</li>\n",
       "\t<li>192</li>\n",
       "\t<li>103</li>\n",
       "\t<li>371</li>\n",
       "\t<li>287</li>\n",
       "\t<li>183</li>\n",
       "\t<li>62</li>\n",
       "\t<li>305</li>\n",
       "\t<li>137</li>\n",
       "\t<li>299</li>\n",
       "\t<li>170</li>\n",
       "\t<li>276</li>\n",
       "\t<li>206</li>\n",
       "\t<li>100</li>\n",
       "\t<li>295</li>\n",
       "\t<li>42</li>\n",
       "\t<li>4</li>\n",
       "\t<li>198</li>\n",
       "\t<li>29</li>\n",
       "\t<li>315</li>\n",
       "\t<li>362</li>\n",
       "\t<li>321</li>\n",
       "\t<li>296</li>\n",
       "\t<li>131</li>\n",
       "\t<li>369</li>\n",
       "\t<li>203</li>\n",
       "\t<li>122</li>\n",
       "\t<li>312</li>\n",
       "\t<li>55</li>\n",
       "\t<li>61</li>\n",
       "\t<li>326</li>\n",
       "\t<li>151</li>\n",
       "\t<li>21</li>\n",
       "\t<li>10</li>\n",
       "\t<li>167</li>\n",
       "\t<li>240</li>\n",
       "\t<li>154</li>\n",
       "\t<li>144</li>\n",
       "\t<li>271</li>\n",
       "\t<li>251</li>\n",
       "\t<li>129</li>\n",
       "\t<li>173</li>\n",
       "\t<li>380</li>\n",
       "\t<li>60</li>\n",
       "\t<li>65</li>\n",
       "\t<li>181</li>\n",
       "\t<li>112</li>\n",
       "\t<li>303</li>\n",
       "\t<li>288</li>\n",
       "\t<li>26</li>\n",
       "\t<li>211</li>\n",
       "\t<li>340</li>\n",
       "\t<li>385</li>\n",
       "\t<li>373</li>\n",
       "\t<li>109</li>\n",
       "\t<li>120</li>\n",
       "\t<li>43</li>\n",
       "\t<li>125</li>\n",
       "\t<li>313</li>\n",
       "\t<li>249</li>\n",
       "\t<li>50</li>\n",
       "\t<li>359</li>\n",
       "\t<li>207</li>\n",
       "\t<li>291</li>\n",
       "\t<li>179</li>\n",
       "\t<li>201</li>\n",
       "\t<li>94</li>\n",
       "\t<li>15</li>\n",
       "\t<li>76</li>\n",
       "\t<li>163</li>\n",
       "\t<li>225</li>\n",
       "\t<li>386</li>\n",
       "\t<li>186</li>\n",
       "\t<li>189</li>\n",
       "\t<li>86</li>\n",
       "\t<li>339</li>\n",
       "\t<li>195</li>\n",
       "\t<li>311</li>\n",
       "\t<li>160</li>\n",
       "\t<li>130</li>\n",
       "\t<li>300</li>\n",
       "\t<li>307</li>\n",
       "\t<li>41</li>\n",
       "\t<li>187</li>\n",
       "\t<li>106</li>\n",
       "\t<li>314</li>\n",
       "\t<li>40</li>\n",
       "\t<li>284</li>\n",
       "\t<li>370</li>\n",
       "\t<li>213</li>\n",
       "\t<li>247</li>\n",
       "\t<li>256</li>\n",
       "\t<li>258</li>\n",
       "\t<li>261</li>\n",
       "\t<li>375</li>\n",
       "\t<li>57</li>\n",
       "\t<li>117</li>\n",
       "</ol>\n"
      ],
      "text/latex": [
       "\\begin{enumerate*}\n",
       "\\item 105\n",
       "\\item 146\n",
       "\\item 224\n",
       "\\item 354\n",
       "\\item 79\n",
       "\\item 348\n",
       "\\item 365\n",
       "\\item 255\n",
       "\\item 242\n",
       "\\item 24\n",
       "\\item 388\n",
       "\\item 68\n",
       "\\item 262\n",
       "\\item 391\n",
       "\\item 292\n",
       "\\item 188\n",
       "\\item 270\n",
       "\\item 372\n",
       "\\item 143\n",
       "\\item 290\n",
       "\\item 387\n",
       "\\item 382\n",
       "\\item 384\n",
       "\\item 47\n",
       "\\item 99\n",
       "\\item 142\n",
       "\\item 5\n",
       "\\item 140\n",
       "\\item 317\n",
       "\\item 124\n",
       "\\item 175\n",
       "\\item 217\n",
       "\\item 178\n",
       "\\item 67\n",
       "\\item 297\n",
       "\\item 239\n",
       "\\item 283\n",
       "\\item 39\n",
       "\\item 257\n",
       "\\item 379\n",
       "\\item 289\n",
       "\\item 228\n",
       "\\item 275\n",
       "\\item 194\n",
       "\\item 185\n",
       "\\item 274\n",
       "\\item 9\n",
       "\\item 165\n",
       "\\item 252\n",
       "\\item 238\n",
       "\\item 164\n",
       "\\item 294\n",
       "\\item 149\n",
       "\\item 83\n",
       "\\item 383\n",
       "\\item 34\n",
       "\\item 107\n",
       "\\item 174\n",
       "\\item 222\n",
       "\\item 136\n",
       "\\item 304\n",
       "\\item 98\n",
       "\\item 152\n",
       "\\item 110\n",
       "\\item 214\n",
       "\\item 85\n",
       "\\item 157\n",
       "\\item 250\n",
       "\\item 28\n",
       "\\item 356\n",
       "\\item 329\n",
       "\\item 376\n",
       "\\item 111\n",
       "\\item 336\n",
       "\\item 330\n",
       "\\item 323\n",
       "\\item 347\n",
       "\\item 123\n",
       "\\item 245\n",
       "\\item 301\n",
       "\\item 333\n",
       "\\item 334\n",
       "\\item 363\n",
       "\\item 101\n",
       "\\item 234\n",
       "\\item 63\n",
       "\\item 218\n",
       "\\item 38\n",
       "\\item 75\n",
       "\\item 44\n",
       "\\item 73\n",
       "\\item 18\n",
       "\\item 193\n",
       "\\item 263\n",
       "\\item 233\n",
       "\\item 237\n",
       "\\item 135\n",
       "\\item 121\n",
       "\\item 357\n",
       "\\item 360\n",
       "\\item 192\n",
       "\\item 103\n",
       "\\item 371\n",
       "\\item 287\n",
       "\\item 183\n",
       "\\item 62\n",
       "\\item 305\n",
       "\\item 137\n",
       "\\item 299\n",
       "\\item 170\n",
       "\\item 276\n",
       "\\item 206\n",
       "\\item 100\n",
       "\\item 295\n",
       "\\item 42\n",
       "\\item 4\n",
       "\\item 198\n",
       "\\item 29\n",
       "\\item 315\n",
       "\\item 362\n",
       "\\item 321\n",
       "\\item 296\n",
       "\\item 131\n",
       "\\item 369\n",
       "\\item 203\n",
       "\\item 122\n",
       "\\item 312\n",
       "\\item 55\n",
       "\\item 61\n",
       "\\item 326\n",
       "\\item 151\n",
       "\\item 21\n",
       "\\item 10\n",
       "\\item 167\n",
       "\\item 240\n",
       "\\item 154\n",
       "\\item 144\n",
       "\\item 271\n",
       "\\item 251\n",
       "\\item 129\n",
       "\\item 173\n",
       "\\item 380\n",
       "\\item 60\n",
       "\\item 65\n",
       "\\item 181\n",
       "\\item 112\n",
       "\\item 303\n",
       "\\item 288\n",
       "\\item 26\n",
       "\\item 211\n",
       "\\item 340\n",
       "\\item 385\n",
       "\\item 373\n",
       "\\item 109\n",
       "\\item 120\n",
       "\\item 43\n",
       "\\item 125\n",
       "\\item 313\n",
       "\\item 249\n",
       "\\item 50\n",
       "\\item 359\n",
       "\\item 207\n",
       "\\item 291\n",
       "\\item 179\n",
       "\\item 201\n",
       "\\item 94\n",
       "\\item 15\n",
       "\\item 76\n",
       "\\item 163\n",
       "\\item 225\n",
       "\\item 386\n",
       "\\item 186\n",
       "\\item 189\n",
       "\\item 86\n",
       "\\item 339\n",
       "\\item 195\n",
       "\\item 311\n",
       "\\item 160\n",
       "\\item 130\n",
       "\\item 300\n",
       "\\item 307\n",
       "\\item 41\n",
       "\\item 187\n",
       "\\item 106\n",
       "\\item 314\n",
       "\\item 40\n",
       "\\item 284\n",
       "\\item 370\n",
       "\\item 213\n",
       "\\item 247\n",
       "\\item 256\n",
       "\\item 258\n",
       "\\item 261\n",
       "\\item 375\n",
       "\\item 57\n",
       "\\item 117\n",
       "\\end{enumerate*}\n"
      ],
      "text/markdown": [
       "1. 105\n",
       "2. 146\n",
       "3. 224\n",
       "4. 354\n",
       "5. 79\n",
       "6. 348\n",
       "7. 365\n",
       "8. 255\n",
       "9. 242\n",
       "10. 24\n",
       "11. 388\n",
       "12. 68\n",
       "13. 262\n",
       "14. 391\n",
       "15. 292\n",
       "16. 188\n",
       "17. 270\n",
       "18. 372\n",
       "19. 143\n",
       "20. 290\n",
       "21. 387\n",
       "22. 382\n",
       "23. 384\n",
       "24. 47\n",
       "25. 99\n",
       "26. 142\n",
       "27. 5\n",
       "28. 140\n",
       "29. 317\n",
       "30. 124\n",
       "31. 175\n",
       "32. 217\n",
       "33. 178\n",
       "34. 67\n",
       "35. 297\n",
       "36. 239\n",
       "37. 283\n",
       "38. 39\n",
       "39. 257\n",
       "40. 379\n",
       "41. 289\n",
       "42. 228\n",
       "43. 275\n",
       "44. 194\n",
       "45. 185\n",
       "46. 274\n",
       "47. 9\n",
       "48. 165\n",
       "49. 252\n",
       "50. 238\n",
       "51. 164\n",
       "52. 294\n",
       "53. 149\n",
       "54. 83\n",
       "55. 383\n",
       "56. 34\n",
       "57. 107\n",
       "58. 174\n",
       "59. 222\n",
       "60. 136\n",
       "61. 304\n",
       "62. 98\n",
       "63. 152\n",
       "64. 110\n",
       "65. 214\n",
       "66. 85\n",
       "67. 157\n",
       "68. 250\n",
       "69. 28\n",
       "70. 356\n",
       "71. 329\n",
       "72. 376\n",
       "73. 111\n",
       "74. 336\n",
       "75. 330\n",
       "76. 323\n",
       "77. 347\n",
       "78. 123\n",
       "79. 245\n",
       "80. 301\n",
       "81. 333\n",
       "82. 334\n",
       "83. 363\n",
       "84. 101\n",
       "85. 234\n",
       "86. 63\n",
       "87. 218\n",
       "88. 38\n",
       "89. 75\n",
       "90. 44\n",
       "91. 73\n",
       "92. 18\n",
       "93. 193\n",
       "94. 263\n",
       "95. 233\n",
       "96. 237\n",
       "97. 135\n",
       "98. 121\n",
       "99. 357\n",
       "100. 360\n",
       "101. 192\n",
       "102. 103\n",
       "103. 371\n",
       "104. 287\n",
       "105. 183\n",
       "106. 62\n",
       "107. 305\n",
       "108. 137\n",
       "109. 299\n",
       "110. 170\n",
       "111. 276\n",
       "112. 206\n",
       "113. 100\n",
       "114. 295\n",
       "115. 42\n",
       "116. 4\n",
       "117. 198\n",
       "118. 29\n",
       "119. 315\n",
       "120. 362\n",
       "121. 321\n",
       "122. 296\n",
       "123. 131\n",
       "124. 369\n",
       "125. 203\n",
       "126. 122\n",
       "127. 312\n",
       "128. 55\n",
       "129. 61\n",
       "130. 326\n",
       "131. 151\n",
       "132. 21\n",
       "133. 10\n",
       "134. 167\n",
       "135. 240\n",
       "136. 154\n",
       "137. 144\n",
       "138. 271\n",
       "139. 251\n",
       "140. 129\n",
       "141. 173\n",
       "142. 380\n",
       "143. 60\n",
       "144. 65\n",
       "145. 181\n",
       "146. 112\n",
       "147. 303\n",
       "148. 288\n",
       "149. 26\n",
       "150. 211\n",
       "151. 340\n",
       "152. 385\n",
       "153. 373\n",
       "154. 109\n",
       "155. 120\n",
       "156. 43\n",
       "157. 125\n",
       "158. 313\n",
       "159. 249\n",
       "160. 50\n",
       "161. 359\n",
       "162. 207\n",
       "163. 291\n",
       "164. 179\n",
       "165. 201\n",
       "166. 94\n",
       "167. 15\n",
       "168. 76\n",
       "169. 163\n",
       "170. 225\n",
       "171. 386\n",
       "172. 186\n",
       "173. 189\n",
       "174. 86\n",
       "175. 339\n",
       "176. 195\n",
       "177. 311\n",
       "178. 160\n",
       "179. 130\n",
       "180. 300\n",
       "181. 307\n",
       "182. 41\n",
       "183. 187\n",
       "184. 106\n",
       "185. 314\n",
       "186. 40\n",
       "187. 284\n",
       "188. 370\n",
       "189. 213\n",
       "190. 247\n",
       "191. 256\n",
       "192. 258\n",
       "193. 261\n",
       "194. 375\n",
       "195. 57\n",
       "196. 117\n",
       "\n",
       "\n"
      ],
      "text/plain": [
       "  [1] 105 146 224 354  79 348 365 255 242  24 388  68 262 391 292 188 270 372\n",
       " [19] 143 290 387 382 384  47  99 142   5 140 317 124 175 217 178  67 297 239\n",
       " [37] 283  39 257 379 289 228 275 194 185 274   9 165 252 238 164 294 149  83\n",
       " [55] 383  34 107 174 222 136 304  98 152 110 214  85 157 250  28 356 329 376\n",
       " [73] 111 336 330 323 347 123 245 301 333 334 363 101 234  63 218  38  75  44\n",
       " [91]  73  18 193 263 233 237 135 121 357 360 192 103 371 287 183  62 305 137\n",
       "[109] 299 170 276 206 100 295  42   4 198  29 315 362 321 296 131 369 203 122\n",
       "[127] 312  55  61 326 151  21  10 167 240 154 144 271 251 129 173 380  60  65\n",
       "[145] 181 112 303 288  26 211 340 385 373 109 120  43 125 313 249  50 359 207\n",
       "[163] 291 179 201  94  15  76 163 225 386 186 189  86 339 195 311 160 130 300\n",
       "[181] 307  41 187 106 314  40 284 370 213 247 256 258 261 375  57 117"
      ]
     },
     "metadata": {},
     "output_type": "display_data"
    }
   ],
   "source": [
    "train"
   ]
  },
  {
   "cell_type": "markdown",
   "metadata": {},
   "source": [
    "Now let's fit some models doing the training-testing approach that we've used so far in this class."
   ]
  },
  {
   "cell_type": "code",
   "execution_count": 10,
   "metadata": {},
   "outputs": [
    {
     "data": {
      "text/html": [
       "26.1414211520072"
      ],
      "text/latex": [
       "26.1414211520072"
      ],
      "text/markdown": [
       "26.1414211520072"
      ],
      "text/plain": [
       "[1] 26.14142"
      ]
     },
     "metadata": {},
     "output_type": "display_data"
    },
    {
     "data": {
      "text/html": [
       "19.999685962002"
      ],
      "text/latex": [
       "19.999685962002"
      ],
      "text/markdown": [
       "19.999685962002"
      ],
      "text/plain": [
       "[1] 19.99969"
      ]
     },
     "metadata": {},
     "output_type": "display_data"
    },
    {
     "data": {
      "text/html": [
       "20.8229979637643"
      ],
      "text/latex": [
       "20.8229979637643"
      ],
      "text/markdown": [
       "20.8229979637643"
      ],
      "text/plain": [
       "[1] 20.823"
      ]
     },
     "metadata": {},
     "output_type": "display_data"
    }
   ],
   "source": [
    "# attach(Auto)\n",
    "\n",
    "# Generate a linear model using the training subset\n",
    "lm.fit = lm(mpg~horsepower, data=Auto, subset=train)\n",
    "mean((Auto$mpg-predict(lm.fit,Auto))[-train]^2) # Mean Squared Error (MSE)\n",
    "\n",
    "# Use the poly() function to estimate test error\n",
    "# for polynomial and cubic regressions\n",
    "# 2nd degree polynomial\n",
    "lm.fit2 = lm(Auto$mpg~poly(horsepower,4), data=Auto, subset=train)\n",
    "mean((Auto$mpg-predict(lm.fit2,Auto))[-train]^2) # Mean Squared Error (MSE)\n",
    "\n",
    "# 3rd degree polynomial\n",
    "lm.fit3 = lm(Auto$mpg~poly(horsepower,6), data=Auto, subset=train)\n",
    "mean((Auto$mpg-predict(lm.fit3,Auto))[-train]^2)"
   ]
  },
  {
   "cell_type": "markdown",
   "metadata": {},
   "source": [
    "So the MSE we observe for the linear and the two polynomial models (quadratic & cubic) is 26.14, 19.82, and 19.78 respectively. **But these exact values are sensitive to the particular subset we selected.** Let's repeat this selecting a different subset of the Auto data."
   ]
  },
  {
   "cell_type": "code",
   "execution_count": 11,
   "metadata": {},
   "outputs": [
    {
     "data": {
      "text/html": [
       "<ol class=list-inline>\n",
       "\t<li>73</li>\n",
       "\t<li>275</li>\n",
       "\t<li>224</li>\n",
       "\t<li>66</li>\n",
       "\t<li>367</li>\n",
       "\t<li>366</li>\n",
       "\t<li>50</li>\n",
       "\t<li>321</li>\n",
       "\t<li>180</li>\n",
       "\t<li>211</li>\n",
       "\t<li>212</li>\n",
       "\t<li>92</li>\n",
       "\t<li>289</li>\n",
       "\t<li>69</li>\n",
       "\t<li>154</li>\n",
       "\t<li>322</li>\n",
       "\t<li>368</li>\n",
       "\t<li>85</li>\n",
       "\t<li>167</li>\n",
       "\t<li>28</li>\n",
       "\t<li>247</li>\n",
       "\t<li>144</li>\n",
       "\t<li>310</li>\n",
       "\t<li>56</li>\n",
       "\t<li>128</li>\n",
       "\t<li>384</li>\n",
       "\t<li>55</li>\n",
       "\t<li>131</li>\n",
       "\t<li>351</li>\n",
       "\t<li>49</li>\n",
       "\t<li>4</li>\n",
       "\t<li>60</li>\n",
       "\t<li>292</li>\n",
       "\t<li>312</li>\n",
       "\t<li>185</li>\n",
       "\t<li>390</li>\n",
       "\t<li>301</li>\n",
       "\t<li>102</li>\n",
       "\t<li>237</li>\n",
       "\t<li>54</li>\n",
       "\t<li>346</li>\n",
       "\t<li>105</li>\n",
       "\t<li>41</li>\n",
       "\t<li>57</li>\n",
       "\t<li>329</li>\n",
       "\t<li>276</li>\n",
       "\t<li>338</li>\n",
       "\t<li>121</li>\n",
       "\t<li>173</li>\n",
       "\t<li>278</li>\n",
       "\t<li>3</li>\n",
       "\t<li>6</li>\n",
       "\t<li>233</li>\n",
       "\t<li>316</li>\n",
       "\t<li>94</li>\n",
       "\t<li>274</li>\n",
       "\t<li>265</li>\n",
       "\t<li>332</li>\n",
       "\t<li>206</li>\n",
       "\t<li>354</li>\n",
       "\t<li>256</li>\n",
       "\t<li>294</li>\n",
       "\t<li>207</li>\n",
       "\t<li>86</li>\n",
       "\t<li>282</li>\n",
       "\t<li>371</li>\n",
       "\t<li>127</li>\n",
       "\t<li>150</li>\n",
       "\t<li>71</li>\n",
       "\t<li>22</li>\n",
       "\t<li>89</li>\n",
       "\t<li>100</li>\n",
       "\t<li>14</li>\n",
       "\t<li>59</li>\n",
       "\t<li>319</li>\n",
       "\t<li>240</li>\n",
       "\t<li>381</li>\n",
       "\t<li>337</li>\n",
       "\t<li>326</li>\n",
       "\t<li>388</li>\n",
       "\t<li>110</li>\n",
       "\t<li>209</li>\n",
       "\t<li>8</li>\n",
       "\t<li>124</li>\n",
       "\t<li>62</li>\n",
       "\t<li>263</li>\n",
       "\t<li>298</li>\n",
       "\t<li>99</li>\n",
       "\t<li>223</li>\n",
       "\t<li>104</li>\n",
       "\t<li>295</li>\n",
       "\t<li>120</li>\n",
       "\t<li>114</li>\n",
       "\t<li>168</li>\n",
       "\t<li>139</li>\n",
       "\t<li>318</li>\n",
       "\t<li>314</li>\n",
       "\t<li>373</li>\n",
       "\t<li>34</li>\n",
       "\t<li>129</li>\n",
       "\t<li>297</li>\n",
       "\t<li>125</li>\n",
       "\t<li>285</li>\n",
       "\t<li>317</li>\n",
       "\t<li>83</li>\n",
       "\t<li>172</li>\n",
       "\t<li>258</li>\n",
       "\t<li>130</li>\n",
       "\t<li>42</li>\n",
       "\t<li>37</li>\n",
       "\t<li>7</li>\n",
       "\t<li>330</li>\n",
       "\t<li>364</li>\n",
       "\t<li>161</li>\n",
       "\t<li>230</li>\n",
       "\t<li>226</li>\n",
       "\t<li>241</li>\n",
       "\t<li>31</li>\n",
       "\t<li>262</li>\n",
       "\t<li>156</li>\n",
       "\t<li>11</li>\n",
       "\t<li>67</li>\n",
       "\t<li>336</li>\n",
       "\t<li>239</li>\n",
       "\t<li>65</li>\n",
       "\t<li>203</li>\n",
       "\t<li>325</li>\n",
       "\t<li>81</li>\n",
       "\t<li>184</li>\n",
       "\t<li>377</li>\n",
       "\t<li>387</li>\n",
       "\t<li>380</li>\n",
       "\t<li>341</li>\n",
       "\t<li>250</li>\n",
       "\t<li>82</li>\n",
       "\t<li>287</li>\n",
       "\t<li>137</li>\n",
       "\t<li>311</li>\n",
       "\t<li>48</li>\n",
       "\t<li>355</li>\n",
       "\t<li>45</li>\n",
       "\t<li>72</li>\n",
       "\t<li>158</li>\n",
       "\t<li>75</li>\n",
       "\t<li>111</li>\n",
       "\t<li>181</li>\n",
       "\t<li>165</li>\n",
       "\t<li>77</li>\n",
       "\t<li>117</li>\n",
       "\t<li>324</li>\n",
       "\t<li>252</li>\n",
       "\t<li>87</li>\n",
       "\t<li>217</li>\n",
       "\t<li>95</li>\n",
       "\t<li>186</li>\n",
       "\t<li>68</li>\n",
       "\t<li>202</li>\n",
       "\t<li>350</li>\n",
       "\t<li>19</li>\n",
       "\t<li>379</li>\n",
       "\t<li>195</li>\n",
       "\t<li>219</li>\n",
       "\t<li>272</li>\n",
       "\t<li>174</li>\n",
       "\t<li>333</li>\n",
       "\t<li>148</li>\n",
       "\t<li>20</li>\n",
       "\t<li>220</li>\n",
       "\t<li>362</li>\n",
       "\t<li>345</li>\n",
       "\t<li>215</li>\n",
       "\t<li>23</li>\n",
       "\t<li>349</li>\n",
       "\t<li>197</li>\n",
       "\t<li>375</li>\n",
       "\t<li>344</li>\n",
       "\t<li>76</li>\n",
       "\t<li>30</li>\n",
       "\t<li>140</li>\n",
       "\t<li>116</li>\n",
       "\t<li>201</li>\n",
       "\t<li>304</li>\n",
       "\t<li>382</li>\n",
       "\t<li>164</li>\n",
       "\t<li>25</li>\n",
       "\t<li>229</li>\n",
       "\t<li>18</li>\n",
       "\t<li>378</li>\n",
       "\t<li>320</li>\n",
       "\t<li>16</li>\n",
       "\t<li>323</li>\n",
       "\t<li>286</li>\n",
       "\t<li>232</li>\n",
       "\t<li>33</li>\n",
       "\t<li>385</li>\n",
       "\t<li>40</li>\n",
       "</ol>\n"
      ],
      "text/latex": [
       "\\begin{enumerate*}\n",
       "\\item 73\n",
       "\\item 275\n",
       "\\item 224\n",
       "\\item 66\n",
       "\\item 367\n",
       "\\item 366\n",
       "\\item 50\n",
       "\\item 321\n",
       "\\item 180\n",
       "\\item 211\n",
       "\\item 212\n",
       "\\item 92\n",
       "\\item 289\n",
       "\\item 69\n",
       "\\item 154\n",
       "\\item 322\n",
       "\\item 368\n",
       "\\item 85\n",
       "\\item 167\n",
       "\\item 28\n",
       "\\item 247\n",
       "\\item 144\n",
       "\\item 310\n",
       "\\item 56\n",
       "\\item 128\n",
       "\\item 384\n",
       "\\item 55\n",
       "\\item 131\n",
       "\\item 351\n",
       "\\item 49\n",
       "\\item 4\n",
       "\\item 60\n",
       "\\item 292\n",
       "\\item 312\n",
       "\\item 185\n",
       "\\item 390\n",
       "\\item 301\n",
       "\\item 102\n",
       "\\item 237\n",
       "\\item 54\n",
       "\\item 346\n",
       "\\item 105\n",
       "\\item 41\n",
       "\\item 57\n",
       "\\item 329\n",
       "\\item 276\n",
       "\\item 338\n",
       "\\item 121\n",
       "\\item 173\n",
       "\\item 278\n",
       "\\item 3\n",
       "\\item 6\n",
       "\\item 233\n",
       "\\item 316\n",
       "\\item 94\n",
       "\\item 274\n",
       "\\item 265\n",
       "\\item 332\n",
       "\\item 206\n",
       "\\item 354\n",
       "\\item 256\n",
       "\\item 294\n",
       "\\item 207\n",
       "\\item 86\n",
       "\\item 282\n",
       "\\item 371\n",
       "\\item 127\n",
       "\\item 150\n",
       "\\item 71\n",
       "\\item 22\n",
       "\\item 89\n",
       "\\item 100\n",
       "\\item 14\n",
       "\\item 59\n",
       "\\item 319\n",
       "\\item 240\n",
       "\\item 381\n",
       "\\item 337\n",
       "\\item 326\n",
       "\\item 388\n",
       "\\item 110\n",
       "\\item 209\n",
       "\\item 8\n",
       "\\item 124\n",
       "\\item 62\n",
       "\\item 263\n",
       "\\item 298\n",
       "\\item 99\n",
       "\\item 223\n",
       "\\item 104\n",
       "\\item 295\n",
       "\\item 120\n",
       "\\item 114\n",
       "\\item 168\n",
       "\\item 139\n",
       "\\item 318\n",
       "\\item 314\n",
       "\\item 373\n",
       "\\item 34\n",
       "\\item 129\n",
       "\\item 297\n",
       "\\item 125\n",
       "\\item 285\n",
       "\\item 317\n",
       "\\item 83\n",
       "\\item 172\n",
       "\\item 258\n",
       "\\item 130\n",
       "\\item 42\n",
       "\\item 37\n",
       "\\item 7\n",
       "\\item 330\n",
       "\\item 364\n",
       "\\item 161\n",
       "\\item 230\n",
       "\\item 226\n",
       "\\item 241\n",
       "\\item 31\n",
       "\\item 262\n",
       "\\item 156\n",
       "\\item 11\n",
       "\\item 67\n",
       "\\item 336\n",
       "\\item 239\n",
       "\\item 65\n",
       "\\item 203\n",
       "\\item 325\n",
       "\\item 81\n",
       "\\item 184\n",
       "\\item 377\n",
       "\\item 387\n",
       "\\item 380\n",
       "\\item 341\n",
       "\\item 250\n",
       "\\item 82\n",
       "\\item 287\n",
       "\\item 137\n",
       "\\item 311\n",
       "\\item 48\n",
       "\\item 355\n",
       "\\item 45\n",
       "\\item 72\n",
       "\\item 158\n",
       "\\item 75\n",
       "\\item 111\n",
       "\\item 181\n",
       "\\item 165\n",
       "\\item 77\n",
       "\\item 117\n",
       "\\item 324\n",
       "\\item 252\n",
       "\\item 87\n",
       "\\item 217\n",
       "\\item 95\n",
       "\\item 186\n",
       "\\item 68\n",
       "\\item 202\n",
       "\\item 350\n",
       "\\item 19\n",
       "\\item 379\n",
       "\\item 195\n",
       "\\item 219\n",
       "\\item 272\n",
       "\\item 174\n",
       "\\item 333\n",
       "\\item 148\n",
       "\\item 20\n",
       "\\item 220\n",
       "\\item 362\n",
       "\\item 345\n",
       "\\item 215\n",
       "\\item 23\n",
       "\\item 349\n",
       "\\item 197\n",
       "\\item 375\n",
       "\\item 344\n",
       "\\item 76\n",
       "\\item 30\n",
       "\\item 140\n",
       "\\item 116\n",
       "\\item 201\n",
       "\\item 304\n",
       "\\item 382\n",
       "\\item 164\n",
       "\\item 25\n",
       "\\item 229\n",
       "\\item 18\n",
       "\\item 378\n",
       "\\item 320\n",
       "\\item 16\n",
       "\\item 323\n",
       "\\item 286\n",
       "\\item 232\n",
       "\\item 33\n",
       "\\item 385\n",
       "\\item 40\n",
       "\\end{enumerate*}\n"
      ],
      "text/markdown": [
       "1. 73\n",
       "2. 275\n",
       "3. 224\n",
       "4. 66\n",
       "5. 367\n",
       "6. 366\n",
       "7. 50\n",
       "8. 321\n",
       "9. 180\n",
       "10. 211\n",
       "11. 212\n",
       "12. 92\n",
       "13. 289\n",
       "14. 69\n",
       "15. 154\n",
       "16. 322\n",
       "17. 368\n",
       "18. 85\n",
       "19. 167\n",
       "20. 28\n",
       "21. 247\n",
       "22. 144\n",
       "23. 310\n",
       "24. 56\n",
       "25. 128\n",
       "26. 384\n",
       "27. 55\n",
       "28. 131\n",
       "29. 351\n",
       "30. 49\n",
       "31. 4\n",
       "32. 60\n",
       "33. 292\n",
       "34. 312\n",
       "35. 185\n",
       "36. 390\n",
       "37. 301\n",
       "38. 102\n",
       "39. 237\n",
       "40. 54\n",
       "41. 346\n",
       "42. 105\n",
       "43. 41\n",
       "44. 57\n",
       "45. 329\n",
       "46. 276\n",
       "47. 338\n",
       "48. 121\n",
       "49. 173\n",
       "50. 278\n",
       "51. 3\n",
       "52. 6\n",
       "53. 233\n",
       "54. 316\n",
       "55. 94\n",
       "56. 274\n",
       "57. 265\n",
       "58. 332\n",
       "59. 206\n",
       "60. 354\n",
       "61. 256\n",
       "62. 294\n",
       "63. 207\n",
       "64. 86\n",
       "65. 282\n",
       "66. 371\n",
       "67. 127\n",
       "68. 150\n",
       "69. 71\n",
       "70. 22\n",
       "71. 89\n",
       "72. 100\n",
       "73. 14\n",
       "74. 59\n",
       "75. 319\n",
       "76. 240\n",
       "77. 381\n",
       "78. 337\n",
       "79. 326\n",
       "80. 388\n",
       "81. 110\n",
       "82. 209\n",
       "83. 8\n",
       "84. 124\n",
       "85. 62\n",
       "86. 263\n",
       "87. 298\n",
       "88. 99\n",
       "89. 223\n",
       "90. 104\n",
       "91. 295\n",
       "92. 120\n",
       "93. 114\n",
       "94. 168\n",
       "95. 139\n",
       "96. 318\n",
       "97. 314\n",
       "98. 373\n",
       "99. 34\n",
       "100. 129\n",
       "101. 297\n",
       "102. 125\n",
       "103. 285\n",
       "104. 317\n",
       "105. 83\n",
       "106. 172\n",
       "107. 258\n",
       "108. 130\n",
       "109. 42\n",
       "110. 37\n",
       "111. 7\n",
       "112. 330\n",
       "113. 364\n",
       "114. 161\n",
       "115. 230\n",
       "116. 226\n",
       "117. 241\n",
       "118. 31\n",
       "119. 262\n",
       "120. 156\n",
       "121. 11\n",
       "122. 67\n",
       "123. 336\n",
       "124. 239\n",
       "125. 65\n",
       "126. 203\n",
       "127. 325\n",
       "128. 81\n",
       "129. 184\n",
       "130. 377\n",
       "131. 387\n",
       "132. 380\n",
       "133. 341\n",
       "134. 250\n",
       "135. 82\n",
       "136. 287\n",
       "137. 137\n",
       "138. 311\n",
       "139. 48\n",
       "140. 355\n",
       "141. 45\n",
       "142. 72\n",
       "143. 158\n",
       "144. 75\n",
       "145. 111\n",
       "146. 181\n",
       "147. 165\n",
       "148. 77\n",
       "149. 117\n",
       "150. 324\n",
       "151. 252\n",
       "152. 87\n",
       "153. 217\n",
       "154. 95\n",
       "155. 186\n",
       "156. 68\n",
       "157. 202\n",
       "158. 350\n",
       "159. 19\n",
       "160. 379\n",
       "161. 195\n",
       "162. 219\n",
       "163. 272\n",
       "164. 174\n",
       "165. 333\n",
       "166. 148\n",
       "167. 20\n",
       "168. 220\n",
       "169. 362\n",
       "170. 345\n",
       "171. 215\n",
       "172. 23\n",
       "173. 349\n",
       "174. 197\n",
       "175. 375\n",
       "176. 344\n",
       "177. 76\n",
       "178. 30\n",
       "179. 140\n",
       "180. 116\n",
       "181. 201\n",
       "182. 304\n",
       "183. 382\n",
       "184. 164\n",
       "185. 25\n",
       "186. 229\n",
       "187. 18\n",
       "188. 378\n",
       "189. 320\n",
       "190. 16\n",
       "191. 323\n",
       "192. 286\n",
       "193. 232\n",
       "194. 33\n",
       "195. 385\n",
       "196. 40\n",
       "\n",
       "\n"
      ],
      "text/plain": [
       "  [1]  73 275 224  66 367 366  50 321 180 211 212  92 289  69 154 322 368  85\n",
       " [19] 167  28 247 144 310  56 128 384  55 131 351  49   4  60 292 312 185 390\n",
       " [37] 301 102 237  54 346 105  41  57 329 276 338 121 173 278   3   6 233 316\n",
       " [55]  94 274 265 332 206 354 256 294 207  86 282 371 127 150  71  22  89 100\n",
       " [73]  14  59 319 240 381 337 326 388 110 209   8 124  62 263 298  99 223 104\n",
       " [91] 295 120 114 168 139 318 314 373  34 129 297 125 285 317  83 172 258 130\n",
       "[109]  42  37   7 330 364 161 230 226 241  31 262 156  11  67 336 239  65 203\n",
       "[127] 325  81 184 377 387 380 341 250  82 287 137 311  48 355  45  72 158  75\n",
       "[145] 111 181 165  77 117 324 252  87 217  95 186  68 202 350  19 379 195 219\n",
       "[163] 272 174 333 148  20 220 362 345 215  23 349 197 375 344  76  30 140 116\n",
       "[181] 201 304 382 164  25 229  18 378 320  16 323 286 232  33 385  40"
      ]
     },
     "metadata": {},
     "output_type": "display_data"
    }
   ],
   "source": [
    "# Notice that if we use a different subsample we'd get different results\n",
    "set.seed(2) #using a different seed.. \n",
    "train=sample(392,196)\n",
    "train"
   ]
  },
  {
   "cell_type": "code",
   "execution_count": 12,
   "metadata": {},
   "outputs": [
    {
     "data": {
      "text/html": [
       "23.2955851508862"
      ],
      "text/latex": [
       "23.2955851508862"
      ],
      "text/markdown": [
       "23.2955851508862"
      ],
      "text/plain": [
       "[1] 23.29559"
      ]
     },
     "metadata": {},
     "output_type": "display_data"
    },
    {
     "data": {
      "text/html": [
       "20.3853777964338"
      ],
      "text/latex": [
       "20.3853777964338"
      ],
      "text/markdown": [
       "20.3853777964338"
      ],
      "text/plain": [
       "[1] 20.38538"
      ]
     },
     "metadata": {},
     "output_type": "display_data"
    },
    {
     "data": {
      "text/html": [
       "19.9634687215721"
      ],
      "text/latex": [
       "19.9634687215721"
      ],
      "text/markdown": [
       "19.9634687215721"
      ],
      "text/plain": [
       "[1] 19.96347"
      ]
     },
     "metadata": {},
     "output_type": "display_data"
    }
   ],
   "source": [
    "# Linear model\n",
    "lm.fit = lm(mpg~horsepower, data=Auto, subset=train)\n",
    "mean((Auto$mpg-predict(lm.fit,Auto))[-train]^2)\n",
    "\n",
    "# Polynomial\n",
    "lm.fit2 = lm(mpg~poly(horsepower,4), data=Auto, subset=train)\n",
    "mean((Auto$mpg-predict(lm.fit2,Auto))[-train]^2)\n",
    "\n",
    "# Cubic\n",
    "lm.fit3 = lm(mpg~poly(horsepower,6), data=Auto, subset=train)\n",
    "mean((Auto$mpg-predict(lm.fit3,Auto))[-train]^2)"
   ]
  },
  {
   "cell_type": "markdown",
   "metadata": {},
   "source": [
    "If we repeated this procedure a number of times with different seeds, we would see a pattern that looks like this. Here, each line represents the test set error for a different set of randomly chosen training samples for a set of polynomial regressions. Depending on the specific training set we use, the test error estimate varies substantially. "
   ]
  },
  {
   "cell_type": "markdown",
   "metadata": {},
   "source": [
    "<img src=\"imgs/mse_variability.png\" alt=\"drawing\" width=\"700\"/>"
   ]
  },
  {
   "cell_type": "markdown",
   "metadata": {},
   "source": [
    "---\n",
    "# Leave-one-out cross-validation (LOOCV)"
   ]
  },
  {
   "cell_type": "markdown",
   "metadata": {},
   "source": [
    "Leave-one-out cross-validation (LOOCV) repeatedly splits the set of $n$ data points into a training set (blue) that has all except one observation, and a validation set that has only a single observation (beige). The test error is estimated by averaging the $n$ resulting MSEs. Below, the first training set contains everything except observation 1, the second training set contains everything except observation 2, and this continues until $n$ training sets are created and tested.\n"
   ]
  },
  {
   "cell_type": "markdown",
   "metadata": {},
   "source": [
    "<img src=\"imgs/loocv.png\" alt=\"drawing\" width=\"700\"/>"
   ]
  },
  {
   "cell_type": "markdown",
   "metadata": {},
   "source": [
    "The [_boot_](https://cran.r-project.org/web/packages/boot/boot.pdf) library in R has many tools to perform LOOCV using a model fit object. Let's try performing LOOCV using the _glm()_ function and the _cv.glm()_ function.\n",
    "\n",
    "We'll start with a simple linear regression model predicting _mpg_ from _horsepower_, using the full data set."
   ]
  },
  {
   "cell_type": "code",
   "execution_count": 13,
   "metadata": {},
   "outputs": [
    {
     "data": {
      "text/html": [
       "<dl class=dl-horizontal>\n",
       "\t<dt>(Intercept)</dt>\n",
       "\t\t<dd>39.9358610211705</dd>\n",
       "\t<dt>horsepower</dt>\n",
       "\t\t<dd>-0.157844733353654</dd>\n",
       "</dl>\n"
      ],
      "text/latex": [
       "\\begin{description*}\n",
       "\\item[(Intercept)] 39.9358610211705\n",
       "\\item[horsepower] -0.157844733353654\n",
       "\\end{description*}\n"
      ],
      "text/markdown": [
       "(Intercept)\n",
       ":   39.9358610211705horsepower\n",
       ":   -0.157844733353654\n",
       "\n"
      ],
      "text/plain": [
       "(Intercept)  horsepower \n",
       " 39.9358610  -0.1578447 "
      ]
     },
     "metadata": {},
     "output_type": "display_data"
    }
   ],
   "source": [
    "# Continue with the Auto example\n",
    "glm.fit = glm(mpg~horsepower, data=Auto)\n",
    "coef(glm.fit)"
   ]
  },
  {
   "cell_type": "markdown",
   "metadata": {},
   "source": [
    "Now let's use LOOCV, via the _cv.glm()_ function, to estimate the cross validated MSE per the following equation.\n",
    "\n",
    "$$ CV_{(n)} = \\frac{1}{n} \\sum_{i=1}^{n} MSE_i $$\n"
   ]
  },
  {
   "cell_type": "code",
   "execution_count": 18,
   "metadata": {},
   "outputs": [],
   "source": [
    "library(boot)\n",
    "# ?cv.glm() #uncomment to get more information about this function"
   ]
  },
  {
   "cell_type": "code",
   "execution_count": 20,
   "metadata": {},
   "outputs": [
    {
     "data": {
      "text/html": [
       "<ol class=list-inline>\n",
       "\t<li>24.2315135179292</li>\n",
       "\t<li>24.2311440937562</li>\n",
       "</ol>\n"
      ],
      "text/latex": [
       "\\begin{enumerate*}\n",
       "\\item 24.2315135179292\n",
       "\\item 24.2311440937562\n",
       "\\end{enumerate*}\n"
      ],
      "text/markdown": [
       "1. 24.2315135179292\n",
       "2. 24.2311440937562\n",
       "\n",
       "\n"
      ],
      "text/plain": [
       "[1] 24.23151 24.23114"
      ]
     },
     "metadata": {},
     "output_type": "display_data"
    }
   ],
   "source": [
    "# Load the bootstrap library\n",
    "library(boot)\n",
    "glm.fit = glm(mpg~horsepower, data=Auto)\n",
    "cv.err  = cv.glm(Auto, glm.fit, K=nrow(Auto)) #if you don't define _k_ in the _cv.glm()_ function, the default is LOOCV\n",
    "cv.err$delta"
   ]
  },
  {
   "cell_type": "code",
   "execution_count": 21,
   "metadata": {},
   "outputs": [
    {
     "data": {
      "text/html": [
       "392"
      ],
      "text/latex": [
       "392"
      ],
      "text/markdown": [
       "392"
      ],
      "text/plain": [
       "[1] 392"
      ]
     },
     "metadata": {},
     "output_type": "display_data"
    }
   ],
   "source": [
    "length(Auto$mpg)"
   ]
  },
  {
   "cell_type": "code",
   "execution_count": 22,
   "metadata": {},
   "outputs": [
    {
     "data": {
      "text/html": [
       "<ol class=list-inline>\n",
       "\t<li>403</li>\n",
       "\t<li>588</li>\n",
       "\t<li>241038711</li>\n",
       "\t<li>-724551010</li>\n",
       "\t<li>-982165160</li>\n",
       "\t<li>-1828904773</li>\n",
       "\t<li>1219649113</li>\n",
       "\t<li>639708648</li>\n",
       "\t<li>-249104362</li>\n",
       "\t<li>-1532738671</li>\n",
       "</ol>\n"
      ],
      "text/latex": [
       "\\begin{enumerate*}\n",
       "\\item 403\n",
       "\\item 588\n",
       "\\item 241038711\n",
       "\\item -724551010\n",
       "\\item -982165160\n",
       "\\item -1828904773\n",
       "\\item 1219649113\n",
       "\\item 639708648\n",
       "\\item -249104362\n",
       "\\item -1532738671\n",
       "\\end{enumerate*}\n"
      ],
      "text/markdown": [
       "1. 403\n",
       "2. 588\n",
       "3. 241038711\n",
       "4. -724551010\n",
       "5. -982165160\n",
       "6. -1828904773\n",
       "7. 1219649113\n",
       "8. 639708648\n",
       "9. -249104362\n",
       "10. -1532738671\n",
       "\n",
       "\n"
      ],
      "text/plain": [
       " [1]         403         588   241038711  -724551010  -982165160 -1828904773\n",
       " [7]  1219649113   639708648  -249104362 -1532738671"
      ]
     },
     "metadata": {},
     "output_type": "display_data"
    },
    {
     "data": {
      "text/html": [
       "626"
      ],
      "text/latex": [
       "626"
      ],
      "text/markdown": [
       "626"
      ],
      "text/plain": [
       "[1] 626"
      ]
     },
     "metadata": {},
     "output_type": "display_data"
    },
    {
     "data": {
      "text/html": [
       "392"
      ],
      "text/latex": [
       "392"
      ],
      "text/markdown": [
       "392"
      ],
      "text/plain": [
       "[1] 392"
      ]
     },
     "metadata": {},
     "output_type": "display_data"
    },
    {
     "data": {
      "text/plain": [
       "cv.glm(data = Auto, glmfit = glm.fit, K = nrow(Auto))"
      ]
     },
     "metadata": {},
     "output_type": "display_data"
    }
   ],
   "source": [
    "#cv.err returns several values \n",
    "\n",
    "head(cv.err$seed,10) #this is a list of random seeds set when cv.glm was called, for each fold (here n_folds = n)\n",
    "length(cv.err$seed)\n",
    "\n",
    "cv.err$K #the number of folds used when the function was called \n",
    "cv.err$call #the way that the cv.err function was called"
   ]
  },
  {
   "cell_type": "markdown",
   "metadata": {},
   "source": [
    "Remember the bias-variance tradeoff in the selection of $k$ from lecture? Here the first entry of _cv.err$delta_ is the raw cross-validation estimate of prediction error (equation above) and the second is the adjusted cross-validation estimate designed to compensate for the bias introduced by not using leave-one-out cross-validation.\n",
    "<br>\n",
    "<br>\n",
    "Let's look at the same thing but with polynomial regression (this may take a minute or two to run)."
   ]
  },
  {
   "cell_type": "code",
   "execution_count": 23,
   "metadata": {},
   "outputs": [
    {
     "data": {
      "text/html": [
       "<ol class=list-inline>\n",
       "\t<li>24.2315135179293</li>\n",
       "\t<li>19.2482131244897</li>\n",
       "\t<li>19.3349840640291</li>\n",
       "\t<li>19.4244303104303</li>\n",
       "\t<li>19.0332138547041</li>\n",
       "\t<li>18.9786436582254</li>\n",
       "\t<li>18.8330450653183</li>\n",
       "\t<li>18.9611507120532</li>\n",
       "\t<li>19.0686299814599</li>\n",
       "\t<li>19.4909322993341</li>\n",
       "</ol>\n"
      ],
      "text/latex": [
       "\\begin{enumerate*}\n",
       "\\item 24.2315135179293\n",
       "\\item 19.2482131244897\n",
       "\\item 19.3349840640291\n",
       "\\item 19.4244303104303\n",
       "\\item 19.0332138547041\n",
       "\\item 18.9786436582254\n",
       "\\item 18.8330450653183\n",
       "\\item 18.9611507120532\n",
       "\\item 19.0686299814599\n",
       "\\item 19.4909322993341\n",
       "\\end{enumerate*}\n"
      ],
      "text/markdown": [
       "1. 24.2315135179293\n",
       "2. 19.2482131244897\n",
       "3. 19.3349840640291\n",
       "4. 19.4244303104303\n",
       "5. 19.0332138547041\n",
       "6. 18.9786436582254\n",
       "7. 18.8330450653183\n",
       "8. 18.9611507120532\n",
       "9. 19.0686299814599\n",
       "10. 19.4909322993341\n",
       "\n",
       "\n"
      ],
      "text/plain": [
       " [1] 24.23151 19.24821 19.33498 19.42443 19.03321 18.97864 18.83305 18.96115\n",
       " [9] 19.06863 19.49093"
      ]
     },
     "metadata": {},
     "output_type": "display_data"
    }
   ],
   "source": [
    "# Repeat for polynomial models up to a factor of 10\n",
    "cv.error = rep(0,10) # Always have to specify your output object\n",
    "for (i in 1:10){\n",
    "    glm.fit=glm(mpg~poly(horsepower,i), data=Auto)\n",
    "    cv.error[i] = cv.glm(Auto, glm.fit)$delta[1]\n",
    "}\n",
    "cv.error"
   ]
  },
  {
   "cell_type": "markdown",
   "metadata": {},
   "source": [
    "The first entry in the _cv.error_ array is the linear model we estimated above. Notice that we get an initial improvement in accuracy when you move to the 2nd order polynomial, but more complex models (i.e., higher order polynomials) only provide a modest decrease in error."
   ]
  },
  {
   "cell_type": "markdown",
   "metadata": {},
   "source": [
    "---\n",
    "# K-fold cross validation\n"
   ]
  },
  {
   "cell_type": "markdown",
   "metadata": {},
   "source": [
    "Below shows a 5-fold cross validation. Here, the set of $n$ observations is randomly split into five unique groups. Each fifth of the dataset acts as a validation set (beige), and the remainder is the training set (blue). The average of the five resulting MSE estimates is the test error."
   ]
  },
  {
   "cell_type": "markdown",
   "metadata": {},
   "source": [
    "<img src=\"imgs/kfold_cv.png\" alt=\"drawing\" width=\"700\"/>"
   ]
  },
  {
   "cell_type": "markdown",
   "metadata": {},
   "source": [
    "As stated above, the default _k_ for the _cv.glm()_ function is _k=n_ (i.e., LOOCV). If you don't want to do LOOCV you can specify the number of folds as an input to the function."
   ]
  },
  {
   "cell_type": "code",
   "execution_count": 24,
   "metadata": {},
   "outputs": [
    {
     "data": {
      "image/png": "[encoded data removed]",
      "text/plain": [
       "plot without title"
      ]
     },
     "metadata": {},
     "output_type": "display_data"
    }
   ],
   "source": [
    "# Reset the seed\n",
    "set.seed(17)\n",
    "\n",
    "# Repeat our previous loop  but use K-fold CV \n",
    "# where K = 10 and up to a 5th order polynomial\n",
    "cv.error.10 = rep(0,10) # Always have to specify your output object\n",
    "for (i in 1:10){\n",
    "  glm.fit=glm(mpg~poly(horsepower,i), data=Auto) #get the glm fit for all 10 polynomials\n",
    "  cv.error.10[i] = cv.glm(Auto, glm.fit,K=10)$delta[1]\n",
    "}\n",
    "\n",
    "plot(cv.error, cv.error.10, xlab=\"LOOCV error\", ylab=\"10-fold CV error\")\n",
    "lines(c(19,25),c(19,25))\n"
   ]
  },
  {
   "cell_type": "markdown",
   "metadata": {},
   "source": [
    "Notice how similar the results are for 5-fold CV & LOOCV, but the folding results run faster! "
   ]
  },
  {
   "cell_type": "markdown",
   "metadata": {},
   "source": [
    "# Extracting $y$ predictions for each fold"
   ]
  },
  {
   "cell_type": "code",
   "execution_count": 26,
   "metadata": {},
   "outputs": [
    {
     "name": "stderr",
     "output_type": "stream",
     "text": [
      "── Attaching packages ─────────────────────────────────────── tidyverse 1.2.1 ──\n",
      "✔ ggplot2 3.1.0       ✔ purrr   0.3.0  \n",
      "✔ tibble  2.0.1       ✔ dplyr   0.8.0.1\n",
      "✔ tidyr   0.7.2       ✔ stringr 1.4.0  \n",
      "✔ readr   1.1.1       ✔ forcats 0.2.0  \n",
      "Warning message:\n",
      "“package ‘ggplot2’ was built under R version 3.4.4”Warning message:\n",
      "“package ‘tibble’ was built under R version 3.4.4”Warning message:\n",
      "“package ‘purrr’ was built under R version 3.4.4”Warning message:\n",
      "“package ‘dplyr’ was built under R version 3.4.4”Warning message:\n",
      "“package ‘stringr’ was built under R version 3.4.4”── Conflicts ────────────────────────────────────────── tidyverse_conflicts() ──\n",
      "✖ dplyr::filter() masks stats::filter()\n",
      "✖ dplyr::lag()    masks stats::lag()\n"
     ]
    },
    {
     "data": {},
     "metadata": {},
     "output_type": "display_data"
    },
    {
     "data": {
      "image/png": "[encoded data removed]",
      "text/plain": [
       "plot without title"
      ]
     },
     "metadata": {},
     "output_type": "display_data"
    }
   ],
   "source": [
    "library(tidyverse)\n",
    "ggplot(aes(weight, mpg),data=Auto) + geom_point() + stat_smooth(method = \"lm\", formula = y ~ poly(x,2), se = FALSE)"
   ]
  },
  {
   "cell_type": "markdown",
   "metadata": {},
   "source": [
    "To easily get $\\hat{y}$ and the parameter estimates for each fold, you can instead use the [caret package](https://topepo.github.io/caret/model-training-and-tuning.html). Then you can use those estimates to quantify error however you like. "
   ]
  },
  {
   "cell_type": "code",
   "execution_count": 27,
   "metadata": {},
   "outputs": [
    {
     "name": "stderr",
     "output_type": "stream",
     "text": [
      "Warning message:\n",
      "“package ‘caret’ was built under R version 3.4.4”Loading required package: lattice\n",
      "\n",
      "Attaching package: ‘lattice’\n",
      "\n",
      "The following object is masked from ‘package:boot’:\n",
      "\n",
      "    melanoma\n",
      "\n",
      "\n",
      "Attaching package: ‘caret’\n",
      "\n",
      "The following object is masked from ‘package:purrr’:\n",
      "\n",
      "    lift\n",
      "\n"
     ]
    },
    {
     "data": {
      "text/plain": [
       "Generalized Linear Model \n",
       "\n",
       "392 samples\n",
       "  1 predictor\n",
       "\n",
       "No pre-processing\n",
       "Resampling: Cross-Validated (10 fold) \n",
       "Summary of sample sizes: 352, 352, 353, 354, 353, 352, ... \n",
       "Resampling results:\n",
       "\n",
       "  RMSE    Rsquared   MAE     \n",
       "  4.1069  0.7290987  3.074199\n"
      ]
     },
     "metadata": {},
     "output_type": "display_data"
    },
    {
     "data": {
      "text/html": [
       "<table>\n",
       "<thead><tr><th scope=col>pred</th><th scope=col>obs</th><th scope=col>rowIndex</th><th scope=col>parameter</th><th scope=col>Resample</th></tr></thead>\n",
       "<tbody>\n",
       "\t<tr><td>17.14419</td><td>15      </td><td> 2      </td><td>none    </td><td>Fold01  </td></tr>\n",
       "\t<tr><td>13.74254</td><td>10      </td><td>27      </td><td>none    </td><td>Fold01  </td></tr>\n",
       "\t<tr><td>25.44510</td><td>19      </td><td>33      </td><td>none    </td><td>Fold01  </td></tr>\n",
       "\t<tr><td>18.79969</td><td>16      </td><td>34      </td><td>none    </td><td>Fold01  </td></tr>\n",
       "\t<tr><td>19.88420</td><td>18      </td><td>37      </td><td>none    </td><td>Fold01  </td></tr>\n",
       "\t<tr><td>12.53899</td><td>13      </td><td>43      </td><td>none    </td><td>Fold01  </td></tr>\n",
       "</tbody>\n",
       "</table>\n"
      ],
      "text/latex": [
       "\\begin{tabular}{r|lllll}\n",
       " pred & obs & rowIndex & parameter & Resample\\\\\n",
       "\\hline\n",
       "\t 17.14419 & 15       &  2       & none     & Fold01  \\\\\n",
       "\t 13.74254 & 10       & 27       & none     & Fold01  \\\\\n",
       "\t 25.44510 & 19       & 33       & none     & Fold01  \\\\\n",
       "\t 18.79969 & 16       & 34       & none     & Fold01  \\\\\n",
       "\t 19.88420 & 18       & 37       & none     & Fold01  \\\\\n",
       "\t 12.53899 & 13       & 43       & none     & Fold01  \\\\\n",
       "\\end{tabular}\n"
      ],
      "text/markdown": [
       "\n",
       "pred | obs | rowIndex | parameter | Resample | \n",
       "|---|---|---|---|---|---|\n",
       "| 17.14419 | 15       |  2       | none     | Fold01   | \n",
       "| 13.74254 | 10       | 27       | none     | Fold01   | \n",
       "| 25.44510 | 19       | 33       | none     | Fold01   | \n",
       "| 18.79969 | 16       | 34       | none     | Fold01   | \n",
       "| 19.88420 | 18       | 37       | none     | Fold01   | \n",
       "| 12.53899 | 13       | 43       | none     | Fold01   | \n",
       "\n",
       "\n"
      ],
      "text/plain": [
       "  pred     obs rowIndex parameter Resample\n",
       "1 17.14419 15   2       none      Fold01  \n",
       "2 13.74254 10  27       none      Fold01  \n",
       "3 25.44510 19  33       none      Fold01  \n",
       "4 18.79969 16  34       none      Fold01  \n",
       "5 19.88420 18  37       none      Fold01  \n",
       "6 12.53899 13  43       none      Fold01  "
      ]
     },
     "metadata": {},
     "output_type": "display_data"
    }
   ],
   "source": [
    "library(caret) #use the caret library to automatically get the y predictions \n",
    "set.seed(2)\n",
    "\n",
    "tc <- trainControl(\"cv\",,savePred=T) #save predictions, use k=10 cross-validation\n",
    "(fit <- train(mpg~poly(weight,2),data=Auto,method=\"glm\",trControl=tc))\n",
    "\n",
    "head(fit$pred) #get the predictions and the observed values and profit! now you can use the predictions from each fold however you like. "
   ]
  },
  {
   "cell_type": "code",
   "execution_count": 28,
   "metadata": {},
   "outputs": [
    {
     "data": {
      "text/html": [
       "<table>\n",
       "<thead><tr><th scope=col>RMSE</th><th scope=col>Rsquared</th><th scope=col>MAE</th><th scope=col>Resample</th></tr></thead>\n",
       "<tbody>\n",
       "\t<tr><td>3.786921 </td><td>0.7261991</td><td>2.926025 </td><td>Fold01   </td></tr>\n",
       "\t<tr><td>3.403222 </td><td>0.8244962</td><td>2.494260 </td><td>Fold02   </td></tr>\n",
       "\t<tr><td>3.257303 </td><td>0.8032998</td><td>2.289237 </td><td>Fold03   </td></tr>\n",
       "\t<tr><td>3.782447 </td><td>0.7659864</td><td>2.564258 </td><td>Fold04   </td></tr>\n",
       "\t<tr><td>4.949981 </td><td>0.5919681</td><td>3.934656 </td><td>Fold05   </td></tr>\n",
       "\t<tr><td>6.031819 </td><td>0.5412517</td><td>4.590667 </td><td>Fold06   </td></tr>\n",
       "\t<tr><td>3.857128 </td><td>0.7513033</td><td>3.014984 </td><td>Fold07   </td></tr>\n",
       "\t<tr><td>3.782959 </td><td>0.8585855</td><td>2.742170 </td><td>Fold08   </td></tr>\n",
       "\t<tr><td>3.836319 </td><td>0.7235117</td><td>2.918716 </td><td>Fold09   </td></tr>\n",
       "\t<tr><td>4.380905 </td><td>0.7043847</td><td>3.267015 </td><td>Fold10   </td></tr>\n",
       "</tbody>\n",
       "</table>\n"
      ],
      "text/latex": [
       "\\begin{tabular}{r|llll}\n",
       " RMSE & Rsquared & MAE & Resample\\\\\n",
       "\\hline\n",
       "\t 3.786921  & 0.7261991 & 2.926025  & Fold01   \\\\\n",
       "\t 3.403222  & 0.8244962 & 2.494260  & Fold02   \\\\\n",
       "\t 3.257303  & 0.8032998 & 2.289237  & Fold03   \\\\\n",
       "\t 3.782447  & 0.7659864 & 2.564258  & Fold04   \\\\\n",
       "\t 4.949981  & 0.5919681 & 3.934656  & Fold05   \\\\\n",
       "\t 6.031819  & 0.5412517 & 4.590667  & Fold06   \\\\\n",
       "\t 3.857128  & 0.7513033 & 3.014984  & Fold07   \\\\\n",
       "\t 3.782959  & 0.8585855 & 2.742170  & Fold08   \\\\\n",
       "\t 3.836319  & 0.7235117 & 2.918716  & Fold09   \\\\\n",
       "\t 4.380905  & 0.7043847 & 3.267015  & Fold10   \\\\\n",
       "\\end{tabular}\n"
      ],
      "text/markdown": [
       "\n",
       "RMSE | Rsquared | MAE | Resample | \n",
       "|---|---|---|---|---|---|---|---|---|---|\n",
       "| 3.786921  | 0.7261991 | 2.926025  | Fold01    | \n",
       "| 3.403222  | 0.8244962 | 2.494260  | Fold02    | \n",
       "| 3.257303  | 0.8032998 | 2.289237  | Fold03    | \n",
       "| 3.782447  | 0.7659864 | 2.564258  | Fold04    | \n",
       "| 4.949981  | 0.5919681 | 3.934656  | Fold05    | \n",
       "| 6.031819  | 0.5412517 | 4.590667  | Fold06    | \n",
       "| 3.857128  | 0.7513033 | 3.014984  | Fold07    | \n",
       "| 3.782959  | 0.8585855 | 2.742170  | Fold08    | \n",
       "| 3.836319  | 0.7235117 | 2.918716  | Fold09    | \n",
       "| 4.380905  | 0.7043847 | 3.267015  | Fold10    | \n",
       "\n",
       "\n"
      ],
      "text/plain": [
       "   RMSE     Rsquared  MAE      Resample\n",
       "1  3.786921 0.7261991 2.926025 Fold01  \n",
       "2  3.403222 0.8244962 2.494260 Fold02  \n",
       "3  3.257303 0.8032998 2.289237 Fold03  \n",
       "4  3.782447 0.7659864 2.564258 Fold04  \n",
       "5  4.949981 0.5919681 3.934656 Fold05  \n",
       "6  6.031819 0.5412517 4.590667 Fold06  \n",
       "7  3.857128 0.7513033 3.014984 Fold07  \n",
       "8  3.782959 0.8585855 2.742170 Fold08  \n",
       "9  3.836319 0.7235117 2.918716 Fold09  \n",
       "10 4.380905 0.7043847 3.267015 Fold10  "
      ]
     },
     "metadata": {},
     "output_type": "display_data"
    }
   ],
   "source": [
    "fit$resample #getting test fit statistics for each sample"
   ]
  },
  {
   "cell_type": "code",
   "execution_count": 29,
   "metadata": {},
   "outputs": [],
   "source": [
    "fit_predictions <- fit$pred"
   ]
  },
  {
   "cell_type": "code",
   "execution_count": 30,
   "metadata": {},
   "outputs": [],
   "source": [
    "fit_predictions$fold <- str_sub(fit_predictions$Resample, start=-2)"
   ]
  },
  {
   "cell_type": "code",
   "execution_count": 31,
   "metadata": {},
   "outputs": [
    {
     "data": {},
     "metadata": {},
     "output_type": "display_data"
    },
    {
     "data": {
      "image/png": "[encoded data removed]",
      "text/plain": [
       "plot without title"
      ]
     },
     "metadata": {},
     "output_type": "display_data"
    }
   ],
   "source": [
    "library(latex2exp) #this library can render latex formulae for plot labels\n",
    "ggplot(data=fit_predictions, aes(pred,obs, col=fold)) + geom_point() + xlab(TeX(\"$\\\\hat{y}$\")) + ylab('y')"
   ]
  },
  {
   "cell_type": "code",
   "execution_count": 32,
   "metadata": {},
   "outputs": [
    {
     "data": {
      "text/html": [
       "<dl>\n",
       "\t<dt>$names</dt>\n",
       "\t\t<dd><ol class=list-inline>\n",
       "\t<li>'method'</li>\n",
       "\t<li>'modelInfo'</li>\n",
       "\t<li>'modelType'</li>\n",
       "\t<li>'results'</li>\n",
       "\t<li>'pred'</li>\n",
       "\t<li>'bestTune'</li>\n",
       "\t<li>'call'</li>\n",
       "\t<li>'dots'</li>\n",
       "\t<li>'metric'</li>\n",
       "\t<li>'control'</li>\n",
       "\t<li>'finalModel'</li>\n",
       "\t<li>'preProcess'</li>\n",
       "\t<li>'trainingData'</li>\n",
       "\t<li>'resample'</li>\n",
       "\t<li>'resampledCM'</li>\n",
       "\t<li>'perfNames'</li>\n",
       "\t<li>'maximize'</li>\n",
       "\t<li>'yLimits'</li>\n",
       "\t<li>'times'</li>\n",
       "\t<li>'levels'</li>\n",
       "\t<li>'terms'</li>\n",
       "\t<li>'coefnames'</li>\n",
       "\t<li>'xlevels'</li>\n",
       "</ol>\n",
       "</dd>\n",
       "\t<dt>$class</dt>\n",
       "\t\t<dd><ol class=list-inline>\n",
       "\t<li>'train'</li>\n",
       "\t<li>'train.formula'</li>\n",
       "</ol>\n",
       "</dd>\n",
       "</dl>\n"
      ],
      "text/latex": [
       "\\begin{description}\n",
       "\\item[\\$names] \\begin{enumerate*}\n",
       "\\item 'method'\n",
       "\\item 'modelInfo'\n",
       "\\item 'modelType'\n",
       "\\item 'results'\n",
       "\\item 'pred'\n",
       "\\item 'bestTune'\n",
       "\\item 'call'\n",
       "\\item 'dots'\n",
       "\\item 'metric'\n",
       "\\item 'control'\n",
       "\\item 'finalModel'\n",
       "\\item 'preProcess'\n",
       "\\item 'trainingData'\n",
       "\\item 'resample'\n",
       "\\item 'resampledCM'\n",
       "\\item 'perfNames'\n",
       "\\item 'maximize'\n",
       "\\item 'yLimits'\n",
       "\\item 'times'\n",
       "\\item 'levels'\n",
       "\\item 'terms'\n",
       "\\item 'coefnames'\n",
       "\\item 'xlevels'\n",
       "\\end{enumerate*}\n",
       "\n",
       "\\item[\\$class] \\begin{enumerate*}\n",
       "\\item 'train'\n",
       "\\item 'train.formula'\n",
       "\\end{enumerate*}\n",
       "\n",
       "\\end{description}\n"
      ],
      "text/markdown": [
       "$names\n",
       ":   1. 'method'\n",
       "2. 'modelInfo'\n",
       "3. 'modelType'\n",
       "4. 'results'\n",
       "5. 'pred'\n",
       "6. 'bestTune'\n",
       "7. 'call'\n",
       "8. 'dots'\n",
       "9. 'metric'\n",
       "10. 'control'\n",
       "11. 'finalModel'\n",
       "12. 'preProcess'\n",
       "13. 'trainingData'\n",
       "14. 'resample'\n",
       "15. 'resampledCM'\n",
       "16. 'perfNames'\n",
       "17. 'maximize'\n",
       "18. 'yLimits'\n",
       "19. 'times'\n",
       "20. 'levels'\n",
       "21. 'terms'\n",
       "22. 'coefnames'\n",
       "23. 'xlevels'\n",
       "\n",
       "\n",
       "\n",
       "$class\n",
       ":   1. 'train'\n",
       "2. 'train.formula'\n",
       "\n",
       "\n",
       "\n",
       "\n",
       "\n"
      ],
      "text/plain": [
       "$names\n",
       " [1] \"method\"       \"modelInfo\"    \"modelType\"    \"results\"      \"pred\"        \n",
       " [6] \"bestTune\"     \"call\"         \"dots\"         \"metric\"       \"control\"     \n",
       "[11] \"finalModel\"   \"preProcess\"   \"trainingData\" \"resample\"     \"resampledCM\" \n",
       "[16] \"perfNames\"    \"maximize\"     \"yLimits\"      \"times\"        \"levels\"      \n",
       "[21] \"terms\"        \"coefnames\"    \"xlevels\"     \n",
       "\n",
       "$class\n",
       "[1] \"train\"         \"train.formula\"\n"
      ]
     },
     "metadata": {},
     "output_type": "display_data"
    }
   ],
   "source": [
    "attributes(fit) #you can see all of the attributes of the model object this way"
   ]
  },
  {
   "cell_type": "code",
   "execution_count": 33,
   "metadata": {},
   "outputs": [
    {
     "data": {
      "text/html": [
       "'Regression'"
      ],
      "text/latex": [
       "'Regression'"
      ],
      "text/markdown": [
       "'Regression'"
      ],
      "text/plain": [
       "[1] \"Regression\""
      ]
     },
     "metadata": {},
     "output_type": "display_data"
    },
    {
     "data": {
      "text/html": [
       "<ol class=list-inline>\n",
       "\t<li>'poly(weight, 2)1'</li>\n",
       "\t<li>'poly(weight, 2)2'</li>\n",
       "</ol>\n"
      ],
      "text/latex": [
       "\\begin{enumerate*}\n",
       "\\item 'poly(weight, 2)1'\n",
       "\\item 'poly(weight, 2)2'\n",
       "\\end{enumerate*}\n"
      ],
      "text/markdown": [
       "1. 'poly(weight, 2)1'\n",
       "2. 'poly(weight, 2)2'\n",
       "\n",
       "\n"
      ],
      "text/plain": [
       "[1] \"poly(weight, 2)1\" \"poly(weight, 2)2\""
      ]
     },
     "metadata": {},
     "output_type": "display_data"
    },
    {
     "data": {
      "text/html": [
       "'glm'"
      ],
      "text/latex": [
       "'glm'"
      ],
      "text/markdown": [
       "'glm'"
      ],
      "text/plain": [
       "[1] \"glm\""
      ]
     },
     "metadata": {},
     "output_type": "display_data"
    }
   ],
   "source": [
    "fit$modelType\n",
    "fit$coefnames\n",
    "fit$method"
   ]
  },
  {
   "cell_type": "markdown",
   "metadata": {},
   "source": [
    "# Simulation and testing"
   ]
  },
  {
   "cell_type": "markdown",
   "metadata": {},
   "source": [
    "**Generate and store simulated data, as follows:**\n",
    "\n",
    ">``set.seed(10)\n",
    "x<-rnorm(100)\n",
    "y<-x-2*x^2+rnorm(100)\n",
    "df<-data.frame(x,y)\n",
    "``\n",
    "\n",
    "a) In this dataset, what is $n$ and what is $p$? <br>\n",
    "b) Write the model used to generate the data in equation form. <br>\n",
    "c) Using ggplot, show the relationship between $x$ and $y$. <br>\n",
    "e) Set a random seed. Then estimate each of the following OLS regression models and use LOOCV: <br>\n",
    "    *$$Y = \\beta_0 + \\beta_1X +\\epsilon$$\n",
    "    *$$Y = \\beta_0 + \\beta_1X + \\beta_2X^2 + \\epsilon$$\n",
    "    *$$Y = \\beta_0 + \\beta_1X + \\beta_2X^2 + \\beta_3X^3 + \\epsilon$$\n",
    "    *$$Y = \\beta_0 + \\beta_1X + \\beta_2X^2 + \\beta_3X^3 + \\beta_4X^4 + \\epsilon$$\n",
    "   \n",
    "f) Calculate and plot the training and the test error for each of these models. Which model has the lowest test error and why? <br>\n",
    "g) Choose a different seed and conduct LOOCV again. Are the results the same? Why?<br>"
   ]
  }
 ],
 "metadata": {
  "kernelspec": {
   "display_name": "R",
   "language": "R",
   "name": "ir"
  },
  "language_info": {
   "codemirror_mode": "r",
   "file_extension": ".r",
   "mimetype": "text/x-r-source",
   "name": "R",
   "pygments_lexer": "r",
   "version": "3.4.3"
  }
 },
 "nbformat": 4,
 "nbformat_minor": 2
}
