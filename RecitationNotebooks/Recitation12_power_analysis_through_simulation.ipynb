{
 "cells": [
  {
   "cell_type": "markdown",
   "metadata": {},
   "source": [
    "## Simulating power\n",
    "\n",
    "How do you determine the sample size necessary to obtain a real effect (with a desired probability)? The typical approach to this is to run a power analysis for known distributions, which analytically calculates how many participants you need to have in order to have an 80% chance, for example, to detect an effect. One tool to accomplish this is called [G-power](http://www.gpower.hhu.de/en.html).\n",
    "\n",
    "The problems with using G-power and similar analytical tools are that:\n",
    "- you can only use them for analyses they have implemented that have a simple analytical solution (e.g., t-tests, ANOVA). They do not offer power analyses for mixed-effects regressions and many other tools that you have learned in the class.\n",
    "- they calculate power only as a function of \"number of participants\" - they do not take into account the fact that increasing the number of observations per participant can also increase power, by decreasing variability in individual estimates\n",
    "\n",
    "One solution to these problems is to analyze the power to detect an effect by simulation. The idea is quite simple - you repeatedly simulate artificial data by choosing plausible parameters given the existing literature or expected effect sizes and then you run the analysis of your choice on the simulated data. The proportion of simulations in which you find a statistically significant result is the power of your study, or the probability with which you can expect to find a real effect of that size in your sample.\n",
    "\n"
   ]
  },
  {
   "cell_type": "markdown",
   "metadata": {},
   "source": [
    "## Basic algorithm\n",
    "\n",
    "Simulation power analyses follow these steps, on which we'll expand in the subsequent sections:\n",
    "1. Determine the sources of variance - between subject variability, trial-by-trial variability, etc.\n",
    "2. Write a **data simulation** function with the following form:\n",
    "    - input: parameters that control sample size, number of trials, means and variances of conditions\n",
    "    - procedure: simulate observations given these parameters\n",
    "    - output: simulated dataset\n",
    "3. Write an **analysis** function:\n",
    "    - input: simulated dataset\n",
    "    - procedure: run analysis and extract statistical significance\n",
    "    - output: statistical significance value (p-value, $\\Delta$AIC or $\\Delta$BIC, whether confidence intervals for coefficients overlap with zero, etc.)\n",
    "4. Write a loop that:\n",
    "    - repeatedly runs the prior two functions for different sample sizes and numbers of trials and extracts the proportion of simulations for which the analysis is significant"
   ]
  },
  {
   "cell_type": "markdown",
   "metadata": {},
   "source": [
    "### 1) Determine the sources of variance"
   ]
  },
  {
   "cell_type": "markdown",
   "metadata": {},
   "source": [
    "The outcome of any statistical analysis depends on how much your observations vary as you sample them. Variance comes from many sources -- there are individual differences, noisy sampling, trial-by-trial variability, etc. Which of these variance sources you need to specify depends on the analysis you want to run.\n",
    "\n",
    "Let's start with a simple example. Say you want to determine whether men are on average taller than women using a t-test. There is a \"true\" underlying difference in the population, such that if you measure the heights of all men and all women you would get the following population parameters:\n",
    "\n",
    "$$\\mu_{m} = 177 cm$$\n",
    "$$\\mu_w = 163 cm$$"
   ]
  },
  {
   "cell_type": "markdown",
   "metadata": {},
   "source": [
    "However, because there is variability present within male and female height, if you collect 5 measurements from each group of men and women, you would get sample statistics that are similar but not identical to the population parameters. It is even possible that you would, by chance (with such a small sample) get a group of women that are on average taller than men. \n",
    "\n",
    "Therefore, in order to run a power analysis for a t-test comparing the height of men and women, you need to specify the expected variability of height in men and women. \n",
    "\n",
    "Let's say that height is normally distributed with the above means and standard deviations of:"
   ]
  },
  {
   "cell_type": "markdown",
   "metadata": {},
   "source": [
    "$$\\sigma_m = 7cm$$\n",
    "$$\\sigma_w = 6.3cm$$"
   ]
  },
  {
   "cell_type": "markdown",
   "metadata": {},
   "source": [
    "Or, written more compactly:"
   ]
  },
  {
   "cell_type": "markdown",
   "metadata": {},
   "source": [
    "$$Height_m \\sim \\mathcal{N}(\\mu_m,\\,\\sigma_m^{2})$$\n",
    "$$Height_w \\sim \\mathcal{N}(\\mu_w,\\,\\sigma_w^{2})$$\n",
    "$$n=5$$\n"
   ]
  },
  {
   "cell_type": "markdown",
   "metadata": {},
   "source": [
    "### 2) Write a function to simulate artificial data\n",
    "Now let's write a function to simulate some data consistent with the above parameters."
   ]
  },
  {
   "cell_type": "code",
   "execution_count": 28,
   "metadata": {},
   "outputs": [],
   "source": [
    "# a function for simulating data for two groups. Sample size is the number of people in each group\n",
    "simulate_data <- function(sample_size, group1_mu, group1_sd, group2_mu, group2_sd) {\n",
    "    # draw observation from a normal distribution\n",
    "    obs_group1 <- rnorm(sample_size, group1_mu, group1_sd)\n",
    "    obs_group2 <- rnorm(sample_size, group2_mu, group2_sd)\n",
    "    return(data.frame(group1=obs_group1, group2=obs_group2))\n",
    "}"
   ]
  },
  {
   "cell_type": "markdown",
   "metadata": {},
   "source": [
    "With the first function we can simulate the heights for 5 men and women:"
   ]
  },
  {
   "cell_type": "code",
   "execution_count": 29,
   "metadata": {},
   "outputs": [
    {
     "name": "stdout",
     "output_type": "stream",
     "text": [
      "    group1   group2\n",
      "1 176.2855 176.3336\n",
      "2 169.7314 173.0064\n",
      "3 184.1678 154.7453\n",
      "4 166.8668 170.8773\n",
      "5 172.8292 164.2265\n"
     ]
    }
   ],
   "source": [
    "set.seed(040819)\n",
    "heights = simulate_data(sample_size = 5, group1_mu = 177, group1_sd = 7, \n",
    "                        group2_mu = 163, group2_sd = 6.3)\n",
    "print(heights)"
   ]
  },
  {
   "cell_type": "markdown",
   "metadata": {},
   "source": [
    "### 3) Write a function to conduct your intended analysis\n",
    "Now we can write a function to perform the t-test for the two groups. "
   ]
  },
  {
   "cell_type": "code",
   "execution_count": 30,
   "metadata": {},
   "outputs": [],
   "source": [
    "# a function for running a t-test and extracting p-value\n",
    "run_analysis <- function(data) {\n",
    "    fit <- t.test(data$group1, data$group2)\n",
    "    return(fit$p.value)\n",
    "}"
   ]
  },
  {
   "cell_type": "markdown",
   "metadata": {},
   "source": [
    "With this second function we can run an independent samples `t.test` and extract the `p.value`:"
   ]
  },
  {
   "cell_type": "code",
   "execution_count": 31,
   "metadata": {},
   "outputs": [
    {
     "data": {
      "text/html": [
       "0.243796675893576"
      ],
      "text/latex": [
       "0.243796675893576"
      ],
      "text/markdown": [
       "0.243796675893576"
      ],
      "text/plain": [
       "[1] 0.2437967"
      ]
     },
     "metadata": {},
     "output_type": "display_data"
    }
   ],
   "source": [
    "run_analysis(heights)"
   ]
  },
  {
   "cell_type": "markdown",
   "metadata": {},
   "source": [
    "Now, this particular sample did not have significantly different heights. However, this may have just been chance. If we repeat this process many times for this particular sample size, in what proportion of cases will we find a significant difference? Let's put both previous functions together to simulate the data and calculate the statistical result 1000 times. Note that we can also control the stringency of our analysis by specifying an alpha-level for the p-value. "
   ]
  },
  {
   "cell_type": "code",
   "execution_count": 32,
   "metadata": {},
   "outputs": [],
   "source": [
    "# a function for repeatedly running the t-test on multiple samples drawn with the same parameters\n",
    "repeat_analysis <- function(n_simulations, alpha, sample_size, group1_mu, group1_sd, group2_mu, group2_sd) {\n",
    "    p.values <- c() # empty vector to store p.values from each simulation\n",
    "    # loop for repeating the simulation\n",
    "    for (i in 1:n_simulations) {\n",
    "        data <- simulate_data(sample_size, group1_mu, group1_sd, group2_mu, group2_sd) # simulate the data using the defined function \n",
    "        p.value <- run_analysis(data) # call the previously defined function to run the analysis \n",
    "        p.values <- c(p.values, p.value) # add the current p.value to the vector\n",
    "    }\n",
    "    \n",
    "    # calculate how many of the simulations had significant results \n",
    "    power <- mean(p.values <= alpha)\n",
    "    return(list(power = power, p.values = p.values)) #return a list with the power as the probability of a sig. result and the corresponding p-values\n",
    "}\n"
   ]
  },
  {
   "cell_type": "markdown",
   "metadata": {},
   "source": [
    "For 1000 simulations of 5 participants per group and an alpha significance level of 0.05, we have a power of:"
   ]
  },
  {
   "cell_type": "code",
   "execution_count": 33,
   "metadata": {},
   "outputs": [
    {
     "data": {
      "text/html": [
       "0.793"
      ],
      "text/latex": [
       "0.793"
      ],
      "text/markdown": [
       "0.793"
      ],
      "text/plain": [
       "[1] 0.793"
      ]
     },
     "metadata": {},
     "output_type": "display_data"
    }
   ],
   "source": [
    "set.seed(040819)\n",
    "results = repeat_analysis(n_simulations = 1000, alpha = 0.05, sample_size = 5,\n",
    "                          group1_mu=177, group1_sd = 7, group2_mu = 163, group2_sd = 6.3)\n",
    "results$power"
   ]
  },
  {
   "cell_type": "markdown",
   "metadata": {},
   "source": [
    "This means that there is a 79.3% probability that we correctly reject the null (no difference in heights between men and women) at p < 0.05 if we measure the heights of 5 people. If we measure 10 people per group instead, we have much greater power to detect an effect:"
   ]
  },
  {
   "cell_type": "code",
   "execution_count": 41,
   "metadata": {},
   "outputs": [
    {
     "data": {
      "text/html": [
       "0.994"
      ],
      "text/latex": [
       "0.994"
      ],
      "text/markdown": [
       "0.994"
      ],
      "text/plain": [
       "[1] 0.994"
      ]
     },
     "metadata": {},
     "output_type": "display_data"
    }
   ],
   "source": [
    "set.seed(040819)\n",
    "results = repeat_analysis(n_simulations = 1000, alpha = 0.05, sample_size = 10,\n",
    "                          group1_mu=177, group1_sd = 7, group2_mu = 163, group2_sd = 6.3)\n",
    "results$power"
   ]
  },
  {
   "cell_type": "markdown",
   "metadata": {},
   "source": [
    "If we become more conservative with our statistical threshold, power decreases:"
   ]
  },
  {
   "cell_type": "code",
   "execution_count": 42,
   "metadata": {},
   "outputs": [
    {
     "data": {
      "text/html": [
       "0.756"
      ],
      "text/latex": [
       "0.756"
      ],
      "text/markdown": [
       "0.756"
      ],
      "text/plain": [
       "[1] 0.756"
      ]
     },
     "metadata": {},
     "output_type": "display_data"
    }
   ],
   "source": [
    "set.seed(18546)\n",
    "results = repeat_analysis(n_simulations = 1000, alpha = 0.001, sample_size = 10,\n",
    "                          group1_mu=177, group1_sd = 7, group2_mu = 163, group2_sd = 6.3)\n",
    "results$power"
   ]
  },
  {
   "cell_type": "markdown",
   "metadata": {},
   "source": [
    "To make it clearer, we can visualize the distribution of p.values obtained from each simulation:"
   ]
  },
  {
   "cell_type": "code",
   "execution_count": 88,
   "metadata": {},
   "outputs": [
    {
     "name": "stderr",
     "output_type": "stream",
     "text": [
      "`stat_bin()` using `bins = 30`. Pick better value with `binwidth`.\n"
     ]
    },
    {
     "data": {
      "image/png": "[encoded data removed]",
      "text/plain": [
       "plot without title"
      ]
     },
     "metadata": {},
     "output_type": "display_data"
    }
   ],
   "source": [
    "library(tidyverse)\n",
    "options(repr.plot.width=4, repr.plot.height=4)\n",
    "\n",
    "results_n5 = repeat_analysis(1000, 0.05, 5, 177, 7, 163, 6.3)\n",
    "results_n10 = repeat_analysis(1000, 0.05, 10, 177, 7, 163, 6.3)\n",
    "\n",
    "\n",
    "power_df = data.frame(cbind(n5 = results_n5$p.values, n10 = results_n10$p.values)) %>% \n",
    "            gather('n_samples', c('n5', 'n10'), value = 'p.values')\n",
    "\n",
    "\n",
    "ggplot(power_df, aes(p.values, fill=n_samples)) + geom_histogram() "
   ]
  },
  {
   "cell_type": "markdown",
   "metadata": {},
   "source": [
    "### 3) Vary the sample size (number of trials or number of subjects)"
   ]
  },
  {
   "cell_type": "markdown",
   "metadata": {},
   "source": [
    "Before, we asked what the power was when we varied the number of samples, or the number of people that we collected data from. Now, for the inverse question. How many **people** do we need to be 95% certain that we will detect the true significant difference in heights between men and women? Yes, you could manually vary the above function's parameters until you obtain a desired level of power, but we can instead simulate data for different sample sizes in an automated way and choose the sample size that gives us the desired power. \n",
    "\n",
    "<br><br>\n",
    "\n",
    "To do this, we can use the `tidyverse` package to create a dataframe with parameters, then simulate data for each row of the dataframe, store the results in a column, then run the analysis on that column and store the resulting p.value. If you need a reminder of the details of tidyverse, revisit this [tutorial](https://github.com/CoAxLab/DataSciencePsychNeuro_CMU85732/blob/master/RecitationNotebooks/Recitation02_modelObjects_tidydata.ipynb)."
   ]
  },
  {
   "cell_type": "code",
   "execution_count": 103,
   "metadata": {},
   "outputs": [],
   "source": [
    "# first, create a data.frame to store the results\n",
    "dat <- expand.grid(sample_size = 2:20, alpha = c(0.05,0.01,0.001)) #vary the criterion for sig. and the sample size\n",
    "dat$id <- 1:nrow(dat) #identify each combination of parameters as a separate parameter case for below \n",
    "\n",
    "# then use tidyverse functions to run the analysis for each sample size\n",
    "results <- dat  %>%  #using the df defined above\n",
    "    nest(-id, .key = 'parameters')  %>% #separate the parameters into lists split by case and call the new column of lists 'parameters' \n",
    "    mutate(power = map(parameters, ~ repeat_analysis(1000, .$alpha, .$sample_size, 177, 7, 163, 6.3)$power))  %>% \n",
    "    #for each case within parameters, repeat the analysis, varying the alpha and sample size\n",
    "    #store the power associated with all cases as a new variable called power \n",
    "    unnest(parameters, power) #return the dataframe to an unnested state, making each element of the list its own row"
   ]
  },
  {
   "cell_type": "code",
   "execution_count": 162,
   "metadata": {},
   "outputs": [
    {
     "data": {
      "text/html": [
       "<table>\n",
       "<thead><tr><th scope=col>id</th><th scope=col>power</th><th scope=col>n_subjects</th><th scope=col>n_trials</th></tr></thead>\n",
       "<tbody>\n",
       "\t<tr><td>1    </td><td>0.000</td><td>10   </td><td>10   </td></tr>\n",
       "\t<tr><td>2    </td><td>0.000</td><td>20   </td><td>10   </td></tr>\n",
       "\t<tr><td>3    </td><td>0.002</td><td>30   </td><td>10   </td></tr>\n",
       "\t<tr><td>4    </td><td>0.008</td><td>40   </td><td>10   </td></tr>\n",
       "\t<tr><td>5    </td><td>0.000</td><td>10   </td><td>20   </td></tr>\n",
       "\t<tr><td>6    </td><td>0.005</td><td>20   </td><td>20   </td></tr>\n",
       "</tbody>\n",
       "</table>\n"
      ],
      "text/latex": [
       "\\begin{tabular}{r|llll}\n",
       " id & power & n\\_subjects & n\\_trials\\\\\n",
       "\\hline\n",
       "\t 1     & 0.000 & 10    & 10   \\\\\n",
       "\t 2     & 0.000 & 20    & 10   \\\\\n",
       "\t 3     & 0.002 & 30    & 10   \\\\\n",
       "\t 4     & 0.008 & 40    & 10   \\\\\n",
       "\t 5     & 0.000 & 10    & 20   \\\\\n",
       "\t 6     & 0.005 & 20    & 20   \\\\\n",
       "\\end{tabular}\n"
      ],
      "text/markdown": [
       "\n",
       "| id | power | n_subjects | n_trials |\n",
       "|---|---|---|---|\n",
       "| 1     | 0.000 | 10    | 10    |\n",
       "| 2     | 0.000 | 20    | 10    |\n",
       "| 3     | 0.002 | 30    | 10    |\n",
       "| 4     | 0.008 | 40    | 10    |\n",
       "| 5     | 0.000 | 10    | 20    |\n",
       "| 6     | 0.005 | 20    | 20    |\n",
       "\n"
      ],
      "text/plain": [
       "  id power n_subjects n_trials\n",
       "1 1  0.000 10         10      \n",
       "2 2  0.000 20         10      \n",
       "3 3  0.002 30         10      \n",
       "4 4  0.008 40         10      \n",
       "5 5  0.000 10         20      \n",
       "6 6  0.005 20         20      "
      ]
     },
     "metadata": {},
     "output_type": "display_data"
    }
   ],
   "source": [
    "head(results) #now for each combination of sample size and alpha we have a power estimate, neatly arranged "
   ]
  },
  {
   "cell_type": "markdown",
   "metadata": {},
   "source": [
    "Now we can plot the power level for the different sample sizes and alpha levels:"
   ]
  },
  {
   "cell_type": "code",
   "execution_count": 166,
   "metadata": {},
   "outputs": [
    {
     "data": {
      "image/png": "[encoded data removed]",
      "text/plain": [
       "plot without title"
      ]
     },
     "metadata": {},
     "output_type": "display_data"
    }
   ],
   "source": [
    "options(repr.plot.width=6)\n",
    "ggplot(results, aes(sample_size, power, color=as.factor(alpha), group=alpha)) +\n",
    "    geom_point() +\n",
    "    geom_line() +\n",
    "    geom_hline(yintercept = 0.8) + \n",
    "    geom_hline(yintercept = 0.95) +\n",
    "    scale_color_discrete('Alpha level') +\n",
    "    scale_x_continuous('Sample size') +\n",
    "    theme_classic()"
   ]
  },
  {
   "cell_type": "markdown",
   "metadata": {},
   "source": [
    "You can see that for a power of 80%, you need 14 people per group to detect a difference in height at the 0.001 threshold for significance.  Progressively fewer subjects are needed to reach the same power at less stringent alpha thresholds. "
   ]
  },
  {
   "cell_type": "markdown",
   "metadata": {},
   "source": [
    "### Extending to more complicated analyses: Example with mixed-models"
   ]
  },
  {
   "cell_type": "markdown",
   "metadata": {},
   "source": [
    "The basic procedure outlined above and the functions presented can be extended to any type of analysis in which there is a discrete threshold for making significance decisions. The only thing that has to be changed is the generation of the data and the analysis function. In generating the data, the most complicated thing is specifying the variance structure. \n",
    "\n",
    "Let's take for example a mixed-effects regression of reaction times in a priming lexical decision experiment. We are interested in whether people make lexical decision ('Is this string a word or not?') faster after semantically congruent rather than semantically incongruent items. \n",
    "\n",
    "How do we generate data for this? Typical psycholinguistic experiments use repeated measures designs where each participant performs many trials in each condition. The reaction time to any trial is determined by:\n",
    "\n",
    "- mean of each condition (expected population priming effect)\n",
    "- individual differences in:\n",
    "    - overall speed (different intercepts for each subject)\n",
    "    - difference between conditions (some people might be more strongly affected by the manipulation than others)\n",
    "- trial-by-trial variation\n"
   ]
  },
  {
   "cell_type": "markdown",
   "metadata": {},
   "source": [
    "So our mixed effects model and data structure would be as follows:"
   ]
  },
  {
   "cell_type": "markdown",
   "metadata": {},
   "source": [
    "$$RTs = \\beta_{subject\\_intercept} + \\beta_{subject\\_slope} * condition + \\epsilon_{trial}$$"
   ]
  },
  {
   "cell_type": "markdown",
   "metadata": {},
   "source": [
    "$$\\beta_{subject\\_intercept} = \\beta_{overall\\_intercept} + \\epsilon_{intercept}$$"
   ]
  },
  {
   "cell_type": "markdown",
   "metadata": {},
   "source": [
    "$$\\beta_{subject\\_slope} = \\beta_{mean\\_difference} + \\epsilon_{slope}$$"
   ]
  },
  {
   "cell_type": "markdown",
   "metadata": {},
   "source": [
    "$$\\epsilon_{trial} \\sim \\mathcal{N}(0, \\sigma_{trial}^2)$$"
   ]
  },
  {
   "cell_type": "markdown",
   "metadata": {},
   "source": [
    "$$\\epsilon_{intercept} \\sim \\mathcal{N}(0, \\sigma_{intercept}^2)$$"
   ]
  },
  {
   "cell_type": "markdown",
   "metadata": {},
   "source": [
    "$$\\epsilon_{slope} \\sim \\mathcal{N}(0, \\sigma_{slope}^2)$$"
   ]
  },
  {
   "cell_type": "markdown",
   "metadata": {},
   "source": [
    "In our simulation, then, we need to specify 5 parameters for the data generation:\n",
    "- $\\beta_{overall\\_intercept}$ (Average RTs for congruent primes)\n",
    "- $\\beta_{mean\\_difference}$ (Average RT difference between congruent and incongruent primes)\n",
    "- $\\sigma_{trial}$ (The standard deviation of RTs on each trial, if each participant responds to the same item)\n",
    "- $\\sigma_{intercept}$ (How much individual subjects vary in their overall speed)\n",
    "- $\\sigma_{mean\\_difference}$ (How much individual subjects vary in how strongly they are affected by priming)"
   ]
  },
  {
   "cell_type": "markdown",
   "metadata": {},
   "source": [
    "Let's pick some plausible parameters based on prior literature and educated guessing:\n",
    "\n",
    "$$\\beta_{overall\\_intercept} = 700 ms.$$"
   ]
  },
  {
   "cell_type": "markdown",
   "metadata": {},
   "source": [
    "$$\\beta_{mean\\_difference} = 50 ms.$$"
   ]
  },
  {
   "cell_type": "markdown",
   "metadata": {},
   "source": [
    "$$\\sigma_{trial} = 200 ms.$$"
   ]
  },
  {
   "cell_type": "markdown",
   "metadata": {},
   "source": [
    "$$\\sigma_{intercept} = 100 ms.$$ "
   ]
  },
  {
   "cell_type": "markdown",
   "metadata": {},
   "source": [
    "$$\\sigma_{mean_difference} = 50 ms.$$"
   ]
  },
  {
   "cell_type": "markdown",
   "metadata": {},
   "source": [
    "How many subjects and trials per subject do we need to achieve 80% power? Let's adapt our functions."
   ]
  },
  {
   "cell_type": "code",
   "execution_count": 146,
   "metadata": {},
   "outputs": [],
   "source": [
    "library(lme4)\n",
    "\n",
    "# a function for simulating data for mixed-model.\n",
    "simulate_data <- function(n_subjects, n_trials, intercept, \n",
    "                          slope, intercept_sd, slope_sd, trial_sd) {\n",
    "    # draw observation from a normal distribution\n",
    "    subject_intercepts <- rnorm(n_subjects, intercept, intercept_sd)\n",
    "    subject_slopes <- rnorm(n_subjects, slope, slope_sd)\n",
    "    dat <- data.frame(subject = 1:n_subjects, intercept = subject_intercepts, slope=subject_slopes)\n",
    "    # generate trials for each subject\n",
    "    dat <- dat  %>% \n",
    "        nest(-subject, .key = parameters)  %>% \n",
    "        mutate(congruent = map(parameters, ~rnorm(n_trials, intercept, trial_sd)),\n",
    "               incongruent = map(parameters, ~rnorm(n_trials, intercept+slope, trial_sd)))  %>% \n",
    "        unnest(congruent,incongruent, .drop = FALSE)  %>% \n",
    "        unnest(parameters)  %>% \n",
    "        gather(prime, rt, congruent, incongruent)\n",
    "    return(dat)\n",
    "}\n",
    "\n",
    "\n",
    "# a function for running a mixed-model and extract p-value\n",
    "run_analysis <- function(data) {\n",
    "    # fit null and alternative model\n",
    "    m0 <- lmer(rt ~ 1 + (prime||subject), data=data, REML=FALSE, control=lmerControl(calc.derivs = FALSE))\n",
    "    m1 <- lmer(rt ~ prime + (prime||subject), data=data, REML=FALSE, control=lmerControl(calc.derivs = FALSE))\n",
    "    #You can replace with change in AIC or a p-value for a likelihood ratio statistic\n",
    "    m_bic <- BIC(m0, m1)$BIC\n",
    "    statistic <- diff(m_bic)\n",
    "    return(statistic)\n",
    "}"
   ]
  },
  {
   "cell_type": "markdown",
   "metadata": {},
   "source": [
    "Before we run the full analysis, just for demonstration, here is simulated data for some subjects:"
   ]
  },
  {
   "cell_type": "code",
   "execution_count": 147,
   "metadata": {},
   "outputs": [
    {
     "data": {
      "text/html": [
       "<table>\n",
       "<thead><tr><th scope=col>subject</th><th scope=col>intercept</th><th scope=col>slope</th><th scope=col>prime</th><th scope=col>rt</th></tr></thead>\n",
       "<tbody>\n",
       "\t<tr><td>1        </td><td>597.2636 </td><td> 44.90354</td><td>congruent</td><td> 768.7063</td></tr>\n",
       "\t<tr><td>1        </td><td>597.2636 </td><td> 44.90354</td><td>congruent</td><td> 824.4766</td></tr>\n",
       "\t<tr><td>1        </td><td>597.2636 </td><td> 44.90354</td><td>congruent</td><td> 819.0639</td></tr>\n",
       "\t<tr><td>1        </td><td>597.2636 </td><td> 44.90354</td><td>congruent</td><td> 274.4973</td></tr>\n",
       "\t<tr><td>1        </td><td>597.2636 </td><td> 44.90354</td><td>congruent</td><td>1027.7488</td></tr>\n",
       "\t<tr><td>1        </td><td>597.2636 </td><td> 44.90354</td><td>congruent</td><td> 665.0339</td></tr>\n",
       "\t<tr><td>1        </td><td>597.2636 </td><td> 44.90354</td><td>congruent</td><td> 719.1601</td></tr>\n",
       "\t<tr><td>1        </td><td>597.2636 </td><td> 44.90354</td><td>congruent</td><td> 760.2116</td></tr>\n",
       "\t<tr><td>1        </td><td>597.2636 </td><td> 44.90354</td><td>congruent</td><td> 786.2429</td></tr>\n",
       "\t<tr><td>1        </td><td>597.2636 </td><td> 44.90354</td><td>congruent</td><td> 640.1712</td></tr>\n",
       "\t<tr><td>2        </td><td>801.5180 </td><td>107.46414</td><td>congruent</td><td> 618.5918</td></tr>\n",
       "\t<tr><td>2        </td><td>801.5180 </td><td>107.46414</td><td>congruent</td><td> 656.1278</td></tr>\n",
       "\t<tr><td>2        </td><td>801.5180 </td><td>107.46414</td><td>congruent</td><td> 928.9160</td></tr>\n",
       "\t<tr><td>2        </td><td>801.5180 </td><td>107.46414</td><td>congruent</td><td> 791.3695</td></tr>\n",
       "\t<tr><td>2        </td><td>801.5180 </td><td>107.46414</td><td>congruent</td><td> 615.2459</td></tr>\n",
       "\t<tr><td>2        </td><td>801.5180 </td><td>107.46414</td><td>congruent</td><td> 784.7637</td></tr>\n",
       "\t<tr><td>2        </td><td>801.5180 </td><td>107.46414</td><td>congruent</td><td> 654.7991</td></tr>\n",
       "\t<tr><td>2        </td><td>801.5180 </td><td>107.46414</td><td>congruent</td><td> 635.6139</td></tr>\n",
       "\t<tr><td>2        </td><td>801.5180 </td><td>107.46414</td><td>congruent</td><td> 485.9524</td></tr>\n",
       "\t<tr><td>2        </td><td>801.5180 </td><td>107.46414</td><td>congruent</td><td> 789.4175</td></tr>\n",
       "</tbody>\n",
       "</table>\n"
      ],
      "text/latex": [
       "\\begin{tabular}{r|lllll}\n",
       " subject & intercept & slope & prime & rt\\\\\n",
       "\\hline\n",
       "\t 1         & 597.2636  &  44.90354 & congruent &  768.7063\\\\\n",
       "\t 1         & 597.2636  &  44.90354 & congruent &  824.4766\\\\\n",
       "\t 1         & 597.2636  &  44.90354 & congruent &  819.0639\\\\\n",
       "\t 1         & 597.2636  &  44.90354 & congruent &  274.4973\\\\\n",
       "\t 1         & 597.2636  &  44.90354 & congruent & 1027.7488\\\\\n",
       "\t 1         & 597.2636  &  44.90354 & congruent &  665.0339\\\\\n",
       "\t 1         & 597.2636  &  44.90354 & congruent &  719.1601\\\\\n",
       "\t 1         & 597.2636  &  44.90354 & congruent &  760.2116\\\\\n",
       "\t 1         & 597.2636  &  44.90354 & congruent &  786.2429\\\\\n",
       "\t 1         & 597.2636  &  44.90354 & congruent &  640.1712\\\\\n",
       "\t 2         & 801.5180  & 107.46414 & congruent &  618.5918\\\\\n",
       "\t 2         & 801.5180  & 107.46414 & congruent &  656.1278\\\\\n",
       "\t 2         & 801.5180  & 107.46414 & congruent &  928.9160\\\\\n",
       "\t 2         & 801.5180  & 107.46414 & congruent &  791.3695\\\\\n",
       "\t 2         & 801.5180  & 107.46414 & congruent &  615.2459\\\\\n",
       "\t 2         & 801.5180  & 107.46414 & congruent &  784.7637\\\\\n",
       "\t 2         & 801.5180  & 107.46414 & congruent &  654.7991\\\\\n",
       "\t 2         & 801.5180  & 107.46414 & congruent &  635.6139\\\\\n",
       "\t 2         & 801.5180  & 107.46414 & congruent &  485.9524\\\\\n",
       "\t 2         & 801.5180  & 107.46414 & congruent &  789.4175\\\\\n",
       "\\end{tabular}\n"
      ],
      "text/markdown": [
       "\n",
       "| subject | intercept | slope | prime | rt |\n",
       "|---|---|---|---|---|\n",
       "| 1         | 597.2636  |  44.90354 | congruent |  768.7063 |\n",
       "| 1         | 597.2636  |  44.90354 | congruent |  824.4766 |\n",
       "| 1         | 597.2636  |  44.90354 | congruent |  819.0639 |\n",
       "| 1         | 597.2636  |  44.90354 | congruent |  274.4973 |\n",
       "| 1         | 597.2636  |  44.90354 | congruent | 1027.7488 |\n",
       "| 1         | 597.2636  |  44.90354 | congruent |  665.0339 |\n",
       "| 1         | 597.2636  |  44.90354 | congruent |  719.1601 |\n",
       "| 1         | 597.2636  |  44.90354 | congruent |  760.2116 |\n",
       "| 1         | 597.2636  |  44.90354 | congruent |  786.2429 |\n",
       "| 1         | 597.2636  |  44.90354 | congruent |  640.1712 |\n",
       "| 2         | 801.5180  | 107.46414 | congruent |  618.5918 |\n",
       "| 2         | 801.5180  | 107.46414 | congruent |  656.1278 |\n",
       "| 2         | 801.5180  | 107.46414 | congruent |  928.9160 |\n",
       "| 2         | 801.5180  | 107.46414 | congruent |  791.3695 |\n",
       "| 2         | 801.5180  | 107.46414 | congruent |  615.2459 |\n",
       "| 2         | 801.5180  | 107.46414 | congruent |  784.7637 |\n",
       "| 2         | 801.5180  | 107.46414 | congruent |  654.7991 |\n",
       "| 2         | 801.5180  | 107.46414 | congruent |  635.6139 |\n",
       "| 2         | 801.5180  | 107.46414 | congruent |  485.9524 |\n",
       "| 2         | 801.5180  | 107.46414 | congruent |  789.4175 |\n",
       "\n"
      ],
      "text/plain": [
       "   subject intercept slope     prime     rt       \n",
       "1  1       597.2636   44.90354 congruent  768.7063\n",
       "2  1       597.2636   44.90354 congruent  824.4766\n",
       "3  1       597.2636   44.90354 congruent  819.0639\n",
       "4  1       597.2636   44.90354 congruent  274.4973\n",
       "5  1       597.2636   44.90354 congruent 1027.7488\n",
       "6  1       597.2636   44.90354 congruent  665.0339\n",
       "7  1       597.2636   44.90354 congruent  719.1601\n",
       "8  1       597.2636   44.90354 congruent  760.2116\n",
       "9  1       597.2636   44.90354 congruent  786.2429\n",
       "10 1       597.2636   44.90354 congruent  640.1712\n",
       "11 2       801.5180  107.46414 congruent  618.5918\n",
       "12 2       801.5180  107.46414 congruent  656.1278\n",
       "13 2       801.5180  107.46414 congruent  928.9160\n",
       "14 2       801.5180  107.46414 congruent  791.3695\n",
       "15 2       801.5180  107.46414 congruent  615.2459\n",
       "16 2       801.5180  107.46414 congruent  784.7637\n",
       "17 2       801.5180  107.46414 congruent  654.7991\n",
       "18 2       801.5180  107.46414 congruent  635.6139\n",
       "19 2       801.5180  107.46414 congruent  485.9524\n",
       "20 2       801.5180  107.46414 congruent  789.4175"
      ]
     },
     "metadata": {},
     "output_type": "display_data"
    }
   ],
   "source": [
    "set.seed(04082019)\n",
    "dat <- simulate_data(10, 10, 700, 50, 100,50,200)\n",
    "head(dat, n=20)"
   ]
  },
  {
   "cell_type": "markdown",
   "metadata": {},
   "source": [
    "And here's the output of the model concerning the effect of priming:"
   ]
  },
  {
   "cell_type": "code",
   "execution_count": 148,
   "metadata": {
    "scrolled": true
   },
   "outputs": [
    {
     "data": {
      "text/html": [
       "5.1909425109402"
      ],
      "text/latex": [
       "5.1909425109402"
      ],
      "text/markdown": [
       "5.1909425109402"
      ],
      "text/plain": [
       "[1] 5.190943"
      ]
     },
     "metadata": {},
     "output_type": "display_data"
    }
   ],
   "source": [
    "run_analysis(dat)"
   ]
  },
  {
   "cell_type": "markdown",
   "metadata": {},
   "source": [
    "Let's run the simulation for various number of subjects and trials. This takes a long time, btw."
   ]
  },
  {
   "cell_type": "code",
   "execution_count": 160,
   "metadata": {},
   "outputs": [],
   "source": [
    "# a function for repeatedly running the analysis on multiple samples drawn with the same parameters\n",
    "repeat_analysis <- function(n_simulations, alpha, n_subjects, n_trials, intercept, slope, intercept_sd, slope_sd, trial_sd) {\n",
    "    bic_diffs <- c() # empty vector to store delta BICs from each simulation\n",
    "    # loop for repeating the simulation\n",
    "    for (i in 1:n_simulations) {\n",
    "        data <- simulate_data(n_subjects, n_trials, intercept,\n",
    "                              slope, intercept_sd, slope_sd, trial_sd)\n",
    "        bic_diff <- run_analysis(data)\n",
    "        bic_diffs <- c(bic_diffs,bic_diff) # add the current p.value to the vector\n",
    "    }\n",
    "    \n",
    "    # calculate how many of the simulations had significant results\n",
    "    power <- mean(bic_diffs <= -20) #strong evidence, see Raftery & Kass 1995\n",
    "    return(list(power = power, bic_diffs = bic_diffs))\n",
    "}"
   ]
  },
  {
   "cell_type": "code",
   "execution_count": 161,
   "metadata": {
    "scrolled": false
   },
   "outputs": [],
   "source": [
    "dat <- expand.grid(n_subjects = c(10,20,30,40), n_trials = c(10,20,30,40,50,60))\n",
    "dat$id <- 1:nrow(dat)\n",
    "\n",
    "# then use tidyverse functions to run the analysis for each sample size (takes ~30-60 minutes)\n",
    "results <- dat  %>% \n",
    "    nest(-id, .key = 'parameters')  %>% \n",
    "    mutate(power = map(parameters, ~ repeat_analysis(1000, 0.05, .$n_subjects, .$n_trials, 700, 50, 100,50,200)$power))  %>% \n",
    "    unnest(parameters, power)"
   ]
  },
  {
   "cell_type": "code",
   "execution_count": 167,
   "metadata": {},
   "outputs": [
    {
     "data": {
      "text/html": [
       "<table>\n",
       "<thead><tr><th scope=col>id</th><th scope=col>power</th><th scope=col>n_subjects</th><th scope=col>n_trials</th></tr></thead>\n",
       "<tbody>\n",
       "\t<tr><td> 1   </td><td>0.000</td><td>10   </td><td>10   </td></tr>\n",
       "\t<tr><td> 2   </td><td>0.000</td><td>20   </td><td>10   </td></tr>\n",
       "\t<tr><td> 3   </td><td>0.002</td><td>30   </td><td>10   </td></tr>\n",
       "\t<tr><td> 4   </td><td>0.008</td><td>40   </td><td>10   </td></tr>\n",
       "\t<tr><td> 5   </td><td>0.000</td><td>10   </td><td>20   </td></tr>\n",
       "\t<tr><td> 6   </td><td>0.005</td><td>20   </td><td>20   </td></tr>\n",
       "\t<tr><td> 7   </td><td>0.034</td><td>30   </td><td>20   </td></tr>\n",
       "\t<tr><td> 8   </td><td>0.137</td><td>40   </td><td>20   </td></tr>\n",
       "\t<tr><td> 9   </td><td>0.000</td><td>10   </td><td>30   </td></tr>\n",
       "\t<tr><td>10   </td><td>0.026</td><td>20   </td><td>30   </td></tr>\n",
       "\t<tr><td>11   </td><td>0.172</td><td>30   </td><td>30   </td></tr>\n",
       "\t<tr><td>12   </td><td>0.450</td><td>40   </td><td>30   </td></tr>\n",
       "\t<tr><td>13   </td><td>0.000</td><td>10   </td><td>40   </td></tr>\n",
       "\t<tr><td>14   </td><td>0.086</td><td>20   </td><td>40   </td></tr>\n",
       "\t<tr><td>15   </td><td>0.362</td><td>30   </td><td>40   </td></tr>\n",
       "\t<tr><td>16   </td><td>0.738</td><td>40   </td><td>40   </td></tr>\n",
       "\t<tr><td>17   </td><td>0.000</td><td>10   </td><td>50   </td></tr>\n",
       "\t<tr><td>18   </td><td>0.217</td><td>20   </td><td>50   </td></tr>\n",
       "\t<tr><td>19   </td><td>0.621</td><td>30   </td><td>50   </td></tr>\n",
       "\t<tr><td>20   </td><td>0.922</td><td>40   </td><td>50   </td></tr>\n",
       "\t<tr><td>21   </td><td>0.001</td><td>10   </td><td>60   </td></tr>\n",
       "\t<tr><td>22   </td><td>0.396</td><td>20   </td><td>60   </td></tr>\n",
       "\t<tr><td>23   </td><td>0.815</td><td>30   </td><td>60   </td></tr>\n",
       "\t<tr><td>24   </td><td>0.972</td><td>40   </td><td>60   </td></tr>\n",
       "</tbody>\n",
       "</table>\n"
      ],
      "text/latex": [
       "\\begin{tabular}{r|llll}\n",
       " id & power & n\\_subjects & n\\_trials\\\\\n",
       "\\hline\n",
       "\t  1    & 0.000 & 10    & 10   \\\\\n",
       "\t  2    & 0.000 & 20    & 10   \\\\\n",
       "\t  3    & 0.002 & 30    & 10   \\\\\n",
       "\t  4    & 0.008 & 40    & 10   \\\\\n",
       "\t  5    & 0.000 & 10    & 20   \\\\\n",
       "\t  6    & 0.005 & 20    & 20   \\\\\n",
       "\t  7    & 0.034 & 30    & 20   \\\\\n",
       "\t  8    & 0.137 & 40    & 20   \\\\\n",
       "\t  9    & 0.000 & 10    & 30   \\\\\n",
       "\t 10    & 0.026 & 20    & 30   \\\\\n",
       "\t 11    & 0.172 & 30    & 30   \\\\\n",
       "\t 12    & 0.450 & 40    & 30   \\\\\n",
       "\t 13    & 0.000 & 10    & 40   \\\\\n",
       "\t 14    & 0.086 & 20    & 40   \\\\\n",
       "\t 15    & 0.362 & 30    & 40   \\\\\n",
       "\t 16    & 0.738 & 40    & 40   \\\\\n",
       "\t 17    & 0.000 & 10    & 50   \\\\\n",
       "\t 18    & 0.217 & 20    & 50   \\\\\n",
       "\t 19    & 0.621 & 30    & 50   \\\\\n",
       "\t 20    & 0.922 & 40    & 50   \\\\\n",
       "\t 21    & 0.001 & 10    & 60   \\\\\n",
       "\t 22    & 0.396 & 20    & 60   \\\\\n",
       "\t 23    & 0.815 & 30    & 60   \\\\\n",
       "\t 24    & 0.972 & 40    & 60   \\\\\n",
       "\\end{tabular}\n"
      ],
      "text/markdown": [
       "\n",
       "| id | power | n_subjects | n_trials |\n",
       "|---|---|---|---|\n",
       "|  1    | 0.000 | 10    | 10    |\n",
       "|  2    | 0.000 | 20    | 10    |\n",
       "|  3    | 0.002 | 30    | 10    |\n",
       "|  4    | 0.008 | 40    | 10    |\n",
       "|  5    | 0.000 | 10    | 20    |\n",
       "|  6    | 0.005 | 20    | 20    |\n",
       "|  7    | 0.034 | 30    | 20    |\n",
       "|  8    | 0.137 | 40    | 20    |\n",
       "|  9    | 0.000 | 10    | 30    |\n",
       "| 10    | 0.026 | 20    | 30    |\n",
       "| 11    | 0.172 | 30    | 30    |\n",
       "| 12    | 0.450 | 40    | 30    |\n",
       "| 13    | 0.000 | 10    | 40    |\n",
       "| 14    | 0.086 | 20    | 40    |\n",
       "| 15    | 0.362 | 30    | 40    |\n",
       "| 16    | 0.738 | 40    | 40    |\n",
       "| 17    | 0.000 | 10    | 50    |\n",
       "| 18    | 0.217 | 20    | 50    |\n",
       "| 19    | 0.621 | 30    | 50    |\n",
       "| 20    | 0.922 | 40    | 50    |\n",
       "| 21    | 0.001 | 10    | 60    |\n",
       "| 22    | 0.396 | 20    | 60    |\n",
       "| 23    | 0.815 | 30    | 60    |\n",
       "| 24    | 0.972 | 40    | 60    |\n",
       "\n"
      ],
      "text/plain": [
       "   id power n_subjects n_trials\n",
       "1   1 0.000 10         10      \n",
       "2   2 0.000 20         10      \n",
       "3   3 0.002 30         10      \n",
       "4   4 0.008 40         10      \n",
       "5   5 0.000 10         20      \n",
       "6   6 0.005 20         20      \n",
       "7   7 0.034 30         20      \n",
       "8   8 0.137 40         20      \n",
       "9   9 0.000 10         30      \n",
       "10 10 0.026 20         30      \n",
       "11 11 0.172 30         30      \n",
       "12 12 0.450 40         30      \n",
       "13 13 0.000 10         40      \n",
       "14 14 0.086 20         40      \n",
       "15 15 0.362 30         40      \n",
       "16 16 0.738 40         40      \n",
       "17 17 0.000 10         50      \n",
       "18 18 0.217 20         50      \n",
       "19 19 0.621 30         50      \n",
       "20 20 0.922 40         50      \n",
       "21 21 0.001 10         60      \n",
       "22 22 0.396 20         60      \n",
       "23 23 0.815 30         60      \n",
       "24 24 0.972 40         60      "
      ]
     },
     "metadata": {},
     "output_type": "display_data"
    }
   ],
   "source": [
    "results"
   ]
  },
  {
   "cell_type": "code",
   "execution_count": 169,
   "metadata": {},
   "outputs": [
    {
     "data": {
      "image/png": "[encoded data removed]",
      "text/plain": [
       "plot without title"
      ]
     },
     "metadata": {},
     "output_type": "display_data"
    }
   ],
   "source": [
    "options(repr.plot.width=6, repr.plot.height=4)\n",
    "ggplot(results, aes(n_subjects, power, color=as.factor(n_trials), group=n_trials)) +\n",
    "    geom_point() +\n",
    "    geom_line() +\n",
    "    geom_hline(yintercept = 0.8) +\n",
    "    geom_hline(yintercept = 0.95) +\n",
    "    scale_color_discrete('Number of trials per subject') +\n",
    "    scale_x_continuous('Number of subjects') +\n",
    "    scale_y_continuous('Statistical power (for Delta BIC <= -20)') +\n",
    "    theme_classic()"
   ]
  },
  {
   "cell_type": "markdown",
   "metadata": {},
   "source": [
    "So, you can see that power, at least given these variability parameters, is a function of both the number of subjects and the number of trials per subject. \n",
    "\n",
    "In this case 30 subjects with 60 trials per subject results in ~80% power, but using 40 subjects with up to 40 trials per subject is not enough to reach ~80% power. "
   ]
  },
  {
   "cell_type": "markdown",
   "metadata": {},
   "source": [
    "#### But what is more important, # subjects or # trials?\n",
    "\n",
    "This depends on the relative sizes of the $\\sigma_{trial}$ and $\\sigma_{slope}$, i.e., how much observations vary from trial to trial, and how much the true effect varies from subject to subject. If the variability associated wtih the $sigma_{slope}$ is relatively large, adding more subjects will be more important for estimating the population level difference, because it will improve its estimation more than adding more trials. If however people are more homogeneous, and respond similarly to the manipulation, then adding more trials would be more efficient. To test this out, you can run the above simulation for different values of $\\sigma_{trial}$ and $\\sigma_{slope}$, and see it for yourself."
   ]
  },
  {
   "cell_type": "markdown",
   "metadata": {},
   "source": [
    "Notebook authored by Ven Popov. Edited by Krista Bond. "
   ]
  }
 ],
 "metadata": {
  "kernelspec": {
   "display_name": "R",
   "language": "R",
   "name": "ir"
  },
  "language_info": {
   "codemirror_mode": "r",
   "file_extension": ".r",
   "mimetype": "text/x-r-source",
   "name": "R",
   "pygments_lexer": "r",
   "version": "3.5.3"
  }
 },
 "nbformat": 4,
 "nbformat_minor": 2
}
