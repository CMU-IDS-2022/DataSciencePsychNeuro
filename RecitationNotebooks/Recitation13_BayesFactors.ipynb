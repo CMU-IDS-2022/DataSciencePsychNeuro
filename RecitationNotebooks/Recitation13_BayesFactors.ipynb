{
 "cells": [
  {
   "cell_type": "markdown",
   "metadata": {},
   "source": [
    "## Embracing the gradient: A brief tour of Bayes Factor implementation \n",
    "\n",
    " >\"I have approximate answers and possible beliefs and different degrees of uncertainty about different things, but I am not absolutely sure of anything [...]\" - Richard Feynman \n",
    "\n",
    "In this lab, we will learn to use the [BayesFactor](https://cran.r-project.org/web/packages/BayesFactor/BayesFactor.pdf) library. Using the tools from this library, we will quantify the *amount* of evidence for alternative hypotheses instead of fully supporting or fully rejecting them altogether. "
   ]
  },
  {
   "cell_type": "markdown",
   "metadata": {},
   "source": [
    "##  What is a Bayes factor? \n",
    "  * The Bayes factor is the analytical response to the question: What is the strength of the evidence for my model, given a competing hypothesis? If you're interested in the *relative* weight of evidence for competing hypotheses, then the Bayes Factor is for you. \n",
    "  * The Bayes factor is a ratio of the evidence for one model over another. It can be expressed as the relative likelihood of the data given a set of hypotheses: \n",
    "  \n",
    "  $$BF = \\frac{P(D|H_1)}{P(D|H_0)}$$\n",
    "  \n",
    "* Similar to the Bayesian Information Criterion (BIC), the Bayes factor penalizes model complexity. \n",
    "  <br>\n",
    "  <br>\n",
    "Look [here](http://statmath.wu.ac.at/research/talks/resources/talkheld.pdf) and [here](https://link.springer.com/article/10.3758/s13423-017-1262-3) for a more in-depth treatment. This tutorial is based largely on [Richard Morey's introduction to the package](https://richarddmorey.github.io/BayesFactor/#help). "
   ]
  },
  {
   "cell_type": "markdown",
   "metadata": {},
   "source": [
    "---\n",
    "# Implementing the Bayes factor with a simple example"
   ]
  },
  {
   "cell_type": "code",
   "execution_count": 3,
   "metadata": {},
   "outputs": [
    {
     "name": "stderr",
     "output_type": "stream",
     "text": [
      "also installing the dependencies ‘elliptic’, ‘contfrac’, ‘deSolve’, ‘pbapply’, ‘hypergeo’\n",
      "\n"
     ]
    },
    {
     "name": "stdout",
     "output_type": "stream",
     "text": [
      "\n",
      "The downloaded binary packages are in\n",
      "\t/var/folders/p1/jq19by4n7gd9qnhl3cywmknr0000gn/T//RtmpPVvA6l/downloaded_packages\n"
     ]
    }
   ],
   "source": [
    "# install.packages('BayesFactor') #install "
   ]
  },
  {
   "cell_type": "code",
   "execution_count": 7,
   "metadata": {},
   "outputs": [],
   "source": [
    "library(ISLR)\n",
    "library(BayesFactor)"
   ]
  },
  {
   "cell_type": "code",
   "execution_count": 14,
   "metadata": {},
   "outputs": [
    {
     "data": {
      "text/plain": [
       "anovaBF : function (formula, data, whichRandom = NULL, whichModels = \"withmain\", \n",
       "    iterations = 10000, progress = getOption(\"BFprogress\", interactive()), \n",
       "    rscaleFixed = \"medium\", rscaleRandom = \"nuisance\", rscaleEffects = NULL, \n",
       "    multicore = FALSE, method = \"auto\", noSample = FALSE, callback = function(...) as.integer(0))  \n",
       "as.BFBayesFactor : function (object)  \n",
       "as.BFprobability : function (object, normalize = NULL, lognormalize = NULL)  \n",
       "BFInfo : function (print = TRUE)  \n",
       "BFManual : function ()  \n",
       "compare : Formal class 'standardGeneric' [package \"methods\"] with 8 slots\n",
       "contingencyTableBF : function (x, sampleType, fixedMargin = NULL, priorConcentration = 1, posterior = FALSE, \n",
       "    callback = function(...) as.integer(0), ...)  \n",
       "correlationBF : function (y, x, rscale = \"medium\", nullInterval = NULL, posterior = FALSE, \n",
       "    callback = function(...) as.integer(0), ...)  \n",
       "enumerateGeneralModels : function (fmla, whichModels, neverExclude = NULL, includeBottom = TRUE, \n",
       "    data = NULL)  \n",
       "extractBF : Formal class 'standardGeneric' [package \"methods\"] with 8 slots\n",
       "extractOdds : Formal class 'standardGeneric' [package \"methods\"] with 8 slots\n",
       "extractProbabilities : Formal class 'standardGeneric' [package \"methods\"] with 8 slots\n",
       "filterBF : Formal class 'standardGeneric' [package \"methods\"] with 8 slots\n",
       "generalTestBF : function (formula, data, whichRandom = NULL, whichModels = \"withmain\", \n",
       "    neverExclude = NULL, iterations = 10000, progress = getOption(\"BFprogress\", \n",
       "        interactive()), rscaleFixed = \"medium\", rscaleRandom = \"nuisance\", \n",
       "    rscaleCont = \"medium\", rscaleEffects = NULL, multicore = FALSE, method = \"auto\", \n",
       "    noSample = FALSE, callback = function(...) as.integer(0))  \n",
       "linearReg.R2stat : function (N, p, R2, rscale = \"medium\", simple = FALSE)  \n",
       "lmBF : function (formula, data, whichRandom = NULL, rscaleFixed = \"medium\", rscaleRandom = \"nuisance\", \n",
       "    rscaleCont = \"medium\", rscaleEffects = NULL, posterior = FALSE, progress = getOption(\"BFprogress\", \n",
       "        interactive()), ...)  \n",
       "logCumMeanExpLogs : function (v)  \n",
       "logMeanExpLogs : function (v)  \n",
       "logSummaryStats : function (x)  \n",
       "meta.ttestBF : function (t, n1, n2 = NULL, nullInterval = NULL, rscale = \"medium\", posterior = FALSE, \n",
       "    callback = function(...) as.integer(0), ...)  \n",
       "model.matrix : Formal class 'standardGeneric' [package \"methods\"] with 8 slots\n",
       "newPriorOdds : function (bf, type = \"equal\")  \n",
       "nWayAOV : function (y, X, gMap, rscale, iterations = 10000, progress = getOption(\"BFprogress\", \n",
       "    interactive()), callback = function(...) as.integer(0), gibbs = NULL, \n",
       "    posterior = FALSE, ignoreCols = NULL, thin = 1, method = \"auto\", continuous = FALSE, \n",
       "    noSample = FALSE)  \n",
       "oneWayAOV.Fstat : function (F, N, J, rscale = \"medium\", simple = FALSE)  \n",
       "posterior : Formal class 'standardGeneric' [package \"methods\"] with 8 slots\n",
       "priorLogodds<- : Formal class 'standardGeneric' [package \"methods\"] with 8 slots\n",
       "priorOdds<- : Formal class 'standardGeneric' [package \"methods\"] with 8 slots\n",
       "proportionBF : function (y, N, p, rscale = \"medium\", nullInterval = NULL, posterior = FALSE, \n",
       "    callback = function(...) as.integer(0), ...)  \n",
       "recompute : Formal class 'standardGeneric' [package \"methods\"] with 8 slots\n",
       "regressionBF : function (formula, data, whichModels = \"all\", progress = getOption(\"BFprogress\", \n",
       "    interactive()), rscaleCont = \"medium\", callback = function(...) as.integer(0), \n",
       "    noSample = FALSE)  \n",
       "t : Formal class 'standardGeneric' [package \"methods\"] with 8 slots\n",
       "ttest.tstat : function (t, n1, n2 = 0, nullInterval = NULL, rscale = \"medium\", complement = FALSE, \n",
       "    simple = FALSE)  \n",
       "ttestBF : function (x = NULL, y = NULL, formula = NULL, mu = 0, nullInterval = NULL, \n",
       "    paired = FALSE, data = NULL, rscale = \"medium\", posterior = FALSE, \n",
       "    callback = function(...) as.integer(0), ...)  \n",
       "which.max : Formal class 'standardGeneric' [package \"methods\"] with 8 slots\n",
       "which.min : Formal class 'standardGeneric' [package \"methods\"] with 8 slots"
      ]
     },
     "metadata": {},
     "output_type": "display_data"
    }
   ],
   "source": [
    "#you can see that there are functions to calculate BF for many different tests, including correlations, linear regresssion, and t-tests\n",
    "lsf.str(\"package:BayesFactor\") # a list of all of the functions in the package"
   ]
  },
  {
   "cell_type": "markdown",
   "metadata": {},
   "source": [
    "Let's start with the a simple example. We'll use the `sleep` dataset included in R to calculate the evidence for the null hypothesis that there is no effect of sleep deprivation on reaction time. "
   ]
  },
  {
   "cell_type": "code",
   "execution_count": 15,
   "metadata": {},
   "outputs": [
    {
     "data": {
      "text/plain": [
       "\n",
       "\tOne Sample t-test\n",
       "\n",
       "data:  diffScores\n",
       "t = -4.0621, df = 9, p-value = 0.002833\n",
       "alternative hypothesis: true mean is not equal to 0\n",
       "95 percent confidence interval:\n",
       " -2.4598858 -0.7001142\n",
       "sample estimates:\n",
       "mean of x \n",
       "    -1.58 \n"
      ]
     },
     "metadata": {},
     "output_type": "display_data"
    }
   ],
   "source": [
    "data(sleep) #Remember, this is a within-subjects design measuring the impact of sleep dep. on RTs\n",
    "\n",
    "## Compute difference scores\n",
    "diffScores = sleep$extra[1:10] - sleep$extra[11:20] #subtracting the scores in one condition from the other \n",
    "#extra is the numeric increase (or decrease) in the amount of sleep gotten, in hours\n",
    "\n",
    "## Traditional one-sample t-test \n",
    "t.test(diffScores) "
   ]
  },
  {
   "cell_type": "code",
   "execution_count": 42,
   "metadata": {},
   "outputs": [
    {
     "data": {
      "text/plain": [
       "Bayes factor analysis\n",
       "--------------\n",
       "[1] Alt., r=0.707 : 17.25888 ±0%\n",
       "\n",
       "Against denominator:\n",
       "  Null, mu = 0 \n",
       "---\n",
       "Bayes factor type: BFoneSample, JZS\n"
      ]
     },
     "metadata": {},
     "output_type": "display_data"
    }
   ],
   "source": [
    "bf = ttestBF(x = sleep$extra[1:10],y=sleep$extra[11:20], paired=TRUE) #this is the BF object \n",
    "bf #the relative evidence for the alternative hypothesis (nonzero difference between conditions)"
   ]
  },
  {
   "cell_type": "markdown",
   "metadata": {},
   "source": [
    "Note the denominator specification in the output! Make sure to interpret these correctly. Here, the denominator is the null hypothesis, so this is the relative evidence for the alternative hypothesis, that the difference in sleep gotten between conditions is non-zero. "
   ]
  },
  {
   "cell_type": "code",
   "execution_count": 44,
   "metadata": {},
   "outputs": [
    {
     "data": {
      "text/plain": [
       "Bayes factor analysis\n",
       "--------------\n",
       "[1] Null, mu=0 : 0.05794119 ±0%\n",
       "\n",
       "Against denominator:\n",
       "  Alternative, r = 0.707106781186548, mu =/= 0 \n",
       "---\n",
       "Bayes factor type: BFoneSample, JZS\n"
      ]
     },
     "metadata": {},
     "output_type": "display_data"
    }
   ],
   "source": [
    "1/bf #the relative evidence for the null hypothesis (no difference between conditions)"
   ]
  },
  {
   "cell_type": "markdown",
   "metadata": {},
   "source": [
    "To test a directional hypothesis, you can set the `nullInterval` argument to the range of interest. Here, we will compute the weight of evidence for the alternative hypothesis that the difference in the amount of sleep gotten between conditions will be negative. "
   ]
  },
  {
   "cell_type": "code",
   "execution_count": 45,
   "metadata": {},
   "outputs": [
    {
     "data": {
      "text/plain": [
       "Bayes factor analysis\n",
       "--------------\n",
       "[1] Alt., r=0.707 -Inf<d<0    : 34.41694  ±0%\n",
       "[2] Alt., r=0.707 !(-Inf<d<0) : 0.1008246 ±0.06%\n",
       "\n",
       "Against denominator:\n",
       "  Null, mu = 0 \n",
       "---\n",
       "Bayes factor type: BFoneSample, JZS\n"
      ]
     },
     "metadata": {},
     "output_type": "display_data"
    }
   ],
   "source": [
    "#we can also test a directional hypothesis  \n",
    "bfInterval = ttestBF(x = diffScores, nullInterval=c(-Inf,0)) #here we test the hypothesis that the difference is less than 0\n",
    "bfInterval"
   ]
  },
  {
   "cell_type": "markdown",
   "metadata": {},
   "source": [
    "Here you can see the evidence for both possible situations evalauated against the null as the denominator. Line 1 shows the evidence that the difference between conditions is negative, and line 2 shows the evidence tha the difference between conditions is  non-negative (positive). "
   ]
  },
  {
   "cell_type": "markdown",
   "metadata": {},
   "source": [
    "Now what if you were interested in directly comparing the evidence for a negative difference with the evidence for a positive difference? You can directly manipulate the Bayes Factor object to achieve this. Since both of these evidence ratios have the same denominator, we can directly compare these results like this: "
   ]
  },
  {
   "cell_type": "code",
   "execution_count": 50,
   "metadata": {},
   "outputs": [
    {
     "data": {
      "text/plain": [
       "Bayes factor analysis\n",
       "--------------\n",
       "[1] Alt., r=0.707 -Inf<d<0 : 341.3547 ±0.06%\n",
       "\n",
       "Against denominator:\n",
       "  Alternative, r = 0.707106781186548, mu =/= 0 !(-Inf<d<0) \n",
       "---\n",
       "Bayes factor type: BFoneSample, JZS\n"
      ]
     },
     "metadata": {},
     "output_type": "display_data"
    }
   ],
   "source": [
    "bfNegative = bfInterval[1] / bfInterval[2] #here we compare the evidence for a negative difference against the evidence for a positive one\n",
    "\n",
    "bfNegative\n",
    "#note the denominator specification"
   ]
  },
  {
   "cell_type": "markdown",
   "metadata": {},
   "source": [
    "And like before, we can take the invert this ratio to find the evidence for a positive difference against the evidence for a negative one: "
   ]
  },
  {
   "cell_type": "code",
   "execution_count": 52,
   "metadata": {},
   "outputs": [
    {
     "data": {
      "text/plain": [
       "Bayes factor analysis\n",
       "--------------\n",
       "[1] Alt., r=0.707 !(-Inf<d<0) : 0.002929504 ±0.06%\n",
       "\n",
       "Against denominator:\n",
       "  Alternative, r = 0.707106781186548, mu =/= 0 -Inf<d<0 \n",
       "---\n",
       "Bayes factor type: BFoneSample, JZS\n"
      ]
     },
     "metadata": {},
     "output_type": "display_data"
    }
   ],
   "source": [
    "bfPositive = 1 / bfNegative #as you might expect, the evidence for a positive difference is miniscule \n",
    "bfPositive"
   ]
  },
  {
   "cell_type": "markdown",
   "metadata": {},
   "source": [
    "You can use the `plot` function in the `BayesFactor` package to visually evaluate the difference in the relative evidence for each of these hypotheses."
   ]
  },
  {
   "cell_type": "code",
   "execution_count": 53,
   "metadata": {},
   "outputs": [
    {
     "data": {
      "text/plain": [
       "Bayes factor analysis\n",
       "--------------\n",
       "[1] Alt., r=0.707 : 17.25888 ±0%\n",
       "\n",
       "Against denominator:\n",
       "  Null, mu = 0 \n",
       "---\n",
       "Bayes factor type: BFoneSample, JZS\n"
      ]
     },
     "metadata": {},
     "output_type": "display_data"
    }
   ],
   "source": [
    "bf #let's gather the three hypotheses we evaluated that have the same (null, zero-difference) denominator"
   ]
  },
  {
   "cell_type": "code",
   "execution_count": 55,
   "metadata": {},
   "outputs": [
    {
     "data": {
      "text/plain": [
       "Bayes factor analysis\n",
       "--------------\n",
       "[1] Alt., r=0.707             : 17.25888  ±0%\n",
       "[2] Alt., r=0.707 -Inf<d<0    : 34.41694  ±0%\n",
       "[3] Alt., r=0.707 !(-Inf<d<0) : 0.1008246 ±0.06%\n",
       "\n",
       "Against denominator:\n",
       "  Null, mu = 0 \n",
       "---\n",
       "Bayes factor type: BFoneSample, JZS\n"
      ]
     },
     "metadata": {},
     "output_type": "display_data"
    }
   ],
   "source": [
    "allbf = c(bf, bfInterval)\n",
    "\n",
    "allbf"
   ]
  },
  {
   "cell_type": "code",
   "execution_count": 56,
   "metadata": {},
   "outputs": [
    {
     "data": {
      "image/png": "[encoded data removed]",
      "text/plain": [
       "Plot with title “vs. Null, mu = 0”"
      ]
     },
     "metadata": {},
     "output_type": "display_data"
    }
   ],
   "source": [
    "plot(allbf)"
   ]
  },
  {
   "cell_type": "markdown",
   "metadata": {},
   "source": [
    "# Calculating the Bayes Factor for comparison of candidate mixed effect models"
   ]
  },
  {
   "cell_type": "markdown",
   "metadata": {},
   "source": [
    "Now let's see how to apply this to hierarchical linear regression."
   ]
  },
  {
   "cell_type": "code",
   "execution_count": 60,
   "metadata": {},
   "outputs": [
    {
     "data": {
      "text/plain": [
       "\n",
       "Call:\n",
       "lm(formula = len ~ supp + dose + supp:dose, data = ToothGrowth)\n",
       "\n",
       "Residuals:\n",
       "    Min      1Q  Median      3Q     Max \n",
       "-7.5433 -2.4921 -0.5033  2.7117  7.8567 \n",
       "\n",
       "Coefficients:\n",
       "            Estimate Std. Error t value Pr(>|t|)    \n",
       "(Intercept)  20.6633     0.6791  30.425  < 2e-16 ***\n",
       "suppVC       -3.7000     0.9605  -3.852 0.000303 ***\n",
       "dose         21.3102     2.7631   7.712  2.3e-10 ***\n",
       "suppVC:dose   8.8529     3.9076   2.266 0.027366 *  \n",
       "---\n",
       "Signif. codes:  0 ‘***’ 0.001 ‘**’ 0.01 ‘*’ 0.05 ‘.’ 0.1 ‘ ’ 1\n",
       "\n",
       "Residual standard error: 3.72 on 56 degrees of freedom\n",
       "Multiple R-squared:  0.7755,\tAdjusted R-squared:  0.7635 \n",
       "F-statistic:  64.5 on 3 and 56 DF,  p-value: < 2.2e-16\n"
      ]
     },
     "metadata": {},
     "output_type": "display_data"
    }
   ],
   "source": [
    "data(ToothGrowth)\n",
    "\n",
    "# model log10 of dose instead of dose directly\n",
    "ToothGrowth$dose = log10(ToothGrowth$dose)\n",
    "\n",
    "# Classic analysis for comparison\n",
    "lmToothGrowth <- lm(len ~ supp + dose + supp:dose, data=ToothGrowth)\n",
    "summary(lmToothGrowth)"
   ]
  },
  {
   "cell_type": "markdown",
   "metadata": {},
   "source": [
    "The classic analysis shows low p-values for the effects of supplement type and dose on tooth growth with an interaction effect. We can use the lmBF function to calculate the Bayes factors for all models of interest against a null intercept-only model. "
   ]
  },
  {
   "cell_type": "code",
   "execution_count": 62,
   "metadata": {},
   "outputs": [
    {
     "data": {
      "text/plain": [
       "Bayes factor analysis\n",
       "--------------\n",
       "[1] supp + dose + supp:dose : 1.568821e+15 ±0.62%\n",
       "[2] supp + dose             : 1.524445e+15 ±1.43%\n",
       "[3] dose                    : 2.769593e+13 ±0.01%\n",
       "[4] supp                    : 1.198757     ±0.01%\n",
       "\n",
       "Against denominator:\n",
       "  Intercept only \n",
       "---\n",
       "Bayes factor type: BFlinearModel, JZS\n"
      ]
     },
     "metadata": {},
     "output_type": "display_data"
    }
   ],
   "source": [
    "full <- lmBF(len ~ supp + dose + supp:dose, data=ToothGrowth) #all predictors + interaction\n",
    "noInteraction <- lmBF(len ~ supp + dose, data=ToothGrowth) #no interaction\n",
    "onlyDose <- lmBF(len ~ dose, data=ToothGrowth) #only dose\n",
    "onlySupp <- lmBF(len ~ supp, data=ToothGrowth) #only supplementation\n",
    "\n",
    "allBFs <- c(full, noInteraction, onlyDose, onlySupp)\n",
    "allBFs"
   ]
  },
  {
   "cell_type": "code",
   "execution_count": 63,
   "metadata": {},
   "outputs": [
    {
     "data": {
      "image/png": "[encoded data removed]",
      "text/plain": [
       "Plot with title “vs. Intercept only”"
      ]
     },
     "metadata": {},
     "output_type": "display_data"
    }
   ],
   "source": [
    "plot(allBFs)"
   ]
  },
  {
   "cell_type": "markdown",
   "metadata": {},
   "source": [
    "The results from the interaction model and the no-interaction model are close. Let's directly evaluate these two hypotheses against one another."
   ]
  },
  {
   "cell_type": "code",
   "execution_count": 64,
   "metadata": {},
   "outputs": [
    {
     "data": {
      "text/plain": [
       "Bayes factor analysis\n",
       "--------------\n",
       "[1] supp + dose + supp:dose : 1.02911 ±1.56%\n",
       "\n",
       "Against denominator:\n",
       "  len ~ supp + dose \n",
       "---\n",
       "Bayes factor type: BFlinearModel, JZS\n"
      ]
     },
     "metadata": {},
     "output_type": "display_data"
    }
   ],
   "source": [
    "full / noInteraction"
   ]
  },
  {
   "cell_type": "markdown",
   "metadata": {},
   "source": [
    "Even after direct comparison, there's no clear difference between the two models. "
   ]
  },
  {
   "cell_type": "markdown",
   "metadata": {},
   "source": [
    "# Problem set"
   ]
  },
  {
   "cell_type": "markdown",
   "metadata": {},
   "source": [
    "1) Using a built-in dataset, come up with a few viable alternative models and compute the BF for and against a null model. \n",
    "<br>\n",
    "2) Calculate the BF for and against a linear correlation between two variables.\n",
    "<br>\n",
    "3) Calculate the weight of evidence for a directional hypothesis using a Bayesian two-sample t-test. "
   ]
  },
  {
   "cell_type": "markdown",
   "metadata": {},
   "source": [
    "More on how to use the BayesFactor package [here](https://richarddmorey.github.io/BayesFactor/#help). "
   ]
  }
 ],
 "metadata": {
  "kernelspec": {
   "display_name": "R",
   "language": "R",
   "name": "ir"
  },
  "language_info": {
   "codemirror_mode": "r",
   "file_extension": ".r",
   "mimetype": "text/x-r-source",
   "name": "R",
   "pygments_lexer": "r",
   "version": "3.4.3"
  }
 },
 "nbformat": 4,
 "nbformat_minor": 2
}
